{
 "cells": [
  {
   "cell_type": "markdown",
   "metadata": {},
   "source": [
    "# DATA SCIENCE OVERVIEW\n",
    "Data science is fundamentally an interdisciplinary subject. Data science comprises three distinct and overlapping areas: \n",
    "1. the skills of a statistician who knows how to model and summarize datasets (which are growing ever larger); \n",
    "2. the skills of a computer scientist who can design and use algorithms to efficiently store, process, and visualize this data; and \n",
    "3. the domain expertise—what we might think of as “classical” training in a subject—necessary both to formulate the right questions and to put their answers in context.\n",
    "\n",
    "With this in mind, I would encourage you to think of data science not as a new domain of knowledge to learn, but as a new set of skills that you can apply within your current area of expertise. Whether you are reporting election results, forecasting stock returns, optimizing online ad clicks, identifying microorganisms in microscope\n",
    "photos, seeking new classes of astronomical objects, or working with data in any\n",
    "other field, the goal of this class is to give you the ability to ask and answer new ques‐\n",
    "tions about your chosen subject area."
   ]
  },
  {
   "cell_type": "code",
   "execution_count": null,
   "metadata": {},
   "outputs": [],
   "source": []
  },
  {
   "cell_type": "markdown",
   "metadata": {},
   "source": [
    "# Create a virtual environment for your project"
   ]
  },
  {
   "cell_type": "code",
   "execution_count": 1,
   "metadata": {},
   "outputs": [],
   "source": [
    "# install virtual environment into your python project using:\n",
    "# pip install virtualenv\n"
   ]
  },
  {
   "cell_type": "code",
   "execution_count": 2,
   "metadata": {},
   "outputs": [],
   "source": [
    "# create virtual environment folder for your project\n",
    "# virtualenv liberaryevironment\n",
    "# or\n",
    "# virtualenv --python=python3 projectName"
   ]
  },
  {
   "cell_type": "code",
   "execution_count": 3,
   "metadata": {},
   "outputs": [],
   "source": [
    "# activate the virtual environment for your project\n",
    "# projectName>Scripts\\activate\n",
    "# once you activate the environment your home promp should change to:\n",
    "# (projectName)C:"
   ]
  },
  {
   "cell_type": "code",
   "execution_count": 4,
   "metadata": {},
   "outputs": [],
   "source": [
    "# once you are through with the environment, you must deactivate before closing the prompt\n",
    "# (projecttName)C:/deactivate"
   ]
  },
  {
   "cell_type": "markdown",
   "metadata": {},
   "source": [
    "# Starting with Numpy Array Lib"
   ]
  },
  {
   "cell_type": "code",
   "execution_count": 1,
   "metadata": {},
   "outputs": [
    {
     "ename": "SyntaxError",
     "evalue": "invalid syntax (1700528240.py, line 7)",
     "output_type": "error",
     "traceback": [
      "\u001b[1;36m  File \u001b[1;32m\"C:\\Users\\HP\\AppData\\Local\\Temp\\ipykernel_17208\\1700528240.py\"\u001b[1;36m, line \u001b[1;32m7\u001b[0m\n\u001b[1;33m    pip install numpy\u001b[0m\n\u001b[1;37m        ^\u001b[0m\n\u001b[1;31mSyntaxError\u001b[0m\u001b[1;31m:\u001b[0m invalid syntax\n"
     ]
    }
   ],
   "source": [
    "# To install numpy library use\n",
    "# pip install numpy\n",
    "# or using conda installer\n",
    "# conda install numpy\n",
    "# To install a particular version of numpy use:\n",
    "# pip install numpy==1.14.1"
   ]
  },
  {
   "cell_type": "code",
   "execution_count": 1,
   "metadata": {},
   "outputs": [],
   "source": [
    "# import numpy to start using numpy packageii\n",
    "import numpy as np"
   ]
  },
  {
   "cell_type": "code",
   "execution_count": 2,
   "metadata": {},
   "outputs": [
    {
     "data": {
      "text/plain": [
       "'1.24.2'"
      ]
     },
     "execution_count": 2,
     "metadata": {},
     "output_type": "execute_result"
    }
   ],
   "source": [
    "# get the version of numpy package\n",
    "np.__version__\n",
    "\n",
    "# type \"python.exe -m pip install --upgrade numpy\" or \"pip install --upgrade numpy\" to upgrade to latest version"
   ]
  },
  {
   "cell_type": "code",
   "execution_count": 8,
   "metadata": {
    "scrolled": true
   },
   "outputs": [
    {
     "data": {
      "text/plain": [
       "<function numpy.sum(a, axis=None, dtype=None, out=None, keepdims=<no value>, initial=<no value>, where=<no value>)>"
      ]
     },
     "execution_count": 8,
     "metadata": {},
     "output_type": "execute_result"
    }
   ],
   "source": [
    "# To see all attributes and functions of numpy type np. and press tab key\n",
    "np.sum"
   ]
  },
  {
   "cell_type": "code",
   "execution_count": 9,
   "metadata": {},
   "outputs": [],
   "source": [
    "# To get help concerning any numpy function e.g\n",
    "np.sum?"
   ]
  },
  {
   "cell_type": "code",
   "execution_count": 10,
   "metadata": {},
   "outputs": [
    {
     "name": "stdout",
     "output_type": "stream",
     "text": [
      "[1, '2', 3, False, 5, '6', 7, 8, 9]\n"
     ]
    }
   ],
   "source": [
    "# creating list in python\n",
    "L = list((1,'2',3,False,5,'6',7,8,9))\n",
    "print(L)"
   ]
  },
  {
   "cell_type": "code",
   "execution_count": 11,
   "metadata": {},
   "outputs": [
    {
     "data": {
      "text/plain": [
       "list"
      ]
     },
     "execution_count": 11,
     "metadata": {},
     "output_type": "execute_result"
    }
   ],
   "source": [
    "#check for the data type of element of a list\n",
    "type(L)"
   ]
  },
  {
   "cell_type": "code",
   "execution_count": 12,
   "metadata": {},
   "outputs": [
    {
     "data": {
      "text/plain": [
       "bool"
      ]
     },
     "execution_count": 12,
     "metadata": {},
     "output_type": "execute_result"
    }
   ],
   "source": [
    "#get the data type of each item at a specific index\n",
    "type(L[3])"
   ]
  },
  {
   "cell_type": "code",
   "execution_count": 13,
   "metadata": {},
   "outputs": [
    {
     "data": {
      "text/plain": [
       "[int, str, int, bool, int, str, int, int, int]"
      ]
     },
     "execution_count": 13,
     "metadata": {},
     "output_type": "execute_result"
    }
   ],
   "source": [
    "#get the data type of each items by looping over\n",
    "L2 = [type(i) for i in L]\n",
    "L2\n",
    "# this is equivalent to:\n",
    "# L2 = []\n",
    "# for i in L:\n",
    "#     L2.append(type(i))\n",
    "# L2"
   ]
  },
  {
   "cell_type": "code",
   "execution_count": 14,
   "metadata": {},
   "outputs": [
    {
     "data": {
      "text/plain": [
       "['1', '2', '3', 'False', '5', '6', '7', '8', '9']"
      ]
     },
     "execution_count": 14,
     "metadata": {},
     "output_type": "execute_result"
    }
   ],
   "source": [
    "#convert all item in the list to string\n",
    "L3 = [str(c) for c in L]\n",
    "L3"
   ]
  },
  {
   "cell_type": "code",
   "execution_count": 15,
   "metadata": {},
   "outputs": [
    {
     "name": "stdout",
     "output_type": "stream",
     "text": [
      "55.3 ns ± 4.51 ns per loop (mean ± std. dev. of 7 runs, 10000000 loops each)\n"
     ]
    }
   ],
   "source": [
    "#check time of execution\n",
    "%timeit L3"
   ]
  },
  {
   "cell_type": "code",
   "execution_count": 9,
   "metadata": {},
   "outputs": [
    {
     "data": {
      "text/plain": [
       "array('b', [1, 2, 3, 4, 5, 6, 7, 8, 9, 10])"
      ]
     },
     "execution_count": 9,
     "metadata": {},
     "output_type": "execute_result"
    }
   ],
   "source": [
    "# create an array of fixed type integer using array object (must be b, B, u, h, H, i, I, l, L, q, Q, f or d)\n",
    "import array\n",
    "# print(help(array.array))\n",
    "ft = array.array('b',list(range(1, 11)))\n",
    "ft"
   ]
  },
  {
   "cell_type": "code",
   "execution_count": 17,
   "metadata": {},
   "outputs": [
    {
     "data": {
      "text/plain": [
       "['i', [1, 2, 3, 4, 5, 6, 7, 8]]"
      ]
     },
     "execution_count": 17,
     "metadata": {},
     "output_type": "execute_result"
    }
   ],
   "source": [
    "m = [\"i\",[1,2,3,4,5,6,7,8]]\n",
    "m"
   ]
  },
  {
   "cell_type": "code",
   "execution_count": 8,
   "metadata": {},
   "outputs": [
    {
     "data": {
      "text/plain": [
       "array('i', [2, 4, 3, 0])"
      ]
     },
     "execution_count": 8,
     "metadata": {},
     "output_type": "execute_result"
    }
   ],
   "source": [
    "ft = array.array('i', [2, 4, 3, False])\n",
    "ft"
   ]
  },
  {
   "cell_type": "code",
   "execution_count": 10,
   "metadata": {},
   "outputs": [
    {
     "data": {
      "text/plain": [
       "array('u', 'tmn')"
      ]
     },
     "execution_count": 10,
     "metadata": {},
     "output_type": "execute_result"
    }
   ],
   "source": [
    "# create an array of fixed type string using array object \n",
    "st = array.array('u', ['t', 'm', 'n'])\n",
    "st"
   ]
  },
  {
   "cell_type": "code",
   "execution_count": 9,
   "metadata": {},
   "outputs": [
    {
     "data": {
      "text/plain": [
       "array(['t', 'm', 'n'], dtype='<U1')"
      ]
     },
     "execution_count": 9,
     "metadata": {},
     "output_type": "execute_result"
    }
   ],
   "source": [
    "# import numpy as np\n",
    "mm = np.array(['t', 'm', 'n'])\n",
    "mm"
   ]
  },
  {
   "cell_type": "code",
   "execution_count": 12,
   "metadata": {},
   "outputs": [
    {
     "data": {
      "text/plain": [
       "array([1. , 0. , 3. , 5. , 6. , 3.4, 8. , 9. ])"
      ]
     },
     "execution_count": 12,
     "metadata": {},
     "output_type": "execute_result"
    }
   ],
   "source": [
    "#create a numpy array\n",
    "npa = np.array([1,False,3,5,6,3.4,8,9])\n",
    "npa"
   ]
  },
  {
   "cell_type": "code",
   "execution_count": 13,
   "metadata": {},
   "outputs": [
    {
     "data": {
      "text/plain": [
       "dtype('float64')"
      ]
     },
     "execution_count": 13,
     "metadata": {},
     "output_type": "execute_result"
    }
   ],
   "source": [
    "# check for the dtype\n",
    "npa.dtype"
   ]
  },
  {
   "cell_type": "code",
   "execution_count": 14,
   "metadata": {},
   "outputs": [
    {
     "data": {
      "text/plain": [
       "array([1, 2, 3, 6, 0, 3])"
      ]
     },
     "execution_count": 14,
     "metadata": {},
     "output_type": "execute_result"
    }
   ],
   "source": [
    "#setting a fixed dtype for an array\n",
    "mmm =np.array([1,2,3,'6',False, 3.5], dtype='int32')\n",
    "mmm"
   ]
  },
  {
   "cell_type": "code",
   "execution_count": 15,
   "metadata": {},
   "outputs": [
    {
     "data": {
      "text/plain": [
       "dtype('int32')"
      ]
     },
     "execution_count": 15,
     "metadata": {},
     "output_type": "execute_result"
    }
   ],
   "source": [
    "mmm.dtype"
   ]
  },
  {
   "cell_type": "code",
   "execution_count": 16,
   "metadata": {},
   "outputs": [
    {
     "data": {
      "text/plain": [
       "array(['name', 'location', 'address', 'phone', '8.9'], dtype='<U8')"
      ]
     },
     "execution_count": 16,
     "metadata": {},
     "output_type": "execute_result"
    }
   ],
   "source": [
    "# create array of string setting dtype to string\n",
    "o =np.array(['name', 'location','address', 'phone', 8.9], dtype='<U')\n",
    "o"
   ]
  },
  {
   "cell_type": "code",
   "execution_count": 17,
   "metadata": {},
   "outputs": [
    {
     "ename": "ValueError",
     "evalue": "could not convert string to float: 'phone'",
     "output_type": "error",
     "traceback": [
      "\u001b[1;31m---------------------------------------------------------------------------\u001b[0m",
      "\u001b[1;31mValueError\u001b[0m                                Traceback (most recent call last)",
      "\u001b[1;32m<ipython-input-17-52f2940e7367>\u001b[0m in \u001b[0;36m<module>\u001b[1;34m\u001b[0m\n\u001b[0;32m      1\u001b[0m \u001b[1;31m# if the data type is inconvertible it will lead an error\u001b[0m\u001b[1;33m\u001b[0m\u001b[1;33m\u001b[0m\u001b[1;33m\u001b[0m\u001b[0m\n\u001b[1;32m----> 2\u001b[1;33m \u001b[0mnp\u001b[0m\u001b[1;33m.\u001b[0m\u001b[0marray\u001b[0m\u001b[1;33m(\u001b[0m\u001b[1;33m[\u001b[0m\u001b[1;34m'4.6'\u001b[0m\u001b[1;33m,\u001b[0m \u001b[1;36m45\u001b[0m\u001b[1;33m,\u001b[0m\u001b[1;36m32\u001b[0m\u001b[1;33m,\u001b[0m \u001b[1;34m'phone'\u001b[0m\u001b[1;33m,\u001b[0m \u001b[1;36m8.9\u001b[0m\u001b[1;33m]\u001b[0m\u001b[1;33m,\u001b[0m \u001b[0mdtype\u001b[0m\u001b[1;33m=\u001b[0m\u001b[1;34m'float64'\u001b[0m\u001b[1;33m)\u001b[0m\u001b[1;33m\u001b[0m\u001b[1;33m\u001b[0m\u001b[0m\n\u001b[0m",
      "\u001b[1;31mValueError\u001b[0m: could not convert string to float: 'phone'"
     ]
    }
   ],
   "source": [
    "# if the data type is inconvertible it will lead an error\n",
    "np.array(['4.6', 45,32, 'phone', 8.9], dtype='float64')"
   ]
  },
  {
   "cell_type": "code",
   "execution_count": 20,
   "metadata": {},
   "outputs": [
    {
     "data": {
      "text/plain": [
       "array(['4.6', '45', '32', 'phone', '8.9', 'False'], dtype='<U32')"
      ]
     },
     "execution_count": 20,
     "metadata": {},
     "output_type": "execute_result"
    }
   ],
   "source": [
    "# if the data type is not fix to a type it will convert it to nearest convertible type\n",
    "np.array(['4.6', 45,32, 'phone', 8.9, False])"
   ]
  },
  {
   "cell_type": "markdown",
   "metadata": {},
   "source": [
    "# Creating Array from scratch"
   ]
  },
  {
   "cell_type": "code",
   "execution_count": 18,
   "metadata": {},
   "outputs": [
    {
     "data": {
      "text/plain": [
       "array([0, 0, 0, 0, 0, 0, 0, 0, 0, 0])"
      ]
     },
     "execution_count": 18,
     "metadata": {},
     "output_type": "execute_result"
    }
   ],
   "source": [
    "#create array of length 10 filled with zero values\n",
    "np.zeros(10, dtype=int)"
   ]
  },
  {
   "cell_type": "code",
   "execution_count": 24,
   "metadata": {},
   "outputs": [
    {
     "data": {
      "text/plain": [
       "array([[0, 0, 0, 0, 0],\n",
       "       [0, 0, 0, 0, 0],\n",
       "       [0, 0, 0, 0, 0],\n",
       "       [0, 0, 0, 0, 0],\n",
       "       [0, 0, 0, 0, 0],\n",
       "       [0, 0, 0, 0, 0],\n",
       "       [0, 0, 0, 0, 0],\n",
       "       [0, 0, 0, 0, 0],\n",
       "       [0, 0, 0, 0, 0],\n",
       "       [0, 0, 0, 0, 0]])"
      ]
     },
     "execution_count": 24,
     "metadata": {},
     "output_type": "execute_result"
    }
   ],
   "source": [
    "# create multidimention array of zeros \n",
    "np.zeros((10,5), dtype=int)"
   ]
  },
  {
   "cell_type": "code",
   "execution_count": 25,
   "metadata": {},
   "outputs": [
    {
     "data": {
      "text/plain": [
       "array([1., 1., 1., 1., 1., 1., 1., 1., 1., 1.])"
      ]
     },
     "execution_count": 25,
     "metadata": {},
     "output_type": "execute_result"
    }
   ],
   "source": [
    "# create array of length 10 filled with one\n",
    "np.ones(10, dtype=float)"
   ]
  },
  {
   "cell_type": "code",
   "execution_count": 26,
   "metadata": {},
   "outputs": [
    {
     "data": {
      "text/plain": [
       "array([[1., 1., 1., 1., 1.],\n",
       "       [1., 1., 1., 1., 1.],\n",
       "       [1., 1., 1., 1., 1.]])"
      ]
     },
     "execution_count": 26,
     "metadata": {},
     "output_type": "execute_result"
    }
   ],
   "source": [
    "#creat array of 3x5 of all ones\n",
    "np.ones((3,5), dtype=float)"
   ]
  },
  {
   "cell_type": "code",
   "execution_count": 27,
   "metadata": {},
   "outputs": [
    {
     "data": {
      "text/plain": [
       "array([[4, 4, 4, 4, 4],\n",
       "       [4, 4, 4, 4, 4],\n",
       "       [4, 4, 4, 4, 4]])"
      ]
     },
     "execution_count": 27,
     "metadata": {},
     "output_type": "execute_result"
    }
   ],
   "source": [
    "#creat array of 3x5 with a pecified values\n",
    "np.full((3,5), 4)"
   ]
  },
  {
   "cell_type": "code",
   "execution_count": 28,
   "metadata": {},
   "outputs": [
    {
     "data": {
      "text/plain": [
       "array([ 0,  1,  2,  3,  4,  5,  6,  7,  8,  9, 10, 11, 12, 13, 14, 15, 16,\n",
       "       17, 18, 19])"
      ]
     },
     "execution_count": 28,
     "metadata": {},
     "output_type": "execute_result"
    }
   ],
   "source": [
    "#create array of range of values\n",
    "np.arange(20)"
   ]
  },
  {
   "cell_type": "code",
   "execution_count": 29,
   "metadata": {},
   "outputs": [
    {
     "data": {
      "text/plain": [
       "array([ 1,  2,  3,  4,  5,  6,  7,  8,  9, 10, 11, 12, 13, 14, 15, 16, 17,\n",
       "       18, 19])"
      ]
     },
     "execution_count": 29,
     "metadata": {},
     "output_type": "execute_result"
    }
   ],
   "source": [
    "# create array of range of values by specifying the starting point.\n",
    "np.arange(1, 20)"
   ]
  },
  {
   "cell_type": "code",
   "execution_count": 30,
   "metadata": {},
   "outputs": [
    {
     "data": {
      "text/plain": [
       "array([ 1,  3,  5,  7,  9, 11, 13, 15, 17, 19])"
      ]
     },
     "execution_count": 30,
     "metadata": {},
     "output_type": "execute_result"
    }
   ],
   "source": [
    "# create array of range of values by specifying the step \n",
    "np.arange(1,20,2)"
   ]
  },
  {
   "cell_type": "code",
   "execution_count": 19,
   "metadata": {},
   "outputs": [
    {
     "data": {
      "text/plain": [
       "array([0.  , 0.25, 0.5 , 0.75, 1.  ])"
      ]
     },
     "execution_count": 19,
     "metadata": {},
     "output_type": "execute_result"
    }
   ],
   "source": [
    "# create an array of specified length uniformly spaced between specified minimum and maximum value\n",
    "# e.g create an array of five values uniformly spaced between 0 and 1\n",
    "np.linspace(0, 1, 5)"
   ]
  },
  {
   "cell_type": "code",
   "execution_count": 3,
   "metadata": {},
   "outputs": [
    {
     "data": {
      "text/plain": [
       "array([[0.26842378, 0.43610436, 0.70754489],\n",
       "       [0.60803869, 0.98615516, 0.61057571],\n",
       "       [0.53071031, 0.97488434, 0.87486182]])"
      ]
     },
     "execution_count": 3,
     "metadata": {},
     "output_type": "execute_result"
    }
   ],
   "source": [
    "#create a 3x3 array of uniformly distributed between 0 and 1\n",
    "# print(help(np.random))\n",
    "np.random.random((3,3))"
   ]
  },
  {
   "cell_type": "code",
   "execution_count": 35,
   "metadata": {},
   "outputs": [
    {
     "data": {
      "text/plain": [
       "array([[  1.273139  ,   2.58566666,  -1.07189362],\n",
       "       [  8.25930439,   1.98189882,  -3.62782178],\n",
       "       [ -8.0804231 ,  -5.77169388, -14.29978094]])"
      ]
     },
     "execution_count": 35,
     "metadata": {},
     "output_type": "execute_result"
    }
   ],
   "source": [
    "#create a 3x3 array of normally distributed random values with mean 0 and standard deviation \n",
    "np.random.normal(0,6,(3,3))"
   ]
  },
  {
   "cell_type": "code",
   "execution_count": 10,
   "metadata": {},
   "outputs": [
    {
     "data": {
      "text/plain": [
       "2"
      ]
     },
     "execution_count": 10,
     "metadata": {},
     "output_type": "execute_result"
    }
   ],
   "source": [
    "#create a random integers in the interval of 0 and 10\n",
    "np.random.randint(0,10)"
   ]
  },
  {
   "cell_type": "code",
   "execution_count": 13,
   "metadata": {},
   "outputs": [
    {
     "data": {
      "text/plain": [
       "13604"
      ]
     },
     "execution_count": 13,
     "metadata": {},
     "output_type": "execute_result"
    }
   ],
   "source": [
    "#create a random integers of 5 digis in the interval of 1 and 500000\n",
    "np.random.randint(10000, 50000)"
   ]
  },
  {
   "cell_type": "code",
   "execution_count": 16,
   "metadata": {},
   "outputs": [
    {
     "data": {
      "text/plain": [
       "array([7, 9, 7, 6, 3])"
      ]
     },
     "execution_count": 16,
     "metadata": {},
     "output_type": "execute_result"
    }
   ],
   "source": [
    "#create an array five lengths of random integers in the interval of 0 and 10\n",
    "np.random.randint(0,10,5)"
   ]
  },
  {
   "cell_type": "code",
   "execution_count": 42,
   "metadata": {},
   "outputs": [
    {
     "data": {
      "text/plain": [
       "array([[3, 5, 3],\n",
       "       [1, 5, 2],\n",
       "       [5, 8, 1]])"
      ]
     },
     "execution_count": 42,
     "metadata": {},
     "output_type": "execute_result"
    }
   ],
   "source": [
    "#create 3x3 array of random integers in the interval of 0 and 10\n",
    "np.random.randint(0,10,(3,3))"
   ]
  },
  {
   "cell_type": "code",
   "execution_count": 17,
   "metadata": {},
   "outputs": [
    {
     "data": {
      "text/plain": [
       "array([[1., 0., 0., 0., 0.],\n",
       "       [0., 1., 0., 0., 0.],\n",
       "       [0., 0., 1., 0., 0.],\n",
       "       [0., 0., 0., 1., 0.],\n",
       "       [0., 0., 0., 0., 1.]])"
      ]
     },
     "execution_count": 17,
     "metadata": {},
     "output_type": "execute_result"
    }
   ],
   "source": [
    "#create a 3x3 identity matrix\n",
    "np.eye(5)"
   ]
  },
  {
   "cell_type": "code",
   "execution_count": 25,
   "metadata": {},
   "outputs": [
    {
     "data": {
      "text/plain": [
       "array([0.  , 0.25, 0.5 , 0.75, 1.  ])"
      ]
     },
     "execution_count": 25,
     "metadata": {},
     "output_type": "execute_result"
    }
   ],
   "source": [
    "# create an uninitialized array of five integers. \n",
    "# the values will be whatever happens to already exist at at hat memory location\n",
    "np.empty(5)"
   ]
  },
  {
   "cell_type": "code",
   "execution_count": 26,
   "metadata": {},
   "outputs": [
    {
     "data": {
      "text/plain": [
       "array([8, 8, 6, 2, 8])"
      ]
     },
     "execution_count": 26,
     "metadata": {},
     "output_type": "execute_result"
    }
   ],
   "source": [
    "np.random.seed(2) #to make the random display same value always\n",
    "x1 = np.random.randint(10, size=5)\n",
    "x1"
   ]
  },
  {
   "cell_type": "code",
   "execution_count": 33,
   "metadata": {},
   "outputs": [
    {
     "data": {
      "text/plain": [
       "array([6, 3, 7, 4, 6, 9])"
      ]
     },
     "execution_count": 33,
     "metadata": {},
     "output_type": "execute_result"
    }
   ],
   "source": [
    "rng = np.random.RandomState(42)\n",
    "x1 = rng.randint(10, size=6)\n",
    "x1"
   ]
  },
  {
   "cell_type": "code",
   "execution_count": 34,
   "metadata": {},
   "outputs": [
    {
     "data": {
      "text/plain": [
       "array([1, 3, 5, 6, 8])"
      ]
     },
     "execution_count": 34,
     "metadata": {},
     "output_type": "execute_result"
    }
   ],
   "source": [
    "# create np array manually\n",
    "np.array([1, 3, 5, 6, 8])"
   ]
  },
  {
   "cell_type": "code",
   "execution_count": 37,
   "metadata": {},
   "outputs": [
    {
     "data": {
      "text/plain": [
       "array([[ 1,  2,  3,  4,  5],\n",
       "       [ 6,  7,  8,  9, 10],\n",
       "       [11, 12, 13, 14, 15]])"
      ]
     },
     "execution_count": 37,
     "metadata": {},
     "output_type": "execute_result"
    }
   ],
   "source": [
    "# creating multidemension array \n",
    "np.array([[1,2,3,4,5],[6,7,8,9,10],[11,12,13,14,15]])"
   ]
  },
  {
   "cell_type": "markdown",
   "metadata": {},
   "source": [
    "# checking for the attributes of np array e.g size, shape, dimension, itemsize, array byte size and dtype"
   ]
  },
  {
   "cell_type": "code",
   "execution_count": 3,
   "metadata": {
    "scrolled": true
   },
   "outputs": [
    {
     "data": {
      "text/plain": [
       "array([[0, 1, 6, 9],\n",
       "       [9, 5, 5, 1],\n",
       "       [3, 6, 3, 7]])"
      ]
     },
     "execution_count": 3,
     "metadata": {},
     "output_type": "execute_result"
    }
   ],
   "source": [
    "x2 = np.random.randint(10, size=(3,4))\n",
    "x2"
   ]
  },
  {
   "cell_type": "code",
   "execution_count": 12,
   "metadata": {},
   "outputs": [
    {
     "data": {
      "text/plain": [
       "12"
      ]
     },
     "execution_count": 12,
     "metadata": {},
     "output_type": "execute_result"
    }
   ],
   "source": [
    "x2.size"
   ]
  },
  {
   "cell_type": "code",
   "execution_count": 15,
   "metadata": {},
   "outputs": [
    {
     "data": {
      "text/plain": [
       "array([[4, 5, 4, 0, 6],\n",
       "       [0, 6, 7, 7, 6],\n",
       "       [4, 6, 8, 6, 2],\n",
       "       [5, 0, 4, 4, 9],\n",
       "       [9, 4, 8, 3, 1],\n",
       "       [9, 8, 5, 8, 9]])"
      ]
     },
     "execution_count": 15,
     "metadata": {},
     "output_type": "execute_result"
    }
   ],
   "source": [
    "x5 = np.random.randint(10, size=(6,5))\n",
    "x5"
   ]
  },
  {
   "cell_type": "code",
   "execution_count": 16,
   "metadata": {},
   "outputs": [
    {
     "data": {
      "text/plain": [
       "4"
      ]
     },
     "execution_count": 16,
     "metadata": {},
     "output_type": "execute_result"
    }
   ],
   "source": [
    "x5.itemsize"
   ]
  },
  {
   "cell_type": "code",
   "execution_count": 17,
   "metadata": {},
   "outputs": [
    {
     "data": {
      "text/plain": [
       "array([[1, 4, 7, 5, 7],\n",
       "       [2, 0, 5, 6, 2],\n",
       "       [5, 0, 0, 0, 9],\n",
       "       [8, 5, 4, 8, 2]])"
      ]
     },
     "execution_count": 17,
     "metadata": {},
     "output_type": "execute_result"
    }
   ],
   "source": [
    "x3 = np.random.randint(10, size=(4,4,5))\n",
    "x3[0]"
   ]
  },
  {
   "cell_type": "code",
   "execution_count": 18,
   "metadata": {},
   "outputs": [
    {
     "data": {
      "text/plain": [
       "array([[[1, 4, 7, 5, 7],\n",
       "        [2, 0, 5, 6, 2],\n",
       "        [5, 0, 0, 0, 9],\n",
       "        [8, 5, 4, 8, 2]],\n",
       "\n",
       "       [[7, 1, 9, 7, 6],\n",
       "        [9, 0, 6, 6, 8],\n",
       "        [7, 9, 4, 7, 0],\n",
       "        [9, 7, 8, 8, 4]],\n",
       "\n",
       "       [[3, 2, 9, 7, 8],\n",
       "        [0, 2, 0, 6, 6],\n",
       "        [4, 5, 7, 7, 6],\n",
       "        [6, 0, 6, 6, 6]],\n",
       "\n",
       "       [[2, 3, 9, 5, 8],\n",
       "        [4, 4, 5, 7, 9],\n",
       "        [5, 0, 3, 8, 4],\n",
       "        [4, 9, 5, 0, 7]]])"
      ]
     },
     "execution_count": 18,
     "metadata": {},
     "output_type": "execute_result"
    }
   ],
   "source": [
    "x3"
   ]
  },
  {
   "cell_type": "code",
   "execution_count": 19,
   "metadata": {},
   "outputs": [
    {
     "data": {
      "text/plain": [
       "3"
      ]
     },
     "execution_count": 19,
     "metadata": {},
     "output_type": "execute_result"
    }
   ],
   "source": [
    "# what is the dimension of x3?\n",
    "x3.ndim"
   ]
  },
  {
   "cell_type": "code",
   "execution_count": 20,
   "metadata": {},
   "outputs": [
    {
     "data": {
      "text/plain": [
       "(4, 4, 5)"
      ]
     },
     "execution_count": 20,
     "metadata": {},
     "output_type": "execute_result"
    }
   ],
   "source": [
    "# what is the shape of x3?\n",
    "x3.shape"
   ]
  },
  {
   "cell_type": "code",
   "execution_count": 21,
   "metadata": {},
   "outputs": [
    {
     "data": {
      "text/plain": [
       "80"
      ]
     },
     "execution_count": 21,
     "metadata": {},
     "output_type": "execute_result"
    }
   ],
   "source": [
    "# what is the length of the array x3? **\n",
    "x3.size"
   ]
  },
  {
   "cell_type": "code",
   "execution_count": 42,
   "metadata": {},
   "outputs": [
    {
     "data": {
      "text/plain": [
       "dtype('int32')"
      ]
     },
     "execution_count": 42,
     "metadata": {},
     "output_type": "execute_result"
    }
   ],
   "source": [
    "# what is the data type of array x3?\n",
    "x3.dtype"
   ]
  },
  {
   "cell_type": "code",
   "execution_count": 44,
   "metadata": {},
   "outputs": [
    {
     "data": {
      "text/plain": [
       "4"
      ]
     },
     "execution_count": 44,
     "metadata": {},
     "output_type": "execute_result"
    }
   ],
   "source": [
    "# itemsize is talking about the bit of each items in array x3 **\n",
    "x3.itemsize"
   ]
  },
  {
   "cell_type": "code",
   "execution_count": 45,
   "metadata": {},
   "outputs": [
    {
     "data": {
      "text/plain": [
       "320"
      ]
     },
     "execution_count": 45,
     "metadata": {},
     "output_type": "execute_result"
    }
   ],
   "source": [
    "# nbytes is the bit of the each items in x3 added together which is equal to bit of x3\n",
    "x3.nbytes"
   ]
  },
  {
   "cell_type": "code",
   "execution_count": 46,
   "metadata": {},
   "outputs": [
    {
     "data": {
      "text/plain": [
       "array(['sa', 'we', 'yo', '6', 'joel'], dtype='<U4')"
      ]
     },
     "execution_count": 46,
     "metadata": {},
     "output_type": "execute_result"
    }
   ],
   "source": [
    "# create np array of strings\n",
    "x4= np.array(['sa','we','yo','6','joel'])\n",
    "x4"
   ]
  },
  {
   "cell_type": "code",
   "execution_count": 47,
   "metadata": {},
   "outputs": [
    {
     "data": {
      "text/plain": [
       "16"
      ]
     },
     "execution_count": 47,
     "metadata": {},
     "output_type": "execute_result"
    }
   ],
   "source": [
    "# what is the bit of each item?\n",
    "x4.itemsize"
   ]
  },
  {
   "cell_type": "code",
   "execution_count": 48,
   "metadata": {},
   "outputs": [
    {
     "data": {
      "text/plain": [
       "80"
      ]
     },
     "execution_count": 48,
     "metadata": {},
     "output_type": "execute_result"
    }
   ],
   "source": [
    "# what is the total bit of x4? *\n",
    "x4.nbytes\n"
   ]
  },
  {
   "cell_type": "markdown",
   "metadata": {},
   "source": [
    "# indenxing an np Array"
   ]
  },
  {
   "cell_type": "code",
   "execution_count": 49,
   "metadata": {},
   "outputs": [
    {
     "data": {
      "text/plain": [
       "array([6, 3, 7, 4, 6, 9])"
      ]
     },
     "execution_count": 49,
     "metadata": {},
     "output_type": "execute_result"
    }
   ],
   "source": [
    "# working with one dimension np array\n",
    "x1"
   ]
  },
  {
   "cell_type": "code",
   "execution_count": 50,
   "metadata": {},
   "outputs": [
    {
     "data": {
      "text/plain": [
       "6"
      ]
     },
     "execution_count": 50,
     "metadata": {},
     "output_type": "execute_result"
    }
   ],
   "source": [
    "# np array can be indexed with negative indexing\n",
    "x1[-2]"
   ]
  },
  {
   "cell_type": "code",
   "execution_count": 51,
   "metadata": {},
   "outputs": [
    {
     "data": {
      "text/plain": [
       "4"
      ]
     },
     "execution_count": 51,
     "metadata": {},
     "output_type": "execute_result"
    }
   ],
   "source": [
    "# get the value at index of 3\n",
    "x1[3]"
   ]
  },
  {
   "cell_type": "code",
   "execution_count": 52,
   "metadata": {},
   "outputs": [
    {
     "data": {
      "text/plain": [
       "array([6, 3, 7, 4, 8, 9])"
      ]
     },
     "execution_count": 52,
     "metadata": {},
     "output_type": "execute_result"
    }
   ],
   "source": [
    "# you can modify the value of an np array\n",
    "x1[4] = 8\n",
    "x1"
   ]
  },
  {
   "cell_type": "code",
   "execution_count": 5,
   "metadata": {},
   "outputs": [
    {
     "data": {
      "text/plain": [
       "array([[0, 1, 6, 9],\n",
       "       [9, 5, 5, 1],\n",
       "       [3, 6, 3, 7]])"
      ]
     },
     "execution_count": 5,
     "metadata": {},
     "output_type": "execute_result"
    }
   ],
   "source": [
    "# working 2 dimension np array\n",
    "x2\n",
    "# [[6,2,3,9], [2,9,5,4], [8,1,1,0]]"
   ]
  },
  {
   "cell_type": "code",
   "execution_count": 9,
   "metadata": {},
   "outputs": [
    {
     "data": {
      "text/plain": [
       "7"
      ]
     },
     "execution_count": 9,
     "metadata": {},
     "output_type": "execute_result"
    }
   ],
   "source": [
    "#get the value at index row=1 and column=2\n",
    "x2[2, 3]"
   ]
  },
  {
   "cell_type": "code",
   "execution_count": 59,
   "metadata": {},
   "outputs": [
    {
     "data": {
      "text/plain": [
       "array([[7, 2, 1, 5],\n",
       "       [4, 4, 5, 7],\n",
       "       [3, 6, 4, 3]])"
      ]
     },
     "execution_count": 59,
     "metadata": {},
     "output_type": "execute_result"
    }
   ],
   "source": [
    "x2"
   ]
  },
  {
   "cell_type": "code",
   "execution_count": 56,
   "metadata": {
    "scrolled": true
   },
   "outputs": [
    {
     "data": {
      "text/plain": [
       "array([[ 7,  2,  1,  5],\n",
       "       [ 4,  4,  5,  7],\n",
       "       [ 3, 15,  4,  3]])"
      ]
     },
     "execution_count": 56,
     "metadata": {},
     "output_type": "execute_result"
    }
   ],
   "source": [
    "#change the value that exit at index of row=0 and column=-2\n",
    "x2[-1,-3]= 15\n",
    "x2"
   ]
  },
  {
   "cell_type": "markdown",
   "metadata": {},
   "source": [
    "# Slicing np array"
   ]
  },
  {
   "cell_type": "code",
   "execution_count": 57,
   "metadata": {},
   "outputs": [
    {
     "data": {
      "text/plain": [
       "array([0, 1, 2, 3, 4, 5, 6, 7, 8, 9])"
      ]
     },
     "execution_count": 57,
     "metadata": {},
     "output_type": "execute_result"
    }
   ],
   "source": [
    "#create an np array of range between 0 and 10\n",
    "x= np.arange(10)\n",
    "x"
   ]
  },
  {
   "cell_type": "code",
   "execution_count": 58,
   "metadata": {},
   "outputs": [
    {
     "data": {
      "text/plain": [
       "array([1, 4, 7])"
      ]
     },
     "execution_count": 58,
     "metadata": {},
     "output_type": "execute_result"
    }
   ],
   "source": [
    "#slicing x array from index 1 to the end at step of 2\n",
    "x[1::3]     \n",
    "# x[1:4]"
   ]
  },
  {
   "cell_type": "code",
   "execution_count": 59,
   "metadata": {},
   "outputs": [
    {
     "data": {
      "text/plain": [
       "array([3, 4, 5, 6, 7, 8, 9])"
      ]
     },
     "execution_count": 59,
     "metadata": {},
     "output_type": "execute_result"
    }
   ],
   "source": [
    "#slice x array from index 3 to the end\n",
    "x[3:]"
   ]
  },
  {
   "cell_type": "code",
   "execution_count": 62,
   "metadata": {},
   "outputs": [
    {
     "data": {
      "text/plain": [
       "array([0, 1, 2, 3, 4, 5, 6, 7, 8, 9])"
      ]
     },
     "execution_count": 62,
     "metadata": {},
     "output_type": "execute_result"
    }
   ],
   "source": [
    "#slice x array from index 3 to 7\n",
    "# x[3:7]\n",
    "x"
   ]
  },
  {
   "cell_type": "code",
   "execution_count": 63,
   "metadata": {},
   "outputs": [
    {
     "data": {
      "text/plain": [
       "array([0, 2, 4, 6, 8])"
      ]
     },
     "execution_count": 63,
     "metadata": {},
     "output_type": "execute_result"
    }
   ],
   "source": [
    "#slice x array from begining to the end at step of 2\n",
    "x[::2]"
   ]
  },
  {
   "cell_type": "code",
   "execution_count": 66,
   "metadata": {},
   "outputs": [
    {
     "name": "stdout",
     "output_type": "stream",
     "text": [
      "[0 1 2 3 4 5 6 7 8 9]\n"
     ]
    },
    {
     "data": {
      "text/plain": [
       "array([9, 7, 5, 3, 1])"
      ]
     },
     "execution_count": 66,
     "metadata": {},
     "output_type": "execute_result"
    }
   ],
   "source": [
    "#reverse the order of x array\n",
    "print(x[::])\n",
    "x[::-2]"
   ]
  },
  {
   "cell_type": "code",
   "execution_count": 4,
   "metadata": {},
   "outputs": [
    {
     "data": {
      "text/plain": [
       "array([[0, 1, 6, 9],\n",
       "       [9, 5, 5, 1],\n",
       "       [3, 6, 3, 7]])"
      ]
     },
     "execution_count": 4,
     "metadata": {},
     "output_type": "execute_result"
    }
   ],
   "source": [
    "# working with multidimension np array\n",
    "x2"
   ]
  },
  {
   "cell_type": "code",
   "execution_count": 68,
   "metadata": {},
   "outputs": [
    {
     "data": {
      "text/plain": [
       "array([[ 3, 15,  4,  3],\n",
       "       [ 4,  4,  5,  7],\n",
       "       [ 7,  2,  1,  5]])"
      ]
     },
     "execution_count": 68,
     "metadata": {},
     "output_type": "execute_result"
    }
   ],
   "source": [
    "# reverse the order of x2 array along the rows\n",
    "x2[::-1]"
   ]
  },
  {
   "cell_type": "code",
   "execution_count": 69,
   "metadata": {},
   "outputs": [
    {
     "data": {
      "text/plain": [
       "array([[ 5,  1,  2,  7],\n",
       "       [ 7,  5,  4,  4],\n",
       "       [ 3,  4, 15,  3]])"
      ]
     },
     "execution_count": 69,
     "metadata": {},
     "output_type": "execute_result"
    }
   ],
   "source": [
    "# reverse the order of x2 array along the columns *\n",
    "x2[::,::-1]"
   ]
  },
  {
   "cell_type": "code",
   "execution_count": 70,
   "metadata": {},
   "outputs": [
    {
     "data": {
      "text/plain": [
       "array([[ 7,  2,  1,  5],\n",
       "       [ 4,  4,  5,  7],\n",
       "       [ 3, 15,  4,  3]])"
      ]
     },
     "execution_count": 70,
     "metadata": {},
     "output_type": "execute_result"
    }
   ],
   "source": [
    "x2[::,::]"
   ]
  },
  {
   "cell_type": "code",
   "execution_count": 71,
   "metadata": {
    "scrolled": false
   },
   "outputs": [
    {
     "data": {
      "text/plain": [
       "array([[ 3, 15,  4,  3],\n",
       "       [ 4,  4,  5,  7],\n",
       "       [ 7,  2,  1,  5]])"
      ]
     },
     "execution_count": 71,
     "metadata": {},
     "output_type": "execute_result"
    }
   ],
   "source": [
    "b=(x2[::-1])\n",
    "# print(x2[::,::-1])\n",
    "b"
   ]
  },
  {
   "cell_type": "code",
   "execution_count": 72,
   "metadata": {},
   "outputs": [
    {
     "data": {
      "text/plain": [
       "array([[ 3,  4, 15,  3],\n",
       "       [ 7,  5,  4,  4],\n",
       "       [ 5,  1,  2,  7]])"
      ]
     },
     "execution_count": 72,
     "metadata": {},
     "output_type": "execute_result"
    }
   ],
   "source": [
    "b[::,::-1]"
   ]
  },
  {
   "cell_type": "code",
   "execution_count": 73,
   "metadata": {},
   "outputs": [
    {
     "data": {
      "text/plain": [
       "array([[ 3,  4,  6,  3],\n",
       "       [ 7,  5,  4,  4],\n",
       "       [ 5, 10,  2,  7]])"
      ]
     },
     "execution_count": 73,
     "metadata": {},
     "output_type": "execute_result"
    }
   ],
   "source": [
    "# reverse the order of x2 array along row and column\n",
    "x2[::-1,::-1]"
   ]
  },
  {
   "cell_type": "code",
   "execution_count": 74,
   "metadata": {},
   "outputs": [
    {
     "data": {
      "text/plain": [
       "array([[ 7,  2,  1,  5],\n",
       "       [ 4,  4,  5,  7],\n",
       "       [ 3, 15,  4,  3]])"
      ]
     },
     "execution_count": 74,
     "metadata": {},
     "output_type": "execute_result"
    }
   ],
   "source": [
    "x2"
   ]
  },
  {
   "cell_type": "code",
   "execution_count": 75,
   "metadata": {},
   "outputs": [
    {
     "data": {
      "text/plain": [
       "array([[7, 2, 1, 5],\n",
       "       [4, 4, 5, 7]])"
      ]
     },
     "execution_count": 75,
     "metadata": {},
     "output_type": "execute_result"
    }
   ],
   "source": [
    "c=x2[:2]\n",
    "c"
   ]
  },
  {
   "cell_type": "code",
   "execution_count": 76,
   "metadata": {},
   "outputs": [
    {
     "data": {
      "text/plain": [
       "array([[7, 2],\n",
       "       [4, 4]])"
      ]
     },
     "execution_count": 76,
     "metadata": {},
     "output_type": "execute_result"
    }
   ],
   "source": [
    "c[:,:2]"
   ]
  },
  {
   "cell_type": "code",
   "execution_count": 79,
   "metadata": {},
   "outputs": [
    {
     "data": {
      "text/plain": [
       "array([[ 7,  2,  1,  5],\n",
       "       [ 4,  4,  5,  7],\n",
       "       [ 3, 15,  4,  3]])"
      ]
     },
     "execution_count": 79,
     "metadata": {},
     "output_type": "execute_result"
    }
   ],
   "source": [
    "x2"
   ]
  },
  {
   "cell_type": "code",
   "execution_count": 80,
   "metadata": {},
   "outputs": [
    {
     "data": {
      "text/plain": [
       "array([[7, 2],\n",
       "       [4, 4]])"
      ]
     },
     "execution_count": 80,
     "metadata": {},
     "output_type": "execute_result"
    }
   ],
   "source": [
    "# get the values of x2 from begining to index 2 along row and column\n",
    "x2[:2, :2]"
   ]
  },
  {
   "cell_type": "code",
   "execution_count": 81,
   "metadata": {},
   "outputs": [
    {
     "data": {
      "text/plain": [
       "array([[ 5,  1,  2,  7],\n",
       "       [ 7,  5,  4,  4],\n",
       "       [ 3,  4, 15,  3]])"
      ]
     },
     "execution_count": 81,
     "metadata": {},
     "output_type": "execute_result"
    }
   ],
   "source": [
    "# get the values of x2 from begining to end along row and from begining to end but at steps \n",
    "# of 2 along the column\n",
    "x2[:3, ::-1]"
   ]
  },
  {
   "cell_type": "code",
   "execution_count": 80,
   "metadata": {},
   "outputs": [
    {
     "data": {
      "text/plain": [
       "array([[ 7,  2, 10,  5],\n",
       "       [ 4,  4,  5,  7],\n",
       "       [ 3,  6,  4,  3]])"
      ]
     },
     "execution_count": 80,
     "metadata": {},
     "output_type": "execute_result"
    }
   ],
   "source": [
    "x2"
   ]
  },
  {
   "cell_type": "code",
   "execution_count": 81,
   "metadata": {},
   "outputs": [
    {
     "name": "stdout",
     "output_type": "stream",
     "text": [
      "[0 1 2 3 4 5 6 7 8 9]\n"
     ]
    },
    {
     "data": {
      "text/plain": [
       "array([0, 2, 4, 6, 8])"
      ]
     },
     "execution_count": 81,
     "metadata": {},
     "output_type": "execute_result"
    }
   ],
   "source": [
    "print(x)\n",
    "x[::2]"
   ]
  },
  {
   "cell_type": "code",
   "execution_count": 82,
   "metadata": {},
   "outputs": [
    {
     "data": {
      "text/plain": [
       "array([7, 4, 3])"
      ]
     },
     "execution_count": 82,
     "metadata": {},
     "output_type": "execute_result"
    }
   ],
   "source": [
    "# get the values along all rows but on column 0 of x2 \n",
    "x2[:,0]"
   ]
  },
  {
   "cell_type": "code",
   "execution_count": 83,
   "metadata": {},
   "outputs": [
    {
     "data": {
      "text/plain": [
       "array([ 7,  2, 10,  5])"
      ]
     },
     "execution_count": 83,
     "metadata": {},
     "output_type": "execute_result"
    }
   ],
   "source": [
    "# get the values along all columns but on row 0 of x2 \n",
    "x2[0,:]"
   ]
  },
  {
   "cell_type": "code",
   "execution_count": 86,
   "metadata": {},
   "outputs": [
    {
     "data": {
      "text/plain": [
       "array([[ 7,  2,  1,  5],\n",
       "       [ 4,  4,  5,  7],\n",
       "       [ 3, 15, 10,  3]])"
      ]
     },
     "execution_count": 86,
     "metadata": {},
     "output_type": "execute_result"
    }
   ],
   "source": [
    "x2"
   ]
  },
  {
   "cell_type": "code",
   "execution_count": 87,
   "metadata": {},
   "outputs": [
    {
     "name": "stdout",
     "output_type": "stream",
     "text": [
      "[[ 7  1]\n",
      " [ 4  5]\n",
      " [ 3 10]]\n"
     ]
    }
   ],
   "source": [
    "#create a view of x2 which is also known as sub-array\n",
    "vw = x2[:3, ::2]\n",
    "print(vw)"
   ]
  },
  {
   "cell_type": "code",
   "execution_count": 88,
   "metadata": {},
   "outputs": [
    {
     "data": {
      "text/plain": [
       "array([[ 7,  1],\n",
       "       [ 4,  5],\n",
       "       [ 3, 10]])"
      ]
     },
     "execution_count": 88,
     "metadata": {},
     "output_type": "execute_result"
    }
   ],
   "source": [
    "vw"
   ]
  },
  {
   "cell_type": "code",
   "execution_count": 89,
   "metadata": {},
   "outputs": [
    {
     "name": "stdout",
     "output_type": "stream",
     "text": [
      "[[7 1]\n",
      " [4 5]\n",
      " [3 5]]\n"
     ]
    }
   ],
   "source": [
    "# change an item of a view will change on the main array **\n",
    "vw[2,1]=5\n",
    "print(vw)"
   ]
  },
  {
   "cell_type": "code",
   "execution_count": 91,
   "metadata": {},
   "outputs": [
    {
     "data": {
      "text/plain": [
       "array([[ 7,  2,  1,  5],\n",
       "       [ 4,  4,  5,  7],\n",
       "       [ 3, 15,  5,  3]])"
      ]
     },
     "execution_count": 91,
     "metadata": {},
     "output_type": "execute_result"
    }
   ],
   "source": [
    "# checking the main array we see that the original value was change\n",
    "x2"
   ]
  },
  {
   "cell_type": "code",
   "execution_count": 92,
   "metadata": {},
   "outputs": [
    {
     "data": {
      "text/plain": [
       "array([[ 3, 15,  5,  3],\n",
       "       [ 4,  4,  5,  7],\n",
       "       [ 7,  2,  1,  5]])"
      ]
     },
     "execution_count": 92,
     "metadata": {},
     "output_type": "execute_result"
    }
   ],
   "source": [
    "ba= x2[::-1]\n",
    "ba"
   ]
  },
  {
   "cell_type": "code",
   "execution_count": 93,
   "metadata": {},
   "outputs": [
    {
     "data": {
      "text/plain": [
       "array([[ 3, 15],\n",
       "       [ 4,  4],\n",
       "       [ 7,  2]])"
      ]
     },
     "execution_count": 93,
     "metadata": {},
     "output_type": "execute_result"
    }
   ],
   "source": [
    "ba[::,:2].copy()"
   ]
  },
  {
   "cell_type": "code",
   "execution_count": 94,
   "metadata": {},
   "outputs": [
    {
     "data": {
      "text/plain": [
       "array([5, 5, 1])"
      ]
     },
     "execution_count": 94,
     "metadata": {},
     "output_type": "execute_result"
    }
   ],
   "source": [
    "#creating a view with a change that will not affect the main data\n",
    "view =x2[::-1,2].copy()\n",
    "view"
   ]
  },
  {
   "cell_type": "code",
   "execution_count": 95,
   "metadata": {},
   "outputs": [
    {
     "data": {
      "text/plain": [
       "array([8, 5, 1])"
      ]
     },
     "execution_count": 95,
     "metadata": {},
     "output_type": "execute_result"
    }
   ],
   "source": [
    "# modify the value of view\n",
    "view[0]=8\n",
    "view"
   ]
  },
  {
   "cell_type": "code",
   "execution_count": 96,
   "metadata": {},
   "outputs": [
    {
     "data": {
      "text/plain": [
       "array([[ 7,  2,  1,  5],\n",
       "       [ 4,  4,  5,  7],\n",
       "       [ 3, 15,  5,  3]])"
      ]
     },
     "execution_count": 96,
     "metadata": {},
     "output_type": "execute_result"
    }
   ],
   "source": [
    "# verifying x2 shows that the value of was not affected\n",
    "x2"
   ]
  },
  {
   "cell_type": "markdown",
   "metadata": {},
   "source": [
    "# Reshaping of array"
   ]
  },
  {
   "cell_type": "code",
   "execution_count": 97,
   "metadata": {},
   "outputs": [
    {
     "data": {
      "text/plain": [
       "array([ 1,  2,  3,  4,  5,  6,  7,  8,  9, 10, 11, 12])"
      ]
     },
     "execution_count": 97,
     "metadata": {},
     "output_type": "execute_result"
    }
   ],
   "source": [
    "# generate an array of lenght 12\n",
    "ar =np.arange(1,13)\n",
    "ar"
   ]
  },
  {
   "cell_type": "code",
   "execution_count": 98,
   "metadata": {},
   "outputs": [
    {
     "data": {
      "text/plain": [
       "(12,)"
      ]
     },
     "execution_count": 98,
     "metadata": {},
     "output_type": "execute_result"
    }
   ],
   "source": [
    "# let check the shape\n",
    "ar.shape"
   ]
  },
  {
   "cell_type": "code",
   "execution_count": 99,
   "metadata": {},
   "outputs": [
    {
     "data": {
      "text/plain": [
       "1"
      ]
     },
     "execution_count": 99,
     "metadata": {},
     "output_type": "execute_result"
    }
   ],
   "source": [
    "# Let us check for the dimension\n",
    "ar.ndim"
   ]
  },
  {
   "cell_type": "code",
   "execution_count": 104,
   "metadata": {
    "scrolled": true
   },
   "outputs": [
    {
     "data": {
      "text/plain": [
       "array([[ 1,  2,  3,  4],\n",
       "       [ 5,  6,  7,  8],\n",
       "       [ 9, 10, 11, 12]])"
      ]
     },
     "execution_count": 104,
     "metadata": {},
     "output_type": "execute_result"
    }
   ],
   "source": [
    "# reshape array ar to 3x4 matrix\n",
    "ar = ar.reshape(3,4)\n",
    "ar"
   ]
  },
  {
   "cell_type": "code",
   "execution_count": 105,
   "metadata": {},
   "outputs": [
    {
     "data": {
      "text/plain": [
       "(3, 4)"
      ]
     },
     "execution_count": 105,
     "metadata": {},
     "output_type": "execute_result"
    }
   ],
   "source": [
    "# let us now see the new shape\n",
    "ar.shape"
   ]
  },
  {
   "cell_type": "code",
   "execution_count": 106,
   "metadata": {},
   "outputs": [
    {
     "data": {
      "text/plain": [
       "2"
      ]
     },
     "execution_count": 106,
     "metadata": {},
     "output_type": "execute_result"
    }
   ],
   "source": [
    "# let us also see the new dimension\n",
    "ar.ndim"
   ]
  },
  {
   "cell_type": "code",
   "execution_count": 107,
   "metadata": {},
   "outputs": [
    {
     "data": {
      "text/plain": [
       "(5,)"
      ]
     },
     "execution_count": 107,
     "metadata": {},
     "output_type": "execute_result"
    }
   ],
   "source": [
    "#using newaxis for row and column\n",
    "ax = np.array([1,2,3,4,5])\n",
    "ax.shape"
   ]
  },
  {
   "cell_type": "code",
   "execution_count": 108,
   "metadata": {},
   "outputs": [
    {
     "data": {
      "text/plain": [
       "(5, 1)"
      ]
     },
     "execution_count": 108,
     "metadata": {},
     "output_type": "execute_result"
    }
   ],
   "source": [
    "# reshape to vertical \n",
    "ax.reshape(5,1).shape"
   ]
  },
  {
   "cell_type": "code",
   "execution_count": 109,
   "metadata": {},
   "outputs": [
    {
     "data": {
      "text/plain": [
       "(5,)"
      ]
     },
     "execution_count": 109,
     "metadata": {},
     "output_type": "execute_result"
    }
   ],
   "source": [
    "# reshape to horizontal \n",
    "ax.reshape(1,5)\n",
    "ax.shape"
   ]
  },
  {
   "cell_type": "code",
   "execution_count": 117,
   "metadata": {},
   "outputs": [
    {
     "data": {
      "text/plain": [
       "array([1, 2, 3, 4, 5])"
      ]
     },
     "execution_count": 117,
     "metadata": {},
     "output_type": "execute_result"
    }
   ],
   "source": [
    "ax"
   ]
  },
  {
   "cell_type": "code",
   "execution_count": 118,
   "metadata": {},
   "outputs": [
    {
     "data": {
      "text/plain": [
       "array([[1, 2, 3, 4, 5]])"
      ]
     },
     "execution_count": 118,
     "metadata": {},
     "output_type": "execute_result"
    }
   ],
   "source": [
    "# reshape horizontally by placing np.newaxis along the row\n",
    "ax[np.newaxis,:]"
   ]
  },
  {
   "cell_type": "code",
   "execution_count": 120,
   "metadata": {},
   "outputs": [
    {
     "data": {
      "text/plain": [
       "array([[1],\n",
       "       [2],\n",
       "       [3],\n",
       "       [4],\n",
       "       [5]])"
      ]
     },
     "execution_count": 120,
     "metadata": {},
     "output_type": "execute_result"
    }
   ],
   "source": [
    "# reshape vertically by placing np.newaxis along the column\n",
    "ax[:,np.newaxis]"
   ]
  },
  {
   "cell_type": "code",
   "execution_count": 121,
   "metadata": {
    "scrolled": true
   },
   "outputs": [
    {
     "data": {
      "text/plain": [
       "array([[ 1,  2,  3,  4,  5],\n",
       "       [ 6,  7,  8,  9, 10],\n",
       "       [11, 12, 13, 14, 15],\n",
       "       [16, 17, 18, 19, 20]])"
      ]
     },
     "execution_count": 121,
     "metadata": {},
     "output_type": "execute_result"
    }
   ],
   "source": [
    "#creating a multidimension array manualy\n",
    "mt =np.array([[1,2,3,4,5],[6,7,8,9,10],[11,12,13,14,15],[16,17,18,19,20]])\n",
    "mt"
   ]
  },
  {
   "cell_type": "code",
   "execution_count": 107,
   "metadata": {
    "scrolled": true
   },
   "outputs": [
    {
     "name": "stdout",
     "output_type": "stream",
     "text": [
      "shape:  (4, 5)\n",
      "Dimension:  2\n"
     ]
    }
   ],
   "source": [
    "# let us check for the shape and dimension\n",
    "print(\"shape: \", mt.shape)\n",
    "print(\"Dimension: \", mt.ndim)"
   ]
  },
  {
   "cell_type": "code",
   "execution_count": 124,
   "metadata": {},
   "outputs": [
    {
     "data": {
      "text/plain": [
       "array([[[ 1,  2,  3,  4,  5],\n",
       "        [ 6,  7,  8,  9, 10],\n",
       "        [11, 12, 13, 14, 15],\n",
       "        [16, 17, 18, 19, 20]]])"
      ]
     },
     "execution_count": 124,
     "metadata": {},
     "output_type": "execute_result"
    }
   ],
   "source": [
    "# reshape using np.newaxis along the rows \n",
    "mtrow = mt[np.newaxis,:]\n",
    "mtrow"
   ]
  },
  {
   "cell_type": "code",
   "execution_count": 126,
   "metadata": {},
   "outputs": [
    {
     "name": "stdout",
     "output_type": "stream",
     "text": [
      "[[[ 1  2  3  4  5]]\n",
      "\n",
      " [[ 6  7  8  9 10]]\n",
      "\n",
      " [[11 12 13 14 15]]\n",
      "\n",
      " [[16 17 18 19 20]]]\n",
      "shape: (4, 1, 5)\n"
     ]
    }
   ],
   "source": [
    "mtcon = mt[:,np.newaxis]\n",
    "print(mtcon)\n",
    "print(\"shape:\",mtcon.shape)"
   ]
  },
  {
   "cell_type": "code",
   "execution_count": 127,
   "metadata": {},
   "outputs": [
    {
     "name": "stdout",
     "output_type": "stream",
     "text": [
      "shape:  (1, 4, 5)\n",
      "Dimension:  3\n"
     ]
    }
   ],
   "source": [
    "# let us now check for the shape and dimension **\n",
    "print(\"shape: \", mtrow.shape)\n",
    "print(\"Dimension: \", mtrow.ndim)"
   ]
  },
  {
   "cell_type": "code",
   "execution_count": 128,
   "metadata": {},
   "outputs": [
    {
     "data": {
      "text/plain": [
       "array([[ 1,  2,  3,  4,  5],\n",
       "       [ 6,  7,  8,  9, 10],\n",
       "       [11, 12, 13, 14, 15],\n",
       "       [16, 17, 18, 19, 20]])"
      ]
     },
     "execution_count": 128,
     "metadata": {},
     "output_type": "execute_result"
    }
   ],
   "source": [
    "mt"
   ]
  },
  {
   "cell_type": "code",
   "execution_count": 129,
   "metadata": {},
   "outputs": [
    {
     "data": {
      "text/plain": [
       "array([[[ 1,  2,  3,  4,  5]],\n",
       "\n",
       "       [[ 6,  7,  8,  9, 10]],\n",
       "\n",
       "       [[11, 12, 13, 14, 15]],\n",
       "\n",
       "       [[16, 17, 18, 19, 20]]])"
      ]
     },
     "execution_count": 129,
     "metadata": {},
     "output_type": "execute_result"
    }
   ],
   "source": [
    "# reshape using np.newaxis along the colums *\n",
    "mtcol = mt[:,np.newaxis]\n",
    "mtcol"
   ]
  },
  {
   "cell_type": "code",
   "execution_count": 131,
   "metadata": {},
   "outputs": [
    {
     "name": "stdout",
     "output_type": "stream",
     "text": [
      "shape:  (4, 1, 5)\n",
      "Dimension:  3\n"
     ]
    }
   ],
   "source": [
    "# let us check for the shape and dimension\n",
    "print(\"shape: \", mtcol.shape)\n",
    "print(\"Dimension: \", mtcol.ndim)"
   ]
  },
  {
   "cell_type": "code",
   "execution_count": 134,
   "metadata": {},
   "outputs": [
    {
     "data": {
      "text/plain": [
       "array([[[[ 1,  2,  3,  4,  5],\n",
       "         [ 6,  7,  8,  9, 10],\n",
       "         [11, 12, 13, 14, 15],\n",
       "         [16, 17, 18, 19, 20]]]])"
      ]
     },
     "execution_count": 134,
     "metadata": {},
     "output_type": "execute_result"
    }
   ],
   "source": [
    "mtr = mtrow[np.newaxis,:]\n",
    "mtr"
   ]
  },
  {
   "cell_type": "code",
   "execution_count": 135,
   "metadata": {},
   "outputs": [
    {
     "data": {
      "text/plain": [
       "array([[[[[ 1,  2,  3,  4,  5],\n",
       "          [ 6,  7,  8,  9, 10],\n",
       "          [11, 12, 13, 14, 15],\n",
       "          [16, 17, 18, 19, 20]]]]])"
      ]
     },
     "execution_count": 135,
     "metadata": {},
     "output_type": "execute_result"
    }
   ],
   "source": [
    "mtt= mtr[:,np.newaxis]\n",
    "mtt"
   ]
  },
  {
   "cell_type": "code",
   "execution_count": 136,
   "metadata": {},
   "outputs": [
    {
     "data": {
      "text/plain": [
       "(1, 1, 1, 4, 5)"
      ]
     },
     "execution_count": 136,
     "metadata": {},
     "output_type": "execute_result"
    }
   ],
   "source": [
    "mtt.shape"
   ]
  },
  {
   "cell_type": "code",
   "execution_count": 137,
   "metadata": {},
   "outputs": [
    {
     "data": {
      "text/plain": [
       "4"
      ]
     },
     "execution_count": 137,
     "metadata": {},
     "output_type": "execute_result"
    }
   ],
   "source": [
    "mtr.ndim"
   ]
  },
  {
   "cell_type": "markdown",
   "metadata": {},
   "source": [
    "# Array concatenation"
   ]
  },
  {
   "cell_type": "code",
   "execution_count": 4,
   "metadata": {},
   "outputs": [
    {
     "data": {
      "text/plain": [
       "array([ 7,  8,  9, 10, 11, 12,  1,  2,  3,  4,  5,  6, 13, 14, 15, 16, 17,\n",
       "       18])"
      ]
     },
     "execution_count": 4,
     "metadata": {},
     "output_type": "execute_result"
    }
   ],
   "source": [
    "# To cancatenate two or more arrays use np.concatenate to join them together\n",
    "x = np.array([1,2,3,4,5,6])\n",
    "y = np.array([7,8,9,10,11,12])\n",
    "z = np.array([13,14,15,16,17,18])\n",
    "np.concatenate([y,x,z])"
   ]
  },
  {
   "cell_type": "code",
   "execution_count": 5,
   "metadata": {},
   "outputs": [],
   "source": [
    "#concatenate multidimension *\n",
    "twodim1 = np.array([[1,2,3,4,5], [6,7,8,9,10]])\n",
    "twodim2 = np.array([[11,12,13,14,15], [16,17,18,19,20]])\n",
    "onedim = np.array([21,22,23,24,25])\n",
    "onedim2 = np.array([[21],[22]])"
   ]
  },
  {
   "cell_type": "code",
   "execution_count": 10,
   "metadata": {},
   "outputs": [
    {
     "data": {
      "text/plain": [
       "array([[ 1,  2,  3,  4,  5],\n",
       "       [ 6,  7,  8,  9, 10]])"
      ]
     },
     "execution_count": 10,
     "metadata": {},
     "output_type": "execute_result"
    }
   ],
   "source": [
    "twodim1"
   ]
  },
  {
   "cell_type": "code",
   "execution_count": 24,
   "metadata": {},
   "outputs": [
    {
     "data": {
      "text/plain": [
       "(2, 5)"
      ]
     },
     "execution_count": 24,
     "metadata": {},
     "output_type": "execute_result"
    }
   ],
   "source": [
    "twodim2.shape"
   ]
  },
  {
   "cell_type": "code",
   "execution_count": 25,
   "metadata": {},
   "outputs": [
    {
     "data": {
      "text/plain": [
       "2"
      ]
     },
     "execution_count": 25,
     "metadata": {},
     "output_type": "execute_result"
    }
   ],
   "source": [
    "twodim1 = np.array([[1,2,3,4,5], [6,7,8,9,10]])\n",
    "twodim2 = np.array([[11,12,13,14,15], [16,17,18,19,20]])\n",
    "twodim1.ndim"
   ]
  },
  {
   "cell_type": "code",
   "execution_count": 26,
   "metadata": {},
   "outputs": [
    {
     "data": {
      "text/plain": [
       "array([[11, 12, 13, 14, 15],\n",
       "       [16, 17, 18, 19, 20]])"
      ]
     },
     "execution_count": 26,
     "metadata": {},
     "output_type": "execute_result"
    }
   ],
   "source": [
    "twodim2"
   ]
  },
  {
   "cell_type": "code",
   "execution_count": 27,
   "metadata": {},
   "outputs": [
    {
     "data": {
      "text/plain": [
       "array([[ 1,  2,  3,  4,  5],\n",
       "       [ 6,  7,  8,  9, 10],\n",
       "       [11, 12, 13, 14, 15],\n",
       "       [16, 17, 18, 19, 20]])"
      ]
     },
     "execution_count": 27,
     "metadata": {},
     "output_type": "execute_result"
    }
   ],
   "source": [
    "# concatenate along the row by specifying axis=0\n",
    "np.concatenate([twodim1, twodim2], axis=0)"
   ]
  },
  {
   "cell_type": "code",
   "execution_count": 28,
   "metadata": {},
   "outputs": [
    {
     "data": {
      "text/plain": [
       "array([[ 1,  2,  3,  4,  5, 11, 12, 13, 14, 15],\n",
       "       [ 6,  7,  8,  9, 10, 16, 17, 18, 19, 20]])"
      ]
     },
     "execution_count": 28,
     "metadata": {},
     "output_type": "execute_result"
    }
   ],
   "source": [
    "# concatenate along columns by specifying axis=1 \n",
    "np.concatenate([twodim1, twodim2], axis=1)"
   ]
  },
  {
   "cell_type": "code",
   "execution_count": 30,
   "metadata": {},
   "outputs": [
    {
     "data": {
      "text/plain": [
       "array([21, 22, 23, 24, 25])"
      ]
     },
     "execution_count": 30,
     "metadata": {},
     "output_type": "execute_result"
    }
   ],
   "source": [
    "onedim"
   ]
  },
  {
   "cell_type": "code",
   "execution_count": 31,
   "metadata": {},
   "outputs": [
    {
     "data": {
      "text/plain": [
       "array([[ 1,  2,  3,  4,  5],\n",
       "       [ 6,  7,  8,  9, 10]])"
      ]
     },
     "execution_count": 31,
     "metadata": {},
     "output_type": "execute_result"
    }
   ],
   "source": [
    "twodim1"
   ]
  },
  {
   "cell_type": "code",
   "execution_count": 32,
   "metadata": {},
   "outputs": [
    {
     "name": "stdout",
     "output_type": "stream",
     "text": [
      "[21 22 23 24 25]\n",
      "\n",
      "[[ 1  2  3  4  5]\n",
      " [ 6  7  8  9 10]] \n",
      "\n",
      "[[21 22 23 24 25]\n",
      " [ 1  2  3  4  5]\n",
      " [ 6  7  8  9 10]]\n"
     ]
    }
   ],
   "source": [
    "print(onedim)\n",
    "print()\n",
    "print(twodim1,'\\n')\n",
    "print(np.vstack([onedim,twodim1]))\n"
   ]
  },
  {
   "cell_type": "code",
   "execution_count": 33,
   "metadata": {},
   "outputs": [
    {
     "name": "stdout",
     "output_type": "stream",
     "text": [
      "onedim [21 22 23 24 25] \n",
      "\n",
      "twodim1 [[ 1  2  3  4  5]\n",
      " [ 6  7  8  9 10]] \n",
      "\n",
      "b [[21 22 23 24 25]\n",
      " [ 1  2  3  4  5]\n",
      " [ 6  7  8  9 10]]\n"
     ]
    }
   ],
   "source": [
    "# vstack is used when concatenating arrays of different dimensions the columns must equal\n",
    "b =np.vstack([onedim, twodim1])\n",
    "print('onedim', onedim,\"\\n\")\n",
    "print(\"twodim1\", twodim1,\"\\n\")\n",
    "print(\"b\", b)"
   ]
  },
  {
   "cell_type": "code",
   "execution_count": 34,
   "metadata": {},
   "outputs": [],
   "source": [
    "twodim1 = np.array([[1,2,3,4,5], [6,7,8,9,10]])\n",
    "twodim2 = np.array([[11,12,13,14,15], [16,17,18,19,20]])\n",
    "onedim = np.array([21,22,23,24,25])\n",
    "onedim2 = np.array([[21],[22]])"
   ]
  },
  {
   "cell_type": "code",
   "execution_count": 35,
   "metadata": {},
   "outputs": [
    {
     "name": "stdout",
     "output_type": "stream",
     "text": [
      "twodim1 [[ 1  2  3  4  5]\n",
      " [ 6  7  8  9 10]] \n",
      "\n",
      "onedim2 [[21]\n",
      " [22]] \n",
      "\n",
      "twodim2 [[11 12 13 14 15]\n",
      " [16 17 18 19 20]] \n",
      "\n",
      "h [[ 1  2  3  4  5 21]\n",
      " [ 6  7  8  9 10 22]] \n",
      "\n",
      "j [[ 1  2  3  4  5]\n",
      " [ 6  7  8  9 10]\n",
      " [11 12 13 14 15]\n",
      " [16 17 18 19 20]]\n"
     ]
    }
   ],
   "source": [
    "# hstack is used when concatenating arrays of different dimensions the rows must equal \n",
    "h = np.hstack([twodim1, onedim2])\n",
    "j = np.vstack([twodim1,twodim2])\n",
    "print('twodim1', twodim1,\"\\n\")\n",
    "print(\"onedim2\", onedim2,\"\\n\")\n",
    "print('twodim2', twodim2,\"\\n\")\n",
    "print(\"h\", h,'\\n')\n",
    "print(\"j\",j)"
   ]
  },
  {
   "cell_type": "code",
   "execution_count": 14,
   "metadata": {},
   "outputs": [
    {
     "data": {
      "text/plain": [
       "array([[ 1,  2,  3,  4,  5, 11, 12, 13, 14, 15],\n",
       "       [ 6,  7,  8,  9, 10, 16, 17, 18, 19, 20]])"
      ]
     },
     "execution_count": 14,
     "metadata": {},
     "output_type": "execute_result"
    }
   ],
   "source": [
    "# hstack can also concatenate same dimension arrays\n",
    "np.hstack([twodim1, twodim2])\n",
    "# np.hstack([twodim1, onedim2])"
   ]
  },
  {
   "cell_type": "code",
   "execution_count": 15,
   "metadata": {},
   "outputs": [
    {
     "name": "stdout",
     "output_type": "stream",
     "text": [
      "[[ 1  2  3  4  5]\n",
      " [ 6  7  8  9 10]] \n",
      "\n",
      "[[11 12 13 14 15]\n",
      " [16 17 18 19 20]]\n"
     ]
    }
   ],
   "source": [
    "print(twodim1,\"\\n\")\n",
    "print(twodim2)"
   ]
  },
  {
   "cell_type": "code",
   "execution_count": 16,
   "metadata": {},
   "outputs": [
    {
     "name": "stdout",
     "output_type": "stream",
     "text": [
      "[[[ 1 11]\n",
      "  [ 2 12]\n",
      "  [ 3 13]\n",
      "  [ 4 14]\n",
      "  [ 5 15]]\n",
      "\n",
      " [[ 6 16]\n",
      "  [ 7 17]\n",
      "  [ 8 18]\n",
      "  [ 9 19]\n",
      "  [10 20]]]\n"
     ]
    }
   ],
   "source": [
    "# np.dstack will concatenate by joining row to row \n",
    "yx =np.dstack([twodim1, twodim2])\n",
    "print(yx)"
   ]
  },
  {
   "cell_type": "markdown",
   "metadata": {},
   "source": [
    "# Spliting an array"
   ]
  },
  {
   "cell_type": "code",
   "execution_count": 55,
   "metadata": {},
   "outputs": [
    {
     "name": "stdout",
     "output_type": "stream",
     "text": [
      "[1 2 3 4 5] [11 12 13 14 15 16] []\n"
     ]
    }
   ],
   "source": [
    "#spliting of array by slicing the first four values and five *\n",
    "xy = np.array([ 1,  2,  3,  4,  5, 11, 12, 13, 14, 15, 16])\n",
    "x1, x2, x3 = np.split(xy, (5,50))\n",
    "print(x1,x2,x3)"
   ]
  },
  {
   "cell_type": "code",
   "execution_count": 56,
   "metadata": {},
   "outputs": [
    {
     "name": "stdout",
     "output_type": "stream",
     "text": [
      "[ 1  2  3  4  5 11 12 13 14 15 16] []\n"
     ]
    }
   ],
   "source": [
    "# spliting of array by slicing the first six values\n",
    "xy = np.array([ 1,  2,  3,  4,  5, 11, 12, 13, 14, 15, 16])\n",
    "x1, x2= np.split(xy, (100,))\n",
    "print(x1,x2)\n"
   ]
  },
  {
   "cell_type": "code",
   "execution_count": 57,
   "metadata": {},
   "outputs": [
    {
     "name": "stdout",
     "output_type": "stream",
     "text": [
      "[1 2 3 4] [ 5 11 12] [13 14 15 16]\n"
     ]
    }
   ],
   "source": [
    "#spliting of array by slicing the first four values and next first three\n",
    "xy = np.array([ 1,  2,  3,  4,  5, 11, 12, 13, 14, 15, 16])\n",
    "x1, x2, x3 = np.split(xy, (4,7))\n",
    "print(x1,x2,x3)"
   ]
  },
  {
   "cell_type": "code",
   "execution_count": 61,
   "metadata": {},
   "outputs": [
    {
     "data": {
      "text/plain": [
       "array([[ 0,  1,  2,  3],\n",
       "       [ 4,  5,  6,  7],\n",
       "       [ 8,  9, 10, 11],\n",
       "       [12, 13, 14, 15]])"
      ]
     },
     "execution_count": 61,
     "metadata": {},
     "output_type": "execute_result"
    }
   ],
   "source": [
    "# spliting a multidimension array\n",
    "xz = np.arange(16).reshape((4,4))\n",
    "xz"
   ]
  },
  {
   "cell_type": "code",
   "execution_count": 70,
   "metadata": {},
   "outputs": [
    {
     "name": "stdout",
     "output_type": "stream",
     "text": [
      "the first split\n",
      " [[ 0  1  2  3]\n",
      " [ 4  5  6  7]\n",
      " [ 8  9 10 11]\n",
      " [12 13 14 15]]\n",
      "the second split\n",
      " []\n"
     ]
    }
   ],
   "source": [
    "# np.hsplit split along columns starting from the second column\n",
    "first, second= np.hsplit(xz, [4])\n",
    "print(\"the first split\\n\",first)\n",
    "print(\"the second split\\n\",second)"
   ]
  },
  {
   "cell_type": "code",
   "execution_count": 73,
   "metadata": {},
   "outputs": [
    {
     "name": "stdout",
     "output_type": "stream",
     "text": [
      "the first split\n",
      " [[0 1 2 3]\n",
      " [4 5 6 7]]\n",
      "the second split\n",
      " [[ 8  9 10 11]\n",
      " [12 13 14 15]]\n"
     ]
    }
   ],
   "source": [
    "# np.vsplit split along rows starting from the second row\n",
    "first, second = np.vsplit(xz, [2])\n",
    "print(\"the first split\\n\",first)\n",
    "print(\"the second split\\n\",second)"
   ]
  },
  {
   "cell_type": "markdown",
   "metadata": {},
   "source": [
    "# Using the universal functions (ufuncs)"
   ]
  },
  {
   "cell_type": "code",
   "execution_count": 75,
   "metadata": {},
   "outputs": [
    {
     "data": {
      "text/plain": [
       "array([ 1,  2,  3,  4,  5, 11, 12, 13, 14, 15, 16])"
      ]
     },
     "execution_count": 75,
     "metadata": {},
     "output_type": "execute_result"
    }
   ],
   "source": [
    "xm = np.array([ 1,  2,  3,  4,  5, 11, 12, 13, 14, 15, 16])\n",
    "xm\n",
    "# conputing using the python loop and np to see the time difference "
   ]
  },
  {
   "cell_type": "code",
   "execution_count": null,
   "metadata": {},
   "outputs": [],
   "source": [
    "#using the python loop\n",
    "%timeit [i + i for i in xm]"
   ]
  },
  {
   "cell_type": "code",
   "execution_count": null,
   "metadata": {},
   "outputs": [],
   "source": [
    "#using np computation\n",
    "%timeit addition = xm + xm"
   ]
  },
  {
   "cell_type": "code",
   "execution_count": 41,
   "metadata": {},
   "outputs": [
    {
     "name": "stdout",
     "output_type": "stream",
     "text": [
      "[11, 12, 13, 14, 15, 16]\n"
     ]
    }
   ],
   "source": [
    "m = [1,2,3,4,5,6]\n",
    "n = []\n",
    "for i in m:\n",
    "    n.append(i + 10)\n",
    "print(n)\n",
    "    "
   ]
  },
  {
   "cell_type": "code",
   "execution_count": 76,
   "metadata": {},
   "outputs": [
    {
     "name": "stdout",
     "output_type": "stream",
     "text": [
      "[ 5  6  7  8  9 15 16 17 18 19 20]\n"
     ]
    }
   ],
   "source": [
    "# addition operation\n",
    "# print('xm',xm)\n",
    "print(xm + 10 - 6)"
   ]
  },
  {
   "cell_type": "code",
   "execution_count": 77,
   "metadata": {},
   "outputs": [
    {
     "data": {
      "text/plain": [
       "array([ -2.25,  -4.  ,  -6.25,  -9.  , -12.25, -42.25, -49.  , -56.25,\n",
       "       -64.  , -72.25, -81.  ])"
      ]
     },
     "execution_count": 77,
     "metadata": {},
     "output_type": "execute_result"
    }
   ],
   "source": [
    "# combining some of the operators in this case **\n",
    "-(0.5 *xm +1)**2"
   ]
  },
  {
   "cell_type": "markdown",
   "metadata": {},
   "source": [
    "# Using np inbuilt ufuncs\n",
    "np.add() == +,\n",
    "np.subtract == -,\n",
    "np.negative == -2,\n",
    "np.multiply == *,\n",
    "np.divide == /,\n",
    "np.floor_divide = //,\n",
    "np.power == **,\n",
    "np.mod == %"
   ]
  },
  {
   "cell_type": "code",
   "execution_count": 78,
   "metadata": {},
   "outputs": [
    {
     "data": {
      "text/plain": [
       "array([ 1,  2,  3,  4,  5, 11, 12, 13, 14, 15, 16])"
      ]
     },
     "execution_count": 78,
     "metadata": {},
     "output_type": "execute_result"
    }
   ],
   "source": [
    "xm"
   ]
  },
  {
   "cell_type": "code",
   "execution_count": 79,
   "metadata": {},
   "outputs": [
    {
     "data": {
      "text/plain": [
       "array([11, 12, 13, 14, 15, 21, 22, 23, 24, 25, 26])"
      ]
     },
     "execution_count": 79,
     "metadata": {},
     "output_type": "execute_result"
    }
   ],
   "source": [
    "# add ten to each items in xm array\n",
    "np.add(xm, 10)"
   ]
  },
  {
   "cell_type": "code",
   "execution_count": 80,
   "metadata": {},
   "outputs": [
    {
     "name": "stdout",
     "output_type": "stream",
     "text": [
      "[2 1 0 1 2]\n",
      "[2 1 0 1 2]\n"
     ]
    }
   ],
   "source": [
    "# np absolute value\n",
    "ab =np.array([-2,-1, 0, 1, 2])\n",
    "print(abs(ab)) #python function for absolute\n",
    "print(np.absolute(ab)) # np equivalent for absolute"
   ]
  },
  {
   "cell_type": "code",
   "execution_count": 81,
   "metadata": {},
   "outputs": [
    {
     "data": {
      "text/plain": [
       "array([5., 5., 2., 1.])"
      ]
     },
     "execution_count": 81,
     "metadata": {},
     "output_type": "execute_result"
    }
   ],
   "source": [
    "# absolute can also work on complex data which absolute value returns the magnitude **\n",
    "comp =np.array([3-4j, 4-3j, 2+0j, 0+1j])\n",
    "np.abs(comp)"
   ]
  },
  {
   "cell_type": "code",
   "execution_count": 50,
   "metadata": {},
   "outputs": [
    {
     "data": {
      "text/plain": [
       "3.141592653589793"
      ]
     },
     "execution_count": 50,
     "metadata": {},
     "output_type": "execute_result"
    }
   ],
   "source": [
    "np.pi"
   ]
  },
  {
   "cell_type": "code",
   "execution_count": 83,
   "metadata": {},
   "outputs": [
    {
     "data": {
      "text/plain": [
       "array([0.00000000e+00, 1.36071867e-17, 2.72143733e-17, 4.08215600e-17,\n",
       "       5.44287466e-17, 6.80359333e-17, 8.16431199e-17, 9.52503066e-17,\n",
       "       1.08857493e-16, 1.22464680e-16])"
      ]
     },
     "execution_count": 83,
     "metadata": {},
     "output_type": "execute_result"
    }
   ],
   "source": [
    "# using trigonometric functions (np.sin, np.cos, np.tan, np.arcsin etc)\n",
    "tri = np.linspace(0, np.sin(np.pi), 10)\n",
    "tri"
   ]
  },
  {
   "cell_type": "code",
   "execution_count": 84,
   "metadata": {},
   "outputs": [
    {
     "data": {
      "text/plain": [
       "array([0.00000000e+00, 1.36071867e-17, 2.72143733e-17, 4.08215600e-17,\n",
       "       5.44287466e-17, 6.80359333e-17, 8.16431199e-17, 9.52503066e-17,\n",
       "       1.08857493e-16, 1.22464680e-16])"
      ]
     },
     "execution_count": 84,
     "metadata": {},
     "output_type": "execute_result"
    }
   ],
   "source": [
    "np.sin(tri)"
   ]
  },
  {
   "cell_type": "code",
   "execution_count": 85,
   "metadata": {},
   "outputs": [
    {
     "data": {
      "text/plain": [
       "array([-1.57079633,  0.        ,  1.57079633])"
      ]
     },
     "execution_count": 85,
     "metadata": {},
     "output_type": "execute_result"
    }
   ],
   "source": [
    "acr = [-1,0,1]\n",
    "np.arcsin(acr)"
   ]
  },
  {
   "cell_type": "code",
   "execution_count": 86,
   "metadata": {},
   "outputs": [
    {
     "data": {
      "text/plain": [
       "array([ 2.71828183,  7.3890561 , 20.08553692])"
      ]
     },
     "execution_count": 86,
     "metadata": {},
     "output_type": "execute_result"
    }
   ],
   "source": [
    "# working with exponet and logarithms\n",
    "expo = [1,2,3]\n",
    "np.exp(expo)"
   ]
  },
  {
   "cell_type": "code",
   "execution_count": 87,
   "metadata": {},
   "outputs": [
    {
     "data": {
      "text/plain": [
       "array([ 1,  8, 27], dtype=int32)"
      ]
     },
     "execution_count": 87,
     "metadata": {},
     "output_type": "execute_result"
    }
   ],
   "source": [
    "np.power(expo,3)"
   ]
  },
  {
   "cell_type": "code",
   "execution_count": 88,
   "metadata": {},
   "outputs": [
    {
     "data": {
      "text/plain": [
       "array([0.        , 0.30103   , 0.47712125])"
      ]
     },
     "execution_count": 88,
     "metadata": {},
     "output_type": "execute_result"
    }
   ],
   "source": [
    "np.log10(expo)"
   ]
  },
  {
   "cell_type": "code",
   "execution_count": 89,
   "metadata": {},
   "outputs": [
    {
     "data": {
      "text/plain": [
       "array([0.        , 0.69314718, 1.09861229])"
      ]
     },
     "execution_count": 89,
     "metadata": {},
     "output_type": "execute_result"
    }
   ],
   "source": [
    "np.log(expo)"
   ]
  },
  {
   "cell_type": "markdown",
   "metadata": {},
   "source": [
    "# computing aggregation on data"
   ]
  },
  {
   "cell_type": "code",
   "execution_count": 90,
   "metadata": {},
   "outputs": [
    {
     "data": {
      "text/plain": [
       "array([1, 2, 3, 4, 5])"
      ]
     },
     "execution_count": 90,
     "metadata": {},
     "output_type": "execute_result"
    }
   ],
   "source": [
    "# generate array of five values\n",
    "xv = np.arange(1,6)\n",
    "xv"
   ]
  },
  {
   "cell_type": "code",
   "execution_count": 59,
   "metadata": {},
   "outputs": [
    {
     "data": {
      "text/plain": [
       "5"
      ]
     },
     "execution_count": 59,
     "metadata": {},
     "output_type": "execute_result"
    }
   ],
   "source": [
    "# returns the max of a array\n",
    "# xv.max()\n",
    "np.max(xv)"
   ]
  },
  {
   "cell_type": "code",
   "execution_count": 60,
   "metadata": {},
   "outputs": [
    {
     "data": {
      "text/plain": [
       "1"
      ]
     },
     "execution_count": 60,
     "metadata": {},
     "output_type": "execute_result"
    }
   ],
   "source": [
    "# returns the minimum of an array\n",
    "xv.min()"
   ]
  },
  {
   "cell_type": "code",
   "execution_count": 61,
   "metadata": {},
   "outputs": [
    {
     "data": {
      "text/plain": [
       "15"
      ]
     },
     "execution_count": 61,
     "metadata": {},
     "output_type": "execute_result"
    }
   ],
   "source": [
    "# returns the sum of all elements in an array\n",
    "np.add.reduce(xv)\n",
    "# np.sum(xv)"
   ]
  },
  {
   "cell_type": "code",
   "execution_count": 91,
   "metadata": {},
   "outputs": [
    {
     "data": {
      "text/plain": [
       "15"
      ]
     },
     "execution_count": 91,
     "metadata": {},
     "output_type": "execute_result"
    }
   ],
   "source": [
    "np.sum(xv)"
   ]
  },
  {
   "cell_type": "code",
   "execution_count": 92,
   "metadata": {},
   "outputs": [
    {
     "data": {
      "text/plain": [
       "array([1, 2, 3, 4, 5])"
      ]
     },
     "execution_count": 92,
     "metadata": {},
     "output_type": "execute_result"
    }
   ],
   "source": [
    "xv"
   ]
  },
  {
   "cell_type": "code",
   "execution_count": 95,
   "metadata": {},
   "outputs": [
    {
     "data": {
      "text/plain": [
       "120"
      ]
     },
     "execution_count": 95,
     "metadata": {},
     "output_type": "execute_result"
    }
   ],
   "source": [
    "# retuens the product of all elements in an array\n",
    "np.multiply.reduce(xv)"
   ]
  },
  {
   "cell_type": "code",
   "execution_count": 96,
   "metadata": {},
   "outputs": [
    {
     "data": {
      "text/plain": [
       "array([ 1,  3,  6, 10, 15])"
      ]
     },
     "execution_count": 96,
     "metadata": {},
     "output_type": "execute_result"
    }
   ],
   "source": [
    "# returns the array of addtion of imetermediate results of the computation\n",
    "np.add.accumulate(xv)"
   ]
  },
  {
   "cell_type": "code",
   "execution_count": 97,
   "metadata": {},
   "outputs": [
    {
     "data": {
      "text/plain": [
       "array([  1,   2,   6,  24, 120])"
      ]
     },
     "execution_count": 97,
     "metadata": {},
     "output_type": "execute_result"
    }
   ],
   "source": [
    "# returns the array of multiplication of imetermediate results of the computation\n",
    "np.multiply.accumulate(xv)"
   ]
  },
  {
   "cell_type": "code",
   "execution_count": 164,
   "metadata": {},
   "outputs": [
    {
     "data": {
      "text/plain": [
       "15"
      ]
     },
     "execution_count": 164,
     "metadata": {},
     "output_type": "execute_result"
    }
   ],
   "source": [
    "#np equivalent functions for aggregation\n",
    "np.sum(xv) # == np.add.reduce\n",
    "# np.prod() == np.multiply.reduce\n",
    "# np.cumsum() == np.add.accumulate\n",
    "# np.cumprod() ==np.multiply.accumulate"
   ]
  },
  {
   "cell_type": "code",
   "execution_count": 98,
   "metadata": {},
   "outputs": [
    {
     "data": {
      "text/plain": [
       "array([ 1,  2,  3,  4,  5,  6,  7,  8,  9, 10, 11, 12])"
      ]
     },
     "execution_count": 98,
     "metadata": {},
     "output_type": "execute_result"
    }
   ],
   "source": [
    "#using the 'outer' to compute all elements of pair of two different arrays\n",
    "cd = np.arange(1,13)\n",
    "cd"
   ]
  },
  {
   "cell_type": "code",
   "execution_count": 166,
   "metadata": {},
   "outputs": [
    {
     "data": {
      "text/plain": [
       "array([[  1,   2,   3,   4,   5,   6,   7,   8,   9,  10,  11,  12],\n",
       "       [  2,   4,   6,   8,  10,  12,  14,  16,  18,  20,  22,  24],\n",
       "       [  3,   6,   9,  12,  15,  18,  21,  24,  27,  30,  33,  36],\n",
       "       [  4,   8,  12,  16,  20,  24,  28,  32,  36,  40,  44,  48],\n",
       "       [  5,  10,  15,  20,  25,  30,  35,  40,  45,  50,  55,  60],\n",
       "       [  6,  12,  18,  24,  30,  36,  42,  48,  54,  60,  66,  72],\n",
       "       [  7,  14,  21,  28,  35,  42,  49,  56,  63,  70,  77,  84],\n",
       "       [  8,  16,  24,  32,  40,  48,  56,  64,  72,  80,  88,  96],\n",
       "       [  9,  18,  27,  36,  45,  54,  63,  72,  81,  90,  99, 108],\n",
       "       [ 10,  20,  30,  40,  50,  60,  70,  80,  90, 100, 110, 120],\n",
       "       [ 11,  22,  33,  44,  55,  66,  77,  88,  99, 110, 121, 132],\n",
       "       [ 12,  24,  36,  48,  60,  72,  84,  96, 108, 120, 132, 144]])"
      ]
     },
     "execution_count": 166,
     "metadata": {},
     "output_type": "execute_result"
    }
   ],
   "source": [
    "np.multiply.outer(cd,cd)"
   ]
  },
  {
   "cell_type": "markdown",
   "metadata": {},
   "source": [
    "# Aggregations on multidiemsional array"
   ]
  },
  {
   "cell_type": "code",
   "execution_count": 167,
   "metadata": {},
   "outputs": [
    {
     "data": {
      "text/plain": [
       "array([[0.89514574, 0.9291399 , 0.97763339, 0.91771872],\n",
       "       [0.04001124, 0.73282249, 0.89637388, 0.83783055],\n",
       "       [0.5364537 , 0.32131859, 0.397254  , 0.27743922]])"
      ]
     },
     "execution_count": 167,
     "metadata": {},
     "output_type": "execute_result"
    }
   ],
   "source": [
    "# generate a 3x4 array\n",
    "m = np.random.random((3,4))\n",
    "m"
   ]
  },
  {
   "cell_type": "code",
   "execution_count": 168,
   "metadata": {},
   "outputs": [
    {
     "data": {
      "text/plain": [
       "7.759141405541992"
      ]
     },
     "execution_count": 168,
     "metadata": {},
     "output_type": "execute_result"
    }
   ],
   "source": [
    "# return summation of total elements of the array\n",
    "m.sum()"
   ]
  },
  {
   "cell_type": "code",
   "execution_count": 169,
   "metadata": {},
   "outputs": [
    {
     "data": {
      "text/plain": [
       "array([1.47161068, 1.98328098, 2.27126126, 2.03298848])"
      ]
     },
     "execution_count": 169,
     "metadata": {},
     "output_type": "execute_result"
    }
   ],
   "source": [
    "# returns summation along the column\n",
    "m.sum(axis=0)"
   ]
  },
  {
   "cell_type": "code",
   "execution_count": 170,
   "metadata": {},
   "outputs": [
    {
     "name": "stdout",
     "output_type": "stream",
     "text": [
      "sum alont row:  [3.71963776 2.50703816 1.5324655 ]\n",
      "sum alont column:  [1.47161068 1.98328098 2.27126126 2.03298848]\n"
     ]
    }
   ],
   "source": [
    "# returns summation along the row\n",
    "print(\"sum alont row: \",m.sum(axis=1))\n",
    "print(\"sum alont column: \",m.sum(axis=0))"
   ]
  },
  {
   "cell_type": "code",
   "execution_count": 171,
   "metadata": {},
   "outputs": [
    {
     "name": "stdout",
     "output_type": "stream",
     "text": [
      "minimum:  0.04001124073751139\n",
      "maximum:  0.9776333908750974\n"
     ]
    }
   ],
   "source": [
    "# returns minimum and maximum value in an array\n",
    "print(\"minimum: \", m.min())\n",
    "print(\"maximum: \", m.max())"
   ]
  },
  {
   "cell_type": "code",
   "execution_count": 172,
   "metadata": {},
   "outputs": [
    {
     "name": "stdout",
     "output_type": "stream",
     "text": [
      "minimum:  [0.04001124 0.32131859 0.397254   0.27743922]\n",
      "maximum:  [0.89514574 0.9291399  0.97763339 0.91771872]\n"
     ]
    }
   ],
   "source": [
    "# returns minimum and maximum along an axis\n",
    "print(\"minimum: \", m.min(axis=0))\n",
    "print(\"maximum: \", m.max(axis=0))"
   ]
  },
  {
   "cell_type": "code",
   "execution_count": 173,
   "metadata": {},
   "outputs": [
    {
     "data": {
      "text/plain": [
       "0.30488056696779"
      ]
     },
     "execution_count": 173,
     "metadata": {},
     "output_type": "execute_result"
    }
   ],
   "source": [
    "# returns the standard deviation of all element of an array\n",
    "np.std(m)"
   ]
  },
  {
   "cell_type": "code",
   "execution_count": 174,
   "metadata": {},
   "outputs": [
    {
     "data": {
      "text/plain": [
       "0.6465951171284993"
      ]
     },
     "execution_count": 174,
     "metadata": {},
     "output_type": "execute_result"
    }
   ],
   "source": [
    "# returns the mean of all element of an array\n",
    "np.mean(m)"
   ]
  },
  {
   "cell_type": "code",
   "execution_count": 175,
   "metadata": {},
   "outputs": [
    {
     "data": {
      "text/plain": [
       "0.7853265189186502"
      ]
     },
     "execution_count": 175,
     "metadata": {},
     "output_type": "execute_result"
    }
   ],
   "source": [
    "# returns the median of all element of an array\n",
    "np.median(m)"
   ]
  },
  {
   "cell_type": "code",
   "execution_count": 176,
   "metadata": {},
   "outputs": [
    {
     "name": "stdout",
     "output_type": "stream",
     "text": [
      "25 perncentie value:  0.37827014298451994\n",
      "50 perncentie value:  0.7853265189186502\n",
      "75 perncentie value:  0.9017100876915802\n"
     ]
    }
   ],
   "source": [
    "# returns the percentile of all element of an array\n",
    "print(\"25 perncentie value: \", np.percentile(m, 25))\n",
    "print(\"50 perncentie value: \", np.percentile(m, 50))\n",
    "print(\"75 perncentie value: \", np.percentile(m, 75))"
   ]
  },
  {
   "cell_type": "code",
   "execution_count": 177,
   "metadata": {},
   "outputs": [
    {
     "data": {
      "text/plain": [
       "array([[0.89514574, 0.9291399 , 0.97763339, 0.91771872],\n",
       "       [0.04001124, 0.73282249, 0.89637388, 0.83783055],\n",
       "       [0.5364537 , 0.32131859, 0.397254  , 0.27743922]])"
      ]
     },
     "execution_count": 177,
     "metadata": {},
     "output_type": "execute_result"
    }
   ],
   "source": [
    "m"
   ]
  },
  {
   "cell_type": "code",
   "execution_count": 178,
   "metadata": {},
   "outputs": [
    {
     "data": {
      "text/plain": [
       "4"
      ]
     },
     "execution_count": 178,
     "metadata": {},
     "output_type": "execute_result"
    }
   ],
   "source": [
    "# returns the index of minimum value of an array **\n",
    "np.argmin(m)"
   ]
  },
  {
   "cell_type": "code",
   "execution_count": 179,
   "metadata": {},
   "outputs": [
    {
     "data": {
      "text/plain": [
       "2"
      ]
     },
     "execution_count": 179,
     "metadata": {},
     "output_type": "execute_result"
    }
   ],
   "source": [
    "# returns the index of maximum value of an array\n",
    "np.argmax(m)"
   ]
  },
  {
   "cell_type": "markdown",
   "metadata": {},
   "source": [
    "# Aggregating over missing values"
   ]
  },
  {
   "cell_type": "code",
   "execution_count": 180,
   "metadata": {},
   "outputs": [
    {
     "data": {
      "text/plain": [
       "array([ 1.,  2.,  3., nan,  5.,  6., nan,  7.,  8.])"
      ]
     },
     "execution_count": 180,
     "metadata": {},
     "output_type": "execute_result"
    }
   ],
   "source": [
    "ms = np.array([1, 2, 3, np.nan, 5, 6, np.nan, 7, 8])\n",
    "ms"
   ]
  },
  {
   "cell_type": "code",
   "execution_count": 181,
   "metadata": {},
   "outputs": [
    {
     "data": {
      "text/plain": [
       "nan"
      ]
     },
     "execution_count": 181,
     "metadata": {},
     "output_type": "execute_result"
    }
   ],
   "source": [
    "# any aggregation on data containing missing value (nan) will return nan \n",
    "np.sum(ms)"
   ]
  },
  {
   "cell_type": "code",
   "execution_count": 182,
   "metadata": {},
   "outputs": [
    {
     "name": "stdout",
     "output_type": "stream",
     "text": [
      "sum:  32.0\n",
      "product:  10080.0\n"
     ]
    }
   ],
   "source": [
    "# np has an inbuilt functions for working with nan data\n",
    "print(\"sum: \", np.nansum(ms))\n",
    "print(\"product: \", np.nanprod(ms))"
   ]
  },
  {
   "cell_type": "code",
   "execution_count": 183,
   "metadata": {},
   "outputs": [
    {
     "name": "stdout",
     "output_type": "stream",
     "text": [
      "Mean:  4.571428571428571\n",
      "Variance:  5.959183673469389\n",
      "standard dev:  2.4411439272335804\n"
     ]
    }
   ],
   "source": [
    "print(\"Mean: \", np.nanmean(ms))\n",
    "print(\"Variance: \", np.nanvar(ms))\n",
    "print(\"standard dev: \", np.nanstd(ms))"
   ]
  },
  {
   "cell_type": "markdown",
   "metadata": {},
   "source": [
    "# Example: computation using the average height of US presidents"
   ]
  },
  {
   "cell_type": "code",
   "execution_count": 1,
   "metadata": {},
   "outputs": [
    {
     "data": {
      "text/html": [
       "<div>\n",
       "<style scoped>\n",
       "    .dataframe tbody tr th:only-of-type {\n",
       "        vertical-align: middle;\n",
       "    }\n",
       "\n",
       "    .dataframe tbody tr th {\n",
       "        vertical-align: top;\n",
       "    }\n",
       "\n",
       "    .dataframe thead th {\n",
       "        text-align: right;\n",
       "    }\n",
       "</style>\n",
       "<table border=\"1\" class=\"dataframe\">\n",
       "  <thead>\n",
       "    <tr style=\"text-align: right;\">\n",
       "      <th></th>\n",
       "      <th>order</th>\n",
       "      <th>name</th>\n",
       "      <th>height(cm)</th>\n",
       "    </tr>\n",
       "  </thead>\n",
       "  <tbody>\n",
       "    <tr>\n",
       "      <th>0</th>\n",
       "      <td>1</td>\n",
       "      <td>George Washington</td>\n",
       "      <td>189</td>\n",
       "    </tr>\n",
       "    <tr>\n",
       "      <th>1</th>\n",
       "      <td>2</td>\n",
       "      <td>John Adams</td>\n",
       "      <td>170</td>\n",
       "    </tr>\n",
       "    <tr>\n",
       "      <th>2</th>\n",
       "      <td>3</td>\n",
       "      <td>Thomas Jefferson</td>\n",
       "      <td>189</td>\n",
       "    </tr>\n",
       "    <tr>\n",
       "      <th>3</th>\n",
       "      <td>4</td>\n",
       "      <td>James Madison</td>\n",
       "      <td>163</td>\n",
       "    </tr>\n",
       "    <tr>\n",
       "      <th>4</th>\n",
       "      <td>5</td>\n",
       "      <td>James Monroe</td>\n",
       "      <td>183</td>\n",
       "    </tr>\n",
       "  </tbody>\n",
       "</table>\n",
       "</div>"
      ],
      "text/plain": [
       "   order               name  height(cm)\n",
       "0      1  George Washington         189\n",
       "1      2         John Adams         170\n",
       "2      3   Thomas Jefferson         189\n",
       "3      4      James Madison         163\n",
       "4      5       James Monroe         183"
      ]
     },
     "execution_count": 1,
     "metadata": {},
     "output_type": "execute_result"
    }
   ],
   "source": [
    "import pandas as pd\n",
    "president_height = pd.read_csv('C:\\\\Users\\HP\\\\Documents\\\\NUMPY\\\\president_heights.csv')\n",
    "president_height.head()\n",
    "# mm = pd.read"
   ]
  },
  {
   "cell_type": "code",
   "execution_count": 4,
   "metadata": {},
   "outputs": [
    {
     "name": "stdout",
     "output_type": "stream",
     "text": [
      "president height\n",
      " [189 170 189 163 183 171 185 168 173 183 173 173 175 178 183 193 178 173\n",
      " 174 183 183 168 170 178 182 180 183 178 182 188 175 179 183 193 182 183\n",
      " 177 185 188 188 182 185] \n",
      "\n",
      "president names\n",
      " ['George Washington' 'John Adams' 'Thomas Jefferson' 'James Madison'\n",
      " 'James Monroe' 'John Quincy Adams' 'Andrew Jackson' 'Martin Van Buren'\n",
      " 'William Henry Harrison' 'John Tyler' 'James K. Polk' 'Zachary Taylor'\n",
      " 'Millard Fillmore' 'Franklin Pierce' 'James Buchanan' 'Abraham Lincoln'\n",
      " 'Andrew Johnson' 'Ulysses S. Grant' 'Rutherford B. Hayes'\n",
      " 'James A. Garfield' 'Chester A. Arthur' 'Benjamin Harrison'\n",
      " 'William McKinley' 'Theodore Roosevelt' 'William Howard Taft'\n",
      " 'Woodrow Wilson' 'Warren G. Harding' 'Calvin Coolidge' 'Herbert Hoover'\n",
      " 'Franklin D. Roosevelt' 'Harry S. Truman' 'Dwight D. Eisenhower'\n",
      " 'John F. Kennedy' 'Lyndon B. Johnson' 'Richard Nixon' 'Gerald Ford'\n",
      " 'Jimmy Carter' 'Ronald Reagan' 'George H. W. Bush' 'Bill Clinton'\n",
      " 'George W. Bush' 'Barack Obama']\n"
     ]
    }
   ],
   "source": [
    "# We need to extract each columns of the table and convert it to np array so we can compute np aggregation on it.\n",
    "pres_height = np.array(president_height['height(cm)'])\n",
    "pres_name = np.array(president_height['name'])\n",
    "print(\"president height\\n\",pres_height,\"\\n\")\n",
    "print(\"president names\\n\",pres_name) "
   ]
  },
  {
   "cell_type": "code",
   "execution_count": 5,
   "metadata": {
    "collapsed": true
   },
   "outputs": [
    {
     "data": {
      "text/plain": [
       "'George Washington'"
      ]
     },
     "execution_count": 5,
     "metadata": {},
     "output_type": "execute_result"
    }
   ],
   "source": []
  },
  {
   "cell_type": "code",
   "execution_count": 6,
   "metadata": {},
   "outputs": [
    {
     "data": {
      "text/plain": [
       "['George',\n",
       " 'John',\n",
       " 'Thomas',\n",
       " 'James',\n",
       " 'James',\n",
       " 'John',\n",
       " 'Andrew',\n",
       " 'Martin',\n",
       " 'William',\n",
       " 'John',\n",
       " 'James',\n",
       " 'Zachary',\n",
       " 'Millard',\n",
       " 'Franklin',\n",
       " 'James',\n",
       " 'Abraham',\n",
       " 'Andrew',\n",
       " 'Ulysses',\n",
       " 'Rutherford',\n",
       " 'James',\n",
       " 'Chester',\n",
       " 'Benjamin',\n",
       " 'William',\n",
       " 'Theodore',\n",
       " 'William',\n",
       " 'Woodrow',\n",
       " 'Warren',\n",
       " 'Calvin',\n",
       " 'Herbert',\n",
       " 'Franklin',\n",
       " 'Harry',\n",
       " 'Dwight',\n",
       " 'John',\n",
       " 'Lyndon',\n",
       " 'Richard',\n",
       " 'Gerald',\n",
       " 'Jimmy',\n",
       " 'Ronald',\n",
       " 'George',\n",
       " 'Bill',\n",
       " 'George',\n",
       " 'Barack']"
      ]
     },
     "execution_count": 6,
     "metadata": {},
     "output_type": "execute_result"
    }
   ],
   "source": [
    "# pname =[]\n",
    "# for name in pres_name:\n",
    "#     name = name.split(\" \")\n",
    "# #     print(name)\n",
    "#     pname.append(name[0])\n",
    "# pname\n",
    "[name.split(\" \")[0] for name in pres_name]\n",
    " "
   ]
  },
  {
   "cell_type": "code",
   "execution_count": 187,
   "metadata": {},
   "outputs": [
    {
     "name": "stdout",
     "output_type": "stream",
     "text": [
      "mean height:    179.73809523809524\n",
      "standard deviation height:    6.931843442745892\n",
      "minimum height:    163\n",
      "maximum height:    193\n"
     ]
    }
   ],
   "source": [
    "# perform aggregation of the president's height\n",
    "print(\"mean height:   \", pres_height.mean())\n",
    "print(\"standard deviation height:   \", pres_height.std())\n",
    "print(\"minimum height:   \", pres_height.min())\n",
    "print(\"maximum height:   \", pres_height.max())"
   ]
  },
  {
   "cell_type": "code",
   "execution_count": 188,
   "metadata": {
    "scrolled": true
   },
   "outputs": [
    {
     "data": {
      "text/plain": [
       "'Abraham Lincoln'"
      ]
     },
     "execution_count": 188,
     "metadata": {},
     "output_type": "execute_result"
    }
   ],
   "source": [
    "# return president with maximum height\n",
    "pres_name[pres_height.argmax()]\n",
    "# pres_height.argmax()\n",
    "# pres_name[15]"
   ]
  },
  {
   "cell_type": "code",
   "execution_count": 7,
   "metadata": {},
   "outputs": [
    {
     "data": {
      "text/html": [
       "<div>\n",
       "<style scoped>\n",
       "    .dataframe tbody tr th:only-of-type {\n",
       "        vertical-align: middle;\n",
       "    }\n",
       "\n",
       "    .dataframe tbody tr th {\n",
       "        vertical-align: top;\n",
       "    }\n",
       "\n",
       "    .dataframe thead th {\n",
       "        text-align: right;\n",
       "    }\n",
       "</style>\n",
       "<table border=\"1\" class=\"dataframe\">\n",
       "  <thead>\n",
       "    <tr style=\"text-align: right;\">\n",
       "      <th></th>\n",
       "      <th>order</th>\n",
       "      <th>name</th>\n",
       "      <th>height(cm)</th>\n",
       "    </tr>\n",
       "  </thead>\n",
       "  <tbody>\n",
       "    <tr>\n",
       "      <th>15</th>\n",
       "      <td>16</td>\n",
       "      <td>Abraham Lincoln</td>\n",
       "      <td>193</td>\n",
       "    </tr>\n",
       "  </tbody>\n",
       "</table>\n",
       "</div>"
      ],
      "text/plain": [
       "    order             name  height(cm)\n",
       "15     16  Abraham Lincoln         193"
      ]
     },
     "execution_count": 7,
     "metadata": {},
     "output_type": "execute_result"
    }
   ],
   "source": [
    "president_height[president_height['name'] == 'Abraham Lincoln']"
   ]
  },
  {
   "cell_type": "code",
   "execution_count": 189,
   "metadata": {},
   "outputs": [
    {
     "data": {
      "text/plain": [
       "'James Madison'"
      ]
     },
     "execution_count": 189,
     "metadata": {},
     "output_type": "execute_result"
    }
   ],
   "source": [
    "# return president with minimum height\n",
    "pres_name[pres_height.argmin()]"
   ]
  },
  {
   "cell_type": "code",
   "execution_count": 190,
   "metadata": {
    "scrolled": true
   },
   "outputs": [
    {
     "data": {
      "image/png": "[encoded data removed]",
      "text/plain": [
       "<Figure size 720x360 with 1 Axes>"
      ]
     },
     "metadata": {
      "needs_background": "light"
     },
     "output_type": "display_data"
    }
   ],
   "source": [
    "import matplotlib.pyplot as plt\n",
    "fig = plt.figure(figsize=(10,5))\n",
    "plt.plot(pres_height, 'r-')\n",
    "plt.xlabel('US president')\n",
    "plt.ylabel(\"Height\")\n",
    "plt.show();"
   ]
  },
  {
   "cell_type": "code",
   "execution_count": 191,
   "metadata": {
    "scrolled": true
   },
   "outputs": [
    {
     "data": {
      "image/png": "[encoded data removed]",
      "text/plain": [
       "<Figure size 576x396 with 1 Axes>"
      ]
     },
     "metadata": {},
     "output_type": "display_data"
    }
   ],
   "source": [
    "plt.style.use('seaborn')\n",
    "plt.hist(pres_height)\n",
    "plt.title(\"graph of US president height\")\n",
    "plt.xlabel('US president')\n",
    "plt.ylabel(\"Height\");"
   ]
  },
  {
   "cell_type": "markdown",
   "metadata": {},
   "source": [
    "# Assignment:\n",
    "    #use us_births data to compute the following using np:\n",
    "        #extract the year, gender and births column from the data\n",
    "        #compute the aggregation of sum of total birth, sum of female birth and sum of male birth, mean and median\n",
    "        #compute the maximum births and minimum births\n",
    "        #indicate the gender with minimum birth and maximum birth\n",
    "        #indicate the year with minimum birth and maximum birth"
   ]
  },
  {
   "cell_type": "markdown",
   "metadata": {},
   "source": [
    "# broadcasting on arrays"
   ]
  },
  {
   "cell_type": "code",
   "execution_count": 192,
   "metadata": {},
   "outputs": [
    {
     "name": "stdout",
     "output_type": "stream",
     "text": [
      "x array: \n",
      " [[1 2 3]\n",
      " [4 5 6]]\n",
      "y array: \n",
      " [[1 2 4]\n",
      " [4 5 6]]\n"
     ]
    }
   ],
   "source": [
    "x = np.array(([1,2,3],[4,5,6]))\n",
    "y = np.array(([1,2,4],[4,5,6]))\n",
    "print('x array: \\n',x)\n",
    "print('y array: \\n',y)"
   ]
  },
  {
   "cell_type": "code",
   "execution_count": 193,
   "metadata": {
    "scrolled": true
   },
   "outputs": [
    {
     "data": {
      "text/plain": [
       "array([[ 2,  4,  7],\n",
       "       [ 8, 10, 12]])"
      ]
     },
     "execution_count": 193,
     "metadata": {},
     "output_type": "execute_result"
    }
   ],
   "source": [
    "# no broadcast because they are of the same dimension\n",
    "x + y"
   ]
  },
  {
   "cell_type": "code",
   "execution_count": 194,
   "metadata": {},
   "outputs": [
    {
     "data": {
      "text/plain": [
       "array([[ 6,  7,  8],\n",
       "       [ 9, 10, 11]])"
      ]
     },
     "execution_count": 194,
     "metadata": {},
     "output_type": "execute_result"
    }
   ],
   "source": [
    "# 5 will broadcast itself to match the dimestion of x\n",
    "x + 5       #5, 5, 5\n",
    "            #5, 5, 5"
   ]
  },
  {
   "cell_type": "code",
   "execution_count": 195,
   "metadata": {},
   "outputs": [
    {
     "data": {
      "text/plain": [
       "array([[1, 2, 4],\n",
       "       [4, 5, 6]])"
      ]
     },
     "execution_count": 195,
     "metadata": {},
     "output_type": "execute_result"
    }
   ],
   "source": [
    "y"
   ]
  },
  {
   "cell_type": "code",
   "execution_count": 196,
   "metadata": {},
   "outputs": [
    {
     "data": {
      "text/plain": [
       "array([[ 2,  5,  9],\n",
       "       [ 5,  8, 11]])"
      ]
     },
     "execution_count": 196,
     "metadata": {},
     "output_type": "execute_result"
    }
   ],
   "source": [
    "# adding one dimension to a two dimension array z will broadcast to match dimension of y\n",
    "z = np.array([1,3, 5]) \n",
    "w = np.array([2, 5, 7])\n",
    "y + z      # 1, 3, 5\n",
    "           # 1, 3, 5"
   ]
  },
  {
   "cell_type": "code",
   "execution_count": 197,
   "metadata": {},
   "outputs": [
    {
     "data": {
      "text/plain": [
       "array([[1],\n",
       "       [3],\n",
       "       [5]])"
      ]
     },
     "execution_count": 197,
     "metadata": {},
     "output_type": "execute_result"
    }
   ],
   "source": [
    "# array b will broadcast itself to match the dimension of w and vice versa\n",
    "b = z.reshape(3,1)\n",
    "b"
   ]
  },
  {
   "cell_type": "code",
   "execution_count": 198,
   "metadata": {
    "scrolled": false
   },
   "outputs": [
    {
     "data": {
      "text/plain": [
       "array([[ 3,  6,  8],\n",
       "       [ 5,  8, 10],\n",
       "       [ 7, 10, 12]])"
      ]
     },
     "execution_count": 198,
     "metadata": {},
     "output_type": "execute_result"
    }
   ],
   "source": [
    "w + b           # b = 1,   1,  1         w = 2,  5,  7\n",
    "                #     3,   3,  3             2,  5,  7    \n",
    "                #     5,   5,  5             2,  5,  7"
   ]
  },
  {
   "cell_type": "code",
   "execution_count": 199,
   "metadata": {},
   "outputs": [
    {
     "ename": "ValueError",
     "evalue": "operands could not be broadcast together with shapes (2,3) (3,1) ",
     "output_type": "error",
     "traceback": [
      "\u001b[1;31m---------------------------------------------------------------------------\u001b[0m",
      "\u001b[1;31mValueError\u001b[0m                                Traceback (most recent call last)",
      "\u001b[1;32m~\\AppData\\Local\\Temp/ipykernel_14268/2818717707.py\u001b[0m in \u001b[0;36m<module>\u001b[1;34m\u001b[0m\n\u001b[0;32m      1\u001b[0m \u001b[1;31m# this will raise error because column does not match\u001b[0m\u001b[1;33m\u001b[0m\u001b[1;33m\u001b[0m\u001b[0m\n\u001b[1;32m----> 2\u001b[1;33m \u001b[0my\u001b[0m\u001b[1;33m+\u001b[0m\u001b[0mb\u001b[0m\u001b[1;33m\u001b[0m\u001b[1;33m\u001b[0m\u001b[0m\n\u001b[0m",
      "\u001b[1;31mValueError\u001b[0m: operands could not be broadcast together with shapes (2,3) (3,1) "
     ]
    }
   ],
   "source": [
    "# this will raise error because column does not match\n",
    "y+b"
   ]
  },
  {
   "cell_type": "markdown",
   "metadata": {},
   "source": [
    "# Broadcasting rules"
   ]
  },
  {
   "cell_type": "code",
   "execution_count": null,
   "metadata": {},
   "outputs": [],
   "source": [
    "# Rule 1: if the two arrays differ in their number of dimensions, the shape of the \n",
    "# one with fewer dimensions is padded with ones on its leading left side\n",
    "m = np.ones((2,3))\n",
    "a = np.arange(3)\n",
    "print(m)\n",
    "print(a)"
   ]
  },
  {
   "cell_type": "code",
   "execution_count": 200,
   "metadata": {},
   "outputs": [
    {
     "ename": "NameError",
     "evalue": "name 'a' is not defined",
     "output_type": "error",
     "traceback": [
      "\u001b[1;31m---------------------------------------------------------------------------\u001b[0m",
      "\u001b[1;31mNameError\u001b[0m                                 Traceback (most recent call last)",
      "\u001b[1;32m~\\AppData\\Local\\Temp/ipykernel_14268/34200795.py\u001b[0m in \u001b[0;36m<module>\u001b[1;34m\u001b[0m\n\u001b[1;32m----> 1\u001b[1;33m \u001b[0mm\u001b[0m \u001b[1;33m+\u001b[0m \u001b[0ma\u001b[0m\u001b[1;33m\u001b[0m\u001b[1;33m\u001b[0m\u001b[0m\n\u001b[0m",
      "\u001b[1;31mNameError\u001b[0m: name 'a' is not defined"
     ]
    }
   ],
   "source": [
    "m + a "
   ]
  },
  {
   "cell_type": "code",
   "execution_count": 201,
   "metadata": {},
   "outputs": [
    {
     "name": "stdout",
     "output_type": "stream",
     "text": [
      "[[0]\n",
      " [1]\n",
      " [2]]\n",
      "[0 1 2]\n"
     ]
    }
   ],
   "source": [
    "# Rule2: if the shape of the two arrays does not match in any dimension, the array \n",
    "#with shape equal to 1 in that dimension is stretched to match the other shape.\n",
    "a = np.arange(3).reshape(3,1)\n",
    "b = np.arange(3)\n",
    "print(a)\n",
    "print(b)"
   ]
  },
  {
   "cell_type": "code",
   "execution_count": 202,
   "metadata": {},
   "outputs": [
    {
     "data": {
      "text/plain": [
       "array([[0, 1, 2],\n",
       "       [1, 2, 3],\n",
       "       [2, 3, 4]])"
      ]
     },
     "execution_count": 202,
     "metadata": {},
     "output_type": "execute_result"
    }
   ],
   "source": [
    "a + b"
   ]
  },
  {
   "cell_type": "code",
   "execution_count": 203,
   "metadata": {},
   "outputs": [
    {
     "name": "stdout",
     "output_type": "stream",
     "text": [
      "(3, 2)\n",
      "(3,) \n",
      "\n",
      "[[1. 1.]\n",
      " [1. 1.]\n",
      " [1. 1.]]\n",
      "[0 1 2]\n"
     ]
    }
   ],
   "source": [
    "# Rule 3: if in any dimension the sizes disagree and neither is equal to 1, an error is raised\n",
    "m = np.ones((3,2))\n",
    "a = np.arange(3)\n",
    "print(m.shape)\n",
    "print(a.shape, '\\n')\n",
    "print(m)\n",
    "print(a)"
   ]
  },
  {
   "cell_type": "code",
   "execution_count": 204,
   "metadata": {
    "scrolled": true
   },
   "outputs": [
    {
     "ename": "ValueError",
     "evalue": "operands could not be broadcast together with shapes (3,2) (3,) ",
     "output_type": "error",
     "traceback": [
      "\u001b[1;31m---------------------------------------------------------------------------\u001b[0m",
      "\u001b[1;31mValueError\u001b[0m                                Traceback (most recent call last)",
      "\u001b[1;32m~\\AppData\\Local\\Temp/ipykernel_14268/6852417.py\u001b[0m in \u001b[0;36m<module>\u001b[1;34m\u001b[0m\n\u001b[1;32m----> 1\u001b[1;33m \u001b[0mm\u001b[0m \u001b[1;33m+\u001b[0m \u001b[0ma\u001b[0m\u001b[1;33m\u001b[0m\u001b[1;33m\u001b[0m\u001b[0m\n\u001b[0m",
      "\u001b[1;31mValueError\u001b[0m: operands could not be broadcast together with shapes (3,2) (3,) "
     ]
    }
   ],
   "source": [
    "m + a"
   ]
  },
  {
   "cell_type": "code",
   "execution_count": 205,
   "metadata": {},
   "outputs": [
    {
     "data": {
      "text/plain": [
       "array([[0],\n",
       "       [1],\n",
       "       [2]])"
      ]
     },
     "execution_count": 205,
     "metadata": {},
     "output_type": "execute_result"
    }
   ],
   "source": [
    "# but by reshaping array of 'a' it will be possible to do computation with m array\n",
    "a[:,np.newaxis]"
   ]
  },
  {
   "cell_type": "code",
   "execution_count": 206,
   "metadata": {},
   "outputs": [
    {
     "data": {
      "text/plain": [
       "array([[0],\n",
       "       [1],\n",
       "       [2]])"
      ]
     },
     "execution_count": 206,
     "metadata": {},
     "output_type": "execute_result"
    }
   ],
   "source": [
    "a\n",
    "c=a[:,np.newaxis]\n",
    "c"
   ]
  },
  {
   "cell_type": "code",
   "execution_count": 207,
   "metadata": {},
   "outputs": [
    {
     "data": {
      "text/plain": [
       "array([[1., 1.],\n",
       "       [1., 1.],\n",
       "       [1., 1.]])"
      ]
     },
     "execution_count": 207,
     "metadata": {},
     "output_type": "execute_result"
    }
   ],
   "source": [
    "m"
   ]
  },
  {
   "cell_type": "code",
   "execution_count": 208,
   "metadata": {},
   "outputs": [
    {
     "data": {
      "text/plain": [
       "array([[1., 1.],\n",
       "       [2., 2.],\n",
       "       [3., 3.]])"
      ]
     },
     "execution_count": 208,
     "metadata": {},
     "output_type": "execute_result"
    }
   ],
   "source": [
    "m+c"
   ]
  },
  {
   "cell_type": "code",
   "execution_count": 209,
   "metadata": {},
   "outputs": [
    {
     "data": {
      "text/plain": [
       "array([[4., 2.],\n",
       "       [4., 2.],\n",
       "       [4., 2.]])"
      ]
     },
     "execution_count": 209,
     "metadata": {},
     "output_type": "execute_result"
    }
   ],
   "source": [
    "# **\n",
    "m + a[:,np.newaxis].shape"
   ]
  },
  {
   "cell_type": "code",
   "execution_count": 210,
   "metadata": {
    "scrolled": true
   },
   "outputs": [
    {
     "data": {
      "text/plain": [
       "array([[1.31326169, 1.31326169],\n",
       "       [1.69314718, 1.69314718],\n",
       "       [2.31326169, 2.31326169]])"
      ]
     },
     "execution_count": 210,
     "metadata": {},
     "output_type": "execute_result"
    }
   ],
   "source": [
    "#broadcasting can also be done on any binary ufunc e.g computing log(exp(a) + exp(b))\n",
    "np.logaddexp(m, a[:,np.newaxis])"
   ]
  },
  {
   "cell_type": "code",
   "execution_count": 211,
   "metadata": {},
   "outputs": [
    {
     "data": {
      "text/plain": [
       "array([[9.36248043e-01, 4.63742607e-01, 8.52288956e-01],\n",
       "       [2.12767370e-01, 1.23587469e-04, 9.28962625e-02],\n",
       "       [1.75116384e-01, 5.14859163e-01, 8.79990349e-01],\n",
       "       [7.84791918e-01, 5.29821174e-01, 2.73837868e-01],\n",
       "       [2.63841491e-02, 8.69708626e-01, 2.75437869e-01],\n",
       "       [1.45210356e-01, 5.05411634e-01, 3.35094665e-01],\n",
       "       [1.61695429e-01, 2.19289972e-01, 8.36517649e-01],\n",
       "       [7.20348028e-01, 5.14881883e-02, 6.23272336e-01],\n",
       "       [2.86269248e-01, 8.12781947e-01, 5.45872708e-01],\n",
       "       [1.82700313e-02, 1.61102640e-02, 9.35035731e-01]])"
      ]
     },
     "execution_count": 211,
     "metadata": {},
     "output_type": "execute_result"
    }
   ],
   "source": [
    "#common practice with broadcationg\n",
    "x = np.random.random((10,3))\n",
    "x"
   ]
  },
  {
   "cell_type": "code",
   "execution_count": 212,
   "metadata": {},
   "outputs": [
    {
     "data": {
      "text/plain": [
       "array([-4.4408921e-17,  0.0000000e+00, -8.8817842e-17])"
      ]
     },
     "execution_count": 212,
     "metadata": {},
     "output_type": "execute_result"
    }
   ],
   "source": [
    "# centering an array **\n",
    "xmean = x.mean(axis=0)\n",
    "xmean\n",
    "x_center = x - xmean\n",
    "x_center\n",
    "x_center.mean(0)\n",
    "# when the center array close to zero or zero then we have a centralised array"
   ]
  },
  {
   "cell_type": "markdown",
   "metadata": {},
   "source": [
    "# Example 2: working with country rainy days for more practice on broadcating"
   ]
  },
  {
   "cell_type": "code",
   "execution_count": 213,
   "metadata": {},
   "outputs": [
    {
     "data": {
      "text/html": [
       "<div>\n",
       "<style scoped>\n",
       "    .dataframe tbody tr th:only-of-type {\n",
       "        vertical-align: middle;\n",
       "    }\n",
       "\n",
       "    .dataframe tbody tr th {\n",
       "        vertical-align: top;\n",
       "    }\n",
       "\n",
       "    .dataframe thead th {\n",
       "        text-align: right;\n",
       "    }\n",
       "</style>\n",
       "<table border=\"1\" class=\"dataframe\">\n",
       "  <thead>\n",
       "    <tr style=\"text-align: right;\">\n",
       "      <th></th>\n",
       "      <th>STATION</th>\n",
       "      <th>STATION_NAME</th>\n",
       "      <th>DATE</th>\n",
       "      <th>PRCP</th>\n",
       "      <th>SNWD</th>\n",
       "      <th>SNOW</th>\n",
       "      <th>TMAX</th>\n",
       "      <th>TMIN</th>\n",
       "      <th>AWND</th>\n",
       "      <th>WDF2</th>\n",
       "      <th>WDF5</th>\n",
       "      <th>WSF2</th>\n",
       "      <th>WSF5</th>\n",
       "      <th>WT01</th>\n",
       "      <th>WT05</th>\n",
       "      <th>WT02</th>\n",
       "      <th>WT03</th>\n",
       "    </tr>\n",
       "  </thead>\n",
       "  <tbody>\n",
       "    <tr>\n",
       "      <th>0</th>\n",
       "      <td>NaN</td>\n",
       "      <td>NaN</td>\n",
       "      <td>NaN</td>\n",
       "      <td>NaN</td>\n",
       "      <td>NaN</td>\n",
       "      <td>NaN</td>\n",
       "      <td>NaN</td>\n",
       "      <td>NaN</td>\n",
       "      <td>NaN</td>\n",
       "      <td>NaN</td>\n",
       "      <td>NaN</td>\n",
       "      <td>NaN</td>\n",
       "      <td>NaN</td>\n",
       "      <td>NaN</td>\n",
       "      <td>NaN</td>\n",
       "      <td>NaN</td>\n",
       "      <td>NaN</td>\n",
       "    </tr>\n",
       "    <tr>\n",
       "      <th>1</th>\n",
       "      <td>GHCND:USW00024233</td>\n",
       "      <td>SEATTLE TACOMA INTERNATIONAL AIRPORT WA US</td>\n",
       "      <td>20140101.0</td>\n",
       "      <td>0.0</td>\n",
       "      <td>0.0</td>\n",
       "      <td>0.0</td>\n",
       "      <td>72.0</td>\n",
       "      <td>33.0</td>\n",
       "      <td>12.0</td>\n",
       "      <td>340.0</td>\n",
       "      <td>310.0</td>\n",
       "      <td>36.0</td>\n",
       "      <td>40.0</td>\n",
       "      <td>-9999.0</td>\n",
       "      <td>-9999.0</td>\n",
       "      <td>-9999.0</td>\n",
       "      <td>-9999.0</td>\n",
       "    </tr>\n",
       "    <tr>\n",
       "      <th>2</th>\n",
       "      <td>NaN</td>\n",
       "      <td>NaN</td>\n",
       "      <td>NaN</td>\n",
       "      <td>NaN</td>\n",
       "      <td>NaN</td>\n",
       "      <td>NaN</td>\n",
       "      <td>NaN</td>\n",
       "      <td>NaN</td>\n",
       "      <td>NaN</td>\n",
       "      <td>NaN</td>\n",
       "      <td>NaN</td>\n",
       "      <td>NaN</td>\n",
       "      <td>NaN</td>\n",
       "      <td>NaN</td>\n",
       "      <td>NaN</td>\n",
       "      <td>NaN</td>\n",
       "      <td>NaN</td>\n",
       "    </tr>\n",
       "    <tr>\n",
       "      <th>3</th>\n",
       "      <td>GHCND:USW00024233</td>\n",
       "      <td>SEATTLE TACOMA INTERNATIONAL AIRPORT WA US</td>\n",
       "      <td>20140102.0</td>\n",
       "      <td>41.0</td>\n",
       "      <td>0.0</td>\n",
       "      <td>0.0</td>\n",
       "      <td>106.0</td>\n",
       "      <td>61.0</td>\n",
       "      <td>32.0</td>\n",
       "      <td>190.0</td>\n",
       "      <td>200.0</td>\n",
       "      <td>94.0</td>\n",
       "      <td>116.0</td>\n",
       "      <td>-9999.0</td>\n",
       "      <td>-9999.0</td>\n",
       "      <td>-9999.0</td>\n",
       "      <td>-9999.0</td>\n",
       "    </tr>\n",
       "    <tr>\n",
       "      <th>4</th>\n",
       "      <td>NaN</td>\n",
       "      <td>NaN</td>\n",
       "      <td>NaN</td>\n",
       "      <td>NaN</td>\n",
       "      <td>NaN</td>\n",
       "      <td>NaN</td>\n",
       "      <td>NaN</td>\n",
       "      <td>NaN</td>\n",
       "      <td>NaN</td>\n",
       "      <td>NaN</td>\n",
       "      <td>NaN</td>\n",
       "      <td>NaN</td>\n",
       "      <td>NaN</td>\n",
       "      <td>NaN</td>\n",
       "      <td>NaN</td>\n",
       "      <td>NaN</td>\n",
       "      <td>NaN</td>\n",
       "    </tr>\n",
       "  </tbody>\n",
       "</table>\n",
       "</div>"
      ],
      "text/plain": [
       "             STATION                                STATION_NAME        DATE  \\\n",
       "0                NaN                                         NaN         NaN   \n",
       "1  GHCND:USW00024233  SEATTLE TACOMA INTERNATIONAL AIRPORT WA US  20140101.0   \n",
       "2                NaN                                         NaN         NaN   \n",
       "3  GHCND:USW00024233  SEATTLE TACOMA INTERNATIONAL AIRPORT WA US  20140102.0   \n",
       "4                NaN                                         NaN         NaN   \n",
       "\n",
       "   PRCP  SNWD  SNOW   TMAX  TMIN  AWND   WDF2   WDF5  WSF2   WSF5    WT01  \\\n",
       "0   NaN   NaN   NaN    NaN   NaN   NaN    NaN    NaN   NaN    NaN     NaN   \n",
       "1   0.0   0.0   0.0   72.0  33.0  12.0  340.0  310.0  36.0   40.0 -9999.0   \n",
       "2   NaN   NaN   NaN    NaN   NaN   NaN    NaN    NaN   NaN    NaN     NaN   \n",
       "3  41.0   0.0   0.0  106.0  61.0  32.0  190.0  200.0  94.0  116.0 -9999.0   \n",
       "4   NaN   NaN   NaN    NaN   NaN   NaN    NaN    NaN   NaN    NaN     NaN   \n",
       "\n",
       "     WT05    WT02    WT03  \n",
       "0     NaN     NaN     NaN  \n",
       "1 -9999.0 -9999.0 -9999.0  \n",
       "2     NaN     NaN     NaN  \n",
       "3 -9999.0 -9999.0 -9999.0  \n",
       "4     NaN     NaN     NaN  "
      ]
     },
     "execution_count": 213,
     "metadata": {},
     "output_type": "execute_result"
    }
   ],
   "source": [
    "import pandas as pd\n",
    "seattle = pd.read_csv('C:\\\\Users\\\\User\\\\Documents\\\\Datasets\\\\seattle2014.csv')\n",
    "seattle.head()"
   ]
  },
  {
   "cell_type": "code",
   "execution_count": 214,
   "metadata": {},
   "outputs": [
    {
     "data": {
      "text/plain": [
       "array([ nan,   0.,  nan,  41.,  nan,  15.,  nan,   0.,  nan,   0.,  nan,\n",
       "         3.,  nan, 122.,  nan,  97.,  nan,  58.,  nan,  43.,  nan, 213.,\n",
       "        nan,  15.,  nan,   0.,  nan,   0.,  nan,   0.,  nan,   0.,  nan,\n",
       "         0.,  nan,   0.,  nan,   0.,  nan,   0.,  nan,   0.,  nan,   5.,\n",
       "        nan,   0.,  nan,   0.,  nan,   0.,  nan,   0.,  nan,   0.,  nan,\n",
       "        89.,  nan, 216.,  nan,   0.,  nan,  23.,  nan,  20.,  nan,   0.,\n",
       "        nan,   0.,  nan,   0.,  nan,   0.,  nan,   0.,  nan,   0.,  nan,\n",
       "        51.,  nan,   5.,  nan, 183.,  nan, 170.,  nan,  46.,  nan,  18.,\n",
       "        nan,  94.,  nan, 117.,  nan, 264.,  nan, 145.,  nan, 152.,  nan,\n",
       "        10.,  nan,  30.,  nan,  28.,  nan,  25.,  nan,  61.,  nan, 130.,\n",
       "        nan,   3.,  nan,   0.,  nan,   0.,  nan,   0.,  nan,   5.,  nan,\n",
       "       191.,  nan, 107.,  nan, 165.,  nan, 467.,  nan,  30.,  nan,   0.,\n",
       "        nan, 323.,  nan,  43.,  nan, 188.,  nan,   0.,  nan,   0.,  nan,\n",
       "         5.,  nan,  69.,  nan,  81.,  nan, 277.,  nan,   3.,  nan,   0.,\n",
       "        nan,   5.,  nan,   0.,  nan,   0.,  nan,   0.,  nan,   0.,  nan,\n",
       "         0.,  nan,  41.,  nan,  36.,  nan,   3.,  nan, 221.,  nan, 140.,\n",
       "        nan,   0.,  nan,   0.,  nan,   0.,  nan,   0.,  nan,  25.,  nan,\n",
       "         0.,  nan,  46.,  nan,   0.,  nan,   0.,  nan,  46.,  nan,   0.,\n",
       "        nan,   0.,  nan,   0.,  nan,   0.,  nan,   0.,  nan,   0.,  nan,\n",
       "         5.,  nan, 109.,  nan, 185.,  nan,   0.,  nan, 137.,  nan,   0.,\n",
       "        nan,  51.,  nan, 142.,  nan,  89.,  nan, 124.,  nan,   0.,  nan,\n",
       "        33.,  nan,  69.,  nan,   0.,  nan,   0.,  nan,   0.,  nan,   0.,\n",
       "        nan,   0.,  nan, 333.,  nan, 160.,  nan,  51.,  nan,   0.,  nan,\n",
       "         0.,  nan, 137.,  nan,  20.,  nan,   5.,  nan,   0.,  nan,   0.,\n",
       "        nan,   0.,  nan,   0.,  nan,   0.,  nan,   0.,  nan,   0.,  nan,\n",
       "         0.,  nan,   0.,  nan,   0.,  nan,   0.,  nan,   0.,  nan,  38.,\n",
       "        nan,   0.,  nan,  56.,  nan,   0.,  nan,   0.,  nan,   0.,  nan,\n",
       "         0.,  nan,   0.,  nan,   0.,  nan,   0.,  nan,   0.,  nan,   0.,\n",
       "        nan,   0.,  nan,   0.,  nan,   0.,  nan,   0.,  nan,   0.,  nan,\n",
       "         0.,  nan,   0.,  nan,   0.,  nan,  18.,  nan,  64.,  nan,   0.,\n",
       "        nan,   5.,  nan,  36.,  nan,  13.,  nan,   0.,  nan,   8.,  nan,\n",
       "         3.,  nan,   0.,  nan,   0.,  nan,   0.,  nan,   0.,  nan,   0.,\n",
       "        nan,   0.,  nan,  18.,  nan,  23.,  nan,   0.,  nan,   0.,  nan,\n",
       "         0.,  nan,   0.,  nan,   0.,  nan,   0.,  nan,   0.,  nan,   0.,\n",
       "        nan,   0.,  nan,   0.,  nan,   0.,  nan,   0.,  nan,   0.,  nan,\n",
       "         0.,  nan,   0.,  nan,   0.,  nan,   0.,  nan,   0.,  nan,   0.,\n",
       "        nan,   0.,  nan,   0.,  nan,   0.,  nan,   0.,  nan,   3.,  nan,\n",
       "       193.,  nan,   0.,  nan,   0.,  nan,   0.,  nan,   0.,  nan,   0.,\n",
       "        nan,   0.,  nan,   0.,  nan,   0.,  nan,   0.,  nan,   5.,  nan,\n",
       "         0.,  nan,   0.,  nan,   0.,  nan,   0.,  nan,   0.,  nan,   0.,\n",
       "        nan,   0.,  nan,   0.,  nan,   5.,  nan, 127.,  nan, 216.,  nan,\n",
       "         0.,  nan,  10.,  nan,   0.,  nan,   0.,  nan,   0.,  nan,   0.,\n",
       "        nan,   0.,  nan,   0.,  nan,   0.,  nan,   0.,  nan,   0.,  nan,\n",
       "         0.,  nan,   0.,  nan,   0.,  nan,   0.,  nan,   0.,  nan,  84.,\n",
       "        nan,  13.,  nan,   0.,  nan,  30.,  nan,   0.,  nan,   0.,  nan,\n",
       "         0.,  nan,   0.,  nan,   0.,  nan,   0.,  nan,   0.,  nan,   0.,\n",
       "        nan,   0.,  nan,   0.,  nan,   0.,  nan,   0.,  nan,   0.,  nan,\n",
       "         0.,  nan,   5.,  nan,   3.,  nan,   0.,  nan,   0.,  nan,   0.,\n",
       "        nan,   3.,  nan, 183.,  nan, 203.,  nan,  43.,  nan,  89.,  nan,\n",
       "         0.,  nan,   0.,  nan,   8.,  nan,   0.,  nan,   0.,  nan,   0.,\n",
       "        nan,   0.,  nan,   0.,  nan,   0.,  nan,   0.,  nan,   0.,  nan,\n",
       "         0.,  nan,   0.,  nan,   3.,  nan,  74.,  nan,   0.,  nan,  76.,\n",
       "        nan,  71.,  nan,  86.,  nan,   0.,  nan,  33.,  nan, 150.,  nan,\n",
       "         0.,  nan, 117.,  nan,  10.,  nan, 320.,  nan,  94.,  nan,  41.,\n",
       "        nan,  61.,  nan,  15.,  nan,   8.,  nan, 127.,  nan,   5.,  nan,\n",
       "       254.,  nan, 170.,  nan,   0.,  nan,  18.,  nan, 109.,  nan,  41.,\n",
       "        nan,  48.,  nan,  41.,  nan,   0.,  nan,   0.,  nan,  51.,  nan,\n",
       "         0.,  nan,   0.,  nan,   0.,  nan,   0.,  nan,   0.,  nan,   0.,\n",
       "        nan,   0.,  nan,   0.,  nan,   0.,  nan,   0.,  nan,  36.,  nan,\n",
       "       152.,  nan,   5.,  nan, 119.,  nan,  13.,  nan, 183.,  nan,   3.,\n",
       "        nan,  33.,  nan, 343.,  nan,  36.,  nan,   0.,  nan,   0.,  nan,\n",
       "         0.,  nan,   0.,  nan,   8.,  nan,  30.,  nan,  74.,  nan,   0.,\n",
       "        nan,  91.,  nan,  99.,  nan, 130.,  nan,  69.,  nan,   0.,  nan,\n",
       "         0.,  nan,   0.,  nan,   0.,  nan,   0.,  nan,  28.,  nan, 130.,\n",
       "        nan,  30.,  nan, 196.,  nan,   0.,  nan,   0.,  nan, 206.,  nan,\n",
       "        53.,  nan,   0.,  nan,   0.,  nan,  33.,  nan,  41.,  nan,   0.,\n",
       "        nan,   0.,  nan,   0.])"
      ]
     },
     "execution_count": 214,
     "metadata": {},
     "output_type": "execute_result"
    }
   ],
   "source": [
    "rainfall = seattle['PRCP'].values\n",
    "rainfall"
   ]
  },
  {
   "cell_type": "code",
   "execution_count": 215,
   "metadata": {},
   "outputs": [
    {
     "data": {
      "text/plain": [
       "(730,)"
      ]
     },
     "execution_count": 215,
     "metadata": {},
     "output_type": "execute_result"
    }
   ],
   "source": [
    "# 254 will be broadcasted across the values in inches to get the inche conversion of each data\n",
    "inches = rainfall/254 # 1/10mm =inches **\n",
    "inches.shape"
   ]
  },
  {
   "cell_type": "code",
   "execution_count": 216,
   "metadata": {},
   "outputs": [
    {
     "data": {
      "image/png": "[encoded data removed]",
      "text/plain": [
       "<Figure size 576x396 with 1 Axes>"
      ]
     },
     "metadata": {},
     "output_type": "display_data"
    }
   ],
   "source": [
    "# we can visualize this using histogram\n",
    "import matplotlib.pyplot as plt\n",
    "import seaborn ; seaborn.set()\n",
    "val =pd.notna(inches)\n",
    "plt.hist(inches[val], 40);"
   ]
  },
  {
   "cell_type": "markdown",
   "metadata": {},
   "source": [
    "# operators and ufunc equivalent"
   ]
  },
  {
   "cell_type": "markdown",
   "metadata": {},
   "source": [
    "#== = np.equal\n",
    "#!= = np.not_equal\n",
    "#<  = np.less\n",
    "#>  = np.greater\n",
    "#<= = np.less_equal\n",
    "#>= = np.greater_equal"
   ]
  },
  {
   "cell_type": "code",
   "execution_count": 217,
   "metadata": {},
   "outputs": [
    {
     "data": {
      "text/plain": [
       "array([[5, 0, 3, 3],\n",
       "       [7, 9, 3, 5],\n",
       "       [2, 4, 7, 6]])"
      ]
     },
     "execution_count": 217,
     "metadata": {},
     "output_type": "execute_result"
    }
   ],
   "source": [
    "# example\n",
    "rng = np.random.RandomState(0)\n",
    "x = rng.randint(10, size=(3,4))\n",
    "x"
   ]
  },
  {
   "cell_type": "code",
   "execution_count": 218,
   "metadata": {},
   "outputs": [
    {
     "data": {
      "text/plain": [
       "array([[ True,  True,  True,  True],\n",
       "       [False, False,  True,  True],\n",
       "       [ True,  True, False, False]])"
      ]
     },
     "execution_count": 218,
     "metadata": {},
     "output_type": "execute_result"
    }
   ],
   "source": [
    "# return boolean true for less than six and false for greater than six\n",
    "x<6"
   ]
  },
  {
   "cell_type": "code",
   "execution_count": 219,
   "metadata": {},
   "outputs": [
    {
     "data": {
      "text/plain": [
       "array([[ True,  True,  True,  True],\n",
       "       [False, False,  True,  True],\n",
       "       [ True,  True, False, False]])"
      ]
     },
     "execution_count": 219,
     "metadata": {},
     "output_type": "execute_result"
    }
   ],
   "source": [
    "# its equivalet np.less\n",
    "m = 6\n",
    "np.less(x,m)"
   ]
  },
  {
   "cell_type": "markdown",
   "metadata": {},
   "source": [
    "# working with Boolean Arrays"
   ]
  },
  {
   "cell_type": "code",
   "execution_count": 220,
   "metadata": {},
   "outputs": [
    {
     "data": {
      "text/plain": [
       "array([[5, 0, 3, 3],\n",
       "       [7, 9, 3, 5],\n",
       "       [2, 4, 7, 6]])"
      ]
     },
     "execution_count": 220,
     "metadata": {},
     "output_type": "execute_result"
    }
   ],
   "source": [
    "x"
   ]
  },
  {
   "cell_type": "code",
   "execution_count": 221,
   "metadata": {},
   "outputs": [
    {
     "data": {
      "text/plain": [
       "8"
      ]
     },
     "execution_count": 221,
     "metadata": {},
     "output_type": "execute_result"
    }
   ],
   "source": [
    "# count how many values less than 6\n",
    "np.count_nonzero(x<6)"
   ]
  },
  {
   "cell_type": "code",
   "execution_count": 222,
   "metadata": {},
   "outputs": [
    {
     "data": {
      "text/plain": [
       "8"
      ]
     },
     "execution_count": 222,
     "metadata": {},
     "output_type": "execute_result"
    }
   ],
   "source": [
    "# other method to acheive above function is using np.sum\n",
    "np.sum(x<6)"
   ]
  },
  {
   "cell_type": "code",
   "execution_count": 223,
   "metadata": {},
   "outputs": [
    {
     "data": {
      "text/plain": [
       "array([[5, 0, 3, 3],\n",
       "       [7, 9, 3, 5],\n",
       "       [2, 4, 7, 6]])"
      ]
     },
     "execution_count": 223,
     "metadata": {},
     "output_type": "execute_result"
    }
   ],
   "source": [
    "x"
   ]
  },
  {
   "cell_type": "code",
   "execution_count": 224,
   "metadata": {},
   "outputs": [
    {
     "data": {
      "text/plain": [
       "array([4, 2, 2])"
      ]
     },
     "execution_count": 224,
     "metadata": {},
     "output_type": "execute_result"
    }
   ],
   "source": [
    "# np.sum can also be used to take aggregate along rows and columns\n",
    "np.sum(x<6, axis=1)"
   ]
  },
  {
   "cell_type": "code",
   "execution_count": 225,
   "metadata": {},
   "outputs": [
    {
     "data": {
      "text/plain": [
       "array([[5, 0, 3, 3],\n",
       "       [7, 9, 3, 5],\n",
       "       [2, 4, 7, 6]])"
      ]
     },
     "execution_count": 225,
     "metadata": {},
     "output_type": "execute_result"
    }
   ],
   "source": [
    "x"
   ]
  },
  {
   "cell_type": "code",
   "execution_count": 226,
   "metadata": {},
   "outputs": [
    {
     "data": {
      "text/plain": [
       "array([2, 2, 2, 2])"
      ]
     },
     "execution_count": 226,
     "metadata": {},
     "output_type": "execute_result"
    }
   ],
   "source": [
    "np.sum(x<6, axis=0)"
   ]
  },
  {
   "cell_type": "code",
   "execution_count": 227,
   "metadata": {},
   "outputs": [
    {
     "data": {
      "text/plain": [
       "True"
      ]
     },
     "execution_count": 227,
     "metadata": {},
     "output_type": "execute_result"
    }
   ],
   "source": [
    "# are there any values greater than 8\n",
    "np.any(x>3)"
   ]
  },
  {
   "cell_type": "code",
   "execution_count": 228,
   "metadata": {},
   "outputs": [
    {
     "data": {
      "text/plain": [
       "False"
      ]
     },
     "execution_count": 228,
     "metadata": {},
     "output_type": "execute_result"
    }
   ],
   "source": [
    "# are there any values less than 0\n",
    "np.any(x<0)"
   ]
  },
  {
   "cell_type": "code",
   "execution_count": 229,
   "metadata": {},
   "outputs": [
    {
     "data": {
      "text/plain": [
       "True"
      ]
     },
     "execution_count": 229,
     "metadata": {},
     "output_type": "execute_result"
    }
   ],
   "source": [
    "# are all values less than 10\n",
    "np.all(x<10)"
   ]
  },
  {
   "cell_type": "code",
   "execution_count": 230,
   "metadata": {},
   "outputs": [
    {
     "data": {
      "text/plain": [
       "False"
      ]
     },
     "execution_count": 230,
     "metadata": {},
     "output_type": "execute_result"
    }
   ],
   "source": [
    "# are all values equal to 6\n",
    "np.all(x==6)"
   ]
  },
  {
   "cell_type": "code",
   "execution_count": 231,
   "metadata": {
    "scrolled": true
   },
   "outputs": [
    {
     "data": {
      "text/plain": [
       "array([[5, 0, 3, 3],\n",
       "       [7, 9, 3, 5],\n",
       "       [2, 4, 7, 6]])"
      ]
     },
     "execution_count": 231,
     "metadata": {},
     "output_type": "execute_result"
    }
   ],
   "source": [
    "x"
   ]
  },
  {
   "cell_type": "code",
   "execution_count": null,
   "metadata": {},
   "outputs": [],
   "source": []
  },
  {
   "cell_type": "code",
   "execution_count": 232,
   "metadata": {},
   "outputs": [
    {
     "data": {
      "text/plain": [
       "array([False, False, False])"
      ]
     },
     "execution_count": 232,
     "metadata": {},
     "output_type": "execute_result"
    }
   ],
   "source": [
    "# are all values equal to 6 using the np equivalent\n",
    "np.all(np.equal(x, 6), axis = 1)"
   ]
  },
  {
   "cell_type": "code",
   "execution_count": 233,
   "metadata": {},
   "outputs": [
    {
     "data": {
      "text/plain": [
       "array([ True, False, False])"
      ]
     },
     "execution_count": 233,
     "metadata": {},
     "output_type": "execute_result"
    }
   ],
   "source": [
    "# both np.any and np.all can be applied along row and column\n",
    "# example: are all values in each row less than 8\n",
    "np.all(np.less(x,6), axis=1)"
   ]
  },
  {
   "cell_type": "markdown",
   "metadata": {},
   "source": [
    "# Boolean operators"
   ]
  },
  {
   "cell_type": "code",
   "execution_count": 234,
   "metadata": {},
   "outputs": [],
   "source": [
    "# Boolean operators with their equvalent np functions\n",
    "# & == np.bitwise_and\n",
    "# | == np.bitwise_or\n",
    "# ^ == np.bitwise_xor\n",
    "# ~ == np.bitwise_not"
   ]
  },
  {
   "cell_type": "code",
   "execution_count": 235,
   "metadata": {},
   "outputs": [
    {
     "data": {
      "text/plain": [
       "array([       nan, 0.        ,        nan, 0.16141732,        nan,\n",
       "       0.05905512,        nan, 0.        ,        nan, 0.        ,\n",
       "              nan, 0.01181102,        nan, 0.48031496,        nan,\n",
       "       0.38188976,        nan, 0.22834646,        nan, 0.16929134,\n",
       "              nan, 0.83858268,        nan, 0.05905512,        nan,\n",
       "       0.        ,        nan, 0.        ,        nan, 0.        ,\n",
       "              nan, 0.        ,        nan, 0.        ,        nan,\n",
       "       0.        ,        nan, 0.        ,        nan, 0.        ,\n",
       "              nan, 0.        ,        nan, 0.01968504,        nan,\n",
       "       0.        ,        nan, 0.        ,        nan, 0.        ,\n",
       "              nan, 0.        ,        nan, 0.        ,        nan,\n",
       "       0.3503937 ,        nan, 0.8503937 ,        nan, 0.        ,\n",
       "              nan, 0.09055118,        nan, 0.07874016,        nan,\n",
       "       0.        ,        nan, 0.        ,        nan, 0.        ,\n",
       "              nan, 0.        ,        nan, 0.        ,        nan,\n",
       "       0.        ,        nan, 0.2007874 ,        nan, 0.01968504,\n",
       "              nan, 0.72047244,        nan, 0.66929134,        nan,\n",
       "       0.18110236,        nan, 0.07086614,        nan, 0.37007874,\n",
       "              nan, 0.46062992,        nan, 1.03937008,        nan,\n",
       "       0.57086614,        nan, 0.5984252 ,        nan, 0.03937008,\n",
       "              nan, 0.11811024,        nan, 0.11023622,        nan,\n",
       "       0.0984252 ,        nan, 0.24015748,        nan, 0.51181102,\n",
       "              nan, 0.01181102,        nan, 0.        ,        nan,\n",
       "       0.        ,        nan, 0.        ,        nan, 0.01968504,\n",
       "              nan, 0.7519685 ,        nan, 0.42125984,        nan,\n",
       "       0.6496063 ,        nan, 1.83858268,        nan, 0.11811024,\n",
       "              nan, 0.        ,        nan, 1.27165354,        nan,\n",
       "       0.16929134,        nan, 0.74015748,        nan, 0.        ,\n",
       "              nan, 0.        ,        nan, 0.01968504,        nan,\n",
       "       0.27165354,        nan, 0.31889764,        nan, 1.09055118,\n",
       "              nan, 0.01181102,        nan, 0.        ,        nan,\n",
       "       0.01968504,        nan, 0.        ,        nan, 0.        ,\n",
       "              nan, 0.        ,        nan, 0.        ,        nan,\n",
       "       0.        ,        nan, 0.16141732,        nan, 0.14173228,\n",
       "              nan, 0.01181102,        nan, 0.87007874,        nan,\n",
       "       0.5511811 ,        nan, 0.        ,        nan, 0.        ,\n",
       "              nan, 0.        ,        nan, 0.        ,        nan,\n",
       "       0.0984252 ,        nan, 0.        ,        nan, 0.18110236,\n",
       "              nan, 0.        ,        nan, 0.        ,        nan,\n",
       "       0.18110236,        nan, 0.        ,        nan, 0.        ,\n",
       "              nan, 0.        ,        nan, 0.        ,        nan,\n",
       "       0.        ,        nan, 0.        ,        nan, 0.01968504,\n",
       "              nan, 0.42913386,        nan, 0.72834646,        nan,\n",
       "       0.        ,        nan, 0.53937008,        nan, 0.        ,\n",
       "              nan, 0.2007874 ,        nan, 0.55905512,        nan,\n",
       "       0.3503937 ,        nan, 0.48818898,        nan, 0.        ,\n",
       "              nan, 0.12992126,        nan, 0.27165354,        nan,\n",
       "       0.        ,        nan, 0.        ,        nan, 0.        ,\n",
       "              nan, 0.        ,        nan, 0.        ,        nan,\n",
       "       1.31102362,        nan, 0.62992126,        nan, 0.2007874 ,\n",
       "              nan, 0.        ,        nan, 0.        ,        nan,\n",
       "       0.53937008,        nan, 0.07874016,        nan, 0.01968504,\n",
       "              nan, 0.        ,        nan, 0.        ,        nan,\n",
       "       0.        ,        nan, 0.        ,        nan, 0.        ,\n",
       "              nan, 0.        ,        nan, 0.        ,        nan,\n",
       "       0.        ,        nan, 0.        ,        nan, 0.        ,\n",
       "              nan, 0.        ,        nan, 0.        ,        nan,\n",
       "       0.1496063 ,        nan, 0.        ,        nan, 0.22047244,\n",
       "              nan, 0.        ,        nan, 0.        ,        nan,\n",
       "       0.        ,        nan, 0.        ,        nan, 0.        ,\n",
       "              nan, 0.        ,        nan, 0.        ,        nan,\n",
       "       0.        ,        nan, 0.        ,        nan, 0.        ,\n",
       "              nan, 0.        ,        nan, 0.        ,        nan,\n",
       "       0.        ,        nan, 0.        ,        nan, 0.        ,\n",
       "              nan, 0.        ,        nan, 0.        ,        nan,\n",
       "       0.07086614,        nan, 0.2519685 ,        nan, 0.        ,\n",
       "              nan, 0.01968504,        nan, 0.14173228,        nan,\n",
       "       0.0511811 ,        nan, 0.        ,        nan, 0.03149606,\n",
       "              nan, 0.01181102,        nan, 0.        ,        nan,\n",
       "       0.        ,        nan, 0.        ,        nan, 0.        ,\n",
       "              nan, 0.        ,        nan, 0.        ,        nan,\n",
       "       0.07086614,        nan, 0.09055118,        nan, 0.        ,\n",
       "              nan, 0.        ,        nan, 0.        ,        nan,\n",
       "       0.        ,        nan, 0.        ,        nan, 0.        ,\n",
       "              nan, 0.        ,        nan, 0.        ,        nan,\n",
       "       0.        ,        nan, 0.        ,        nan, 0.        ,\n",
       "              nan, 0.        ,        nan, 0.        ,        nan,\n",
       "       0.        ,        nan, 0.        ,        nan, 0.        ,\n",
       "              nan, 0.        ,        nan, 0.        ,        nan,\n",
       "       0.        ,        nan, 0.        ,        nan, 0.        ,\n",
       "              nan, 0.        ,        nan, 0.        ,        nan,\n",
       "       0.01181102,        nan, 0.75984252,        nan, 0.        ,\n",
       "              nan, 0.        ,        nan, 0.        ,        nan,\n",
       "       0.        ,        nan, 0.        ,        nan, 0.        ,\n",
       "              nan, 0.        ,        nan, 0.        ,        nan,\n",
       "       0.        ,        nan, 0.01968504,        nan, 0.        ,\n",
       "              nan, 0.        ,        nan, 0.        ,        nan,\n",
       "       0.        ,        nan, 0.        ,        nan, 0.        ,\n",
       "              nan, 0.        ,        nan, 0.        ,        nan,\n",
       "       0.01968504,        nan, 0.5       ,        nan, 0.8503937 ,\n",
       "              nan, 0.        ,        nan, 0.03937008,        nan,\n",
       "       0.        ,        nan, 0.        ,        nan, 0.        ,\n",
       "              nan, 0.        ,        nan, 0.        ,        nan,\n",
       "       0.        ,        nan, 0.        ,        nan, 0.        ,\n",
       "              nan, 0.        ,        nan, 0.        ,        nan,\n",
       "       0.        ,        nan, 0.        ,        nan, 0.        ,\n",
       "              nan, 0.        ,        nan, 0.33070866,        nan,\n",
       "       0.0511811 ,        nan, 0.        ,        nan, 0.11811024,\n",
       "              nan, 0.        ,        nan, 0.        ,        nan,\n",
       "       0.        ,        nan, 0.        ,        nan, 0.        ,\n",
       "              nan, 0.        ,        nan, 0.        ,        nan,\n",
       "       0.        ,        nan, 0.        ,        nan, 0.        ,\n",
       "              nan, 0.        ,        nan, 0.        ,        nan,\n",
       "       0.        ,        nan, 0.        ,        nan, 0.01968504,\n",
       "              nan, 0.01181102,        nan, 0.        ,        nan,\n",
       "       0.        ,        nan, 0.        ,        nan, 0.01181102,\n",
       "              nan, 0.72047244,        nan, 0.7992126 ,        nan,\n",
       "       0.16929134,        nan, 0.3503937 ,        nan, 0.        ,\n",
       "              nan, 0.        ,        nan, 0.03149606,        nan,\n",
       "       0.        ,        nan, 0.        ,        nan, 0.        ,\n",
       "              nan, 0.        ,        nan, 0.        ,        nan,\n",
       "       0.        ,        nan, 0.        ,        nan, 0.        ,\n",
       "              nan, 0.        ,        nan, 0.        ,        nan,\n",
       "       0.01181102,        nan, 0.29133858,        nan, 0.        ,\n",
       "              nan, 0.2992126 ,        nan, 0.27952756,        nan,\n",
       "       0.33858268,        nan, 0.        ,        nan, 0.12992126,\n",
       "              nan, 0.59055118,        nan, 0.        ,        nan,\n",
       "       0.46062992,        nan, 0.03937008,        nan, 1.25984252,\n",
       "              nan, 0.37007874,        nan, 0.16141732,        nan,\n",
       "       0.24015748,        nan, 0.05905512,        nan, 0.03149606,\n",
       "              nan, 0.5       ,        nan, 0.01968504,        nan,\n",
       "       1.        ,        nan, 0.66929134,        nan, 0.        ,\n",
       "              nan, 0.07086614,        nan, 0.42913386,        nan,\n",
       "       0.16141732,        nan, 0.18897638,        nan, 0.16141732,\n",
       "              nan, 0.        ,        nan, 0.        ,        nan,\n",
       "       0.2007874 ,        nan, 0.        ,        nan, 0.        ,\n",
       "              nan, 0.        ,        nan, 0.        ,        nan,\n",
       "       0.        ,        nan, 0.        ,        nan, 0.        ,\n",
       "              nan, 0.        ,        nan, 0.        ,        nan,\n",
       "       0.        ,        nan, 0.14173228,        nan, 0.5984252 ,\n",
       "              nan, 0.01968504,        nan, 0.46850394,        nan,\n",
       "       0.0511811 ,        nan, 0.72047244,        nan, 0.01181102,\n",
       "              nan, 0.12992126,        nan, 1.3503937 ,        nan,\n",
       "       0.14173228,        nan, 0.        ,        nan, 0.        ,\n",
       "              nan, 0.        ,        nan, 0.        ,        nan,\n",
       "       0.03149606,        nan, 0.11811024,        nan, 0.29133858,\n",
       "              nan, 0.        ,        nan, 0.35826772,        nan,\n",
       "       0.38976378,        nan, 0.51181102,        nan, 0.27165354,\n",
       "              nan, 0.        ,        nan, 0.        ,        nan,\n",
       "       0.        ,        nan, 0.        ,        nan, 0.        ,\n",
       "              nan, 0.11023622,        nan, 0.51181102,        nan,\n",
       "       0.11811024,        nan, 0.77165354,        nan, 0.        ,\n",
       "              nan, 0.        ,        nan, 0.81102362,        nan,\n",
       "       0.20866142,        nan, 0.        ,        nan, 0.        ,\n",
       "              nan, 0.12992126,        nan, 0.16141732,        nan,\n",
       "       0.        ,        nan, 0.        ,        nan, 0.        ])"
      ]
     },
     "execution_count": 235,
     "metadata": {},
     "output_type": "execute_result"
    }
   ],
   "source": [
    "inches"
   ]
  },
  {
   "cell_type": "code",
   "execution_count": 236,
   "metadata": {},
   "outputs": [
    {
     "data": {
      "text/plain": [
       "array([nan, nan, nan, nan, nan, nan, nan, nan, nan, nan, nan, nan, nan,\n",
       "       nan, nan, nan, nan, nan, nan, nan, nan, nan, nan, nan, nan, nan,\n",
       "       nan, nan, nan, nan, nan, nan, nan, nan, nan, nan, nan, nan, nan,\n",
       "       nan, nan, nan, nan, nan, nan, nan, nan, nan, nan, nan, nan, nan,\n",
       "       nan, nan, nan, nan, nan, nan, nan, nan, nan, nan, nan, nan, nan,\n",
       "       nan, nan, nan, nan, nan, nan, nan, nan, nan, nan, nan, nan, nan,\n",
       "       nan, nan, nan, nan, nan, nan, nan, nan, nan, nan, nan, nan, nan,\n",
       "       nan, nan, nan, nan, nan, nan, nan, nan, nan, nan, nan, nan, nan,\n",
       "       nan, nan, nan, nan, nan, nan, nan, nan, nan, nan, nan, nan, nan,\n",
       "       nan, nan, nan, nan, nan, nan, nan, nan, nan, nan, nan, nan, nan,\n",
       "       nan, nan, nan, nan, nan, nan, nan, nan, nan, nan, nan, nan, nan,\n",
       "       nan, nan, nan, nan, nan, nan, nan, nan, nan, nan, nan, nan, nan,\n",
       "       nan, nan, nan, nan, nan, nan, nan, nan, nan, nan, nan, nan, nan,\n",
       "       nan, nan, nan, nan, nan, nan, nan, nan, nan, nan, nan, nan, nan,\n",
       "       nan, nan, nan, nan, nan, nan, nan, nan, nan, nan, nan, nan, nan,\n",
       "       nan, nan, nan, nan, nan, nan, nan, nan, nan, nan, nan, nan, nan,\n",
       "       nan, nan, nan, nan, nan, nan, nan, nan, nan, nan, nan, nan, nan,\n",
       "       nan, nan, nan, nan, nan, nan, nan, nan, nan, nan, nan, nan, nan,\n",
       "       nan, nan, nan, nan, nan, nan, nan, nan, nan, nan, nan, nan, nan,\n",
       "       nan, nan, nan, nan, nan, nan, nan, nan, nan, nan, nan, nan, nan,\n",
       "       nan, nan, nan, nan, nan, nan, nan, nan, nan, nan, nan, nan, nan,\n",
       "       nan, nan, nan, nan, nan, nan, nan, nan, nan, nan, nan, nan, nan,\n",
       "       nan, nan, nan, nan, nan, nan, nan, nan, nan, nan, nan, nan, nan,\n",
       "       nan, nan, nan, nan, nan, nan, nan, nan, nan, nan, nan, nan, nan,\n",
       "       nan, nan, nan, nan, nan, nan, nan, nan, nan, nan, nan, nan, nan,\n",
       "       nan, nan, nan, nan, nan, nan, nan, nan, nan, nan, nan, nan, nan,\n",
       "       nan, nan, nan, nan, nan, nan, nan, nan, nan, nan, nan, nan, nan,\n",
       "       nan, nan, nan, nan, nan, nan, nan, nan, nan, nan, nan, nan, nan,\n",
       "       nan])"
      ]
     },
     "execution_count": 236,
     "metadata": {},
     "output_type": "execute_result"
    }
   ],
   "source": [
    "na = pd.isna(inches)\n",
    "inches[na]"
   ]
  },
  {
   "cell_type": "code",
   "execution_count": 237,
   "metadata": {},
   "outputs": [
    {
     "data": {
      "text/plain": [
       "array([0.        , 0.16141732, 0.05905512, 0.        , 0.        ,\n",
       "       0.01181102, 0.48031496, 0.38188976, 0.22834646, 0.16929134,\n",
       "       0.83858268, 0.05905512, 0.        , 0.        , 0.        ,\n",
       "       0.        , 0.        , 0.        , 0.        , 0.        ,\n",
       "       0.        , 0.01968504, 0.        , 0.        , 0.        ,\n",
       "       0.        , 0.        , 0.3503937 , 0.8503937 , 0.        ,\n",
       "       0.09055118, 0.07874016, 0.        , 0.        , 0.        ,\n",
       "       0.        , 0.        , 0.        , 0.2007874 , 0.01968504,\n",
       "       0.72047244, 0.66929134, 0.18110236, 0.07086614, 0.37007874,\n",
       "       0.46062992, 1.03937008, 0.57086614, 0.5984252 , 0.03937008,\n",
       "       0.11811024, 0.11023622, 0.0984252 , 0.24015748, 0.51181102,\n",
       "       0.01181102, 0.        , 0.        , 0.        , 0.01968504,\n",
       "       0.7519685 , 0.42125984, 0.6496063 , 1.83858268, 0.11811024,\n",
       "       0.        , 1.27165354, 0.16929134, 0.74015748, 0.        ,\n",
       "       0.        , 0.01968504, 0.27165354, 0.31889764, 1.09055118,\n",
       "       0.01181102, 0.        , 0.01968504, 0.        , 0.        ,\n",
       "       0.        , 0.        , 0.        , 0.16141732, 0.14173228,\n",
       "       0.01181102, 0.87007874, 0.5511811 , 0.        , 0.        ,\n",
       "       0.        , 0.        , 0.0984252 , 0.        , 0.18110236,\n",
       "       0.        , 0.        , 0.18110236, 0.        , 0.        ,\n",
       "       0.        , 0.        , 0.        , 0.        , 0.01968504,\n",
       "       0.42913386, 0.72834646, 0.        , 0.53937008, 0.        ,\n",
       "       0.2007874 , 0.55905512, 0.3503937 , 0.48818898, 0.        ,\n",
       "       0.12992126, 0.27165354, 0.        , 0.        , 0.        ,\n",
       "       0.        , 0.        , 1.31102362, 0.62992126, 0.2007874 ,\n",
       "       0.        , 0.        , 0.53937008, 0.07874016, 0.01968504,\n",
       "       0.        , 0.        , 0.        , 0.        , 0.        ,\n",
       "       0.        , 0.        , 0.        , 0.        , 0.        ,\n",
       "       0.        , 0.        , 0.1496063 , 0.        , 0.22047244,\n",
       "       0.        , 0.        , 0.        , 0.        , 0.        ,\n",
       "       0.        , 0.        , 0.        , 0.        , 0.        ,\n",
       "       0.        , 0.        , 0.        , 0.        , 0.        ,\n",
       "       0.        , 0.        , 0.07086614, 0.2519685 , 0.        ,\n",
       "       0.01968504, 0.14173228, 0.0511811 , 0.        , 0.03149606,\n",
       "       0.01181102, 0.        , 0.        , 0.        , 0.        ,\n",
       "       0.        , 0.        , 0.07086614, 0.09055118, 0.        ,\n",
       "       0.        , 0.        , 0.        , 0.        , 0.        ,\n",
       "       0.        , 0.        , 0.        , 0.        , 0.        ,\n",
       "       0.        , 0.        , 0.        , 0.        , 0.        ,\n",
       "       0.        , 0.        , 0.        , 0.        , 0.        ,\n",
       "       0.        , 0.        , 0.01181102, 0.75984252, 0.        ,\n",
       "       0.        , 0.        , 0.        , 0.        , 0.        ,\n",
       "       0.        , 0.        , 0.        , 0.01968504, 0.        ,\n",
       "       0.        , 0.        , 0.        , 0.        , 0.        ,\n",
       "       0.        , 0.        , 0.01968504, 0.5       , 0.8503937 ,\n",
       "       0.        , 0.03937008, 0.        , 0.        , 0.        ,\n",
       "       0.        , 0.        , 0.        , 0.        , 0.        ,\n",
       "       0.        , 0.        , 0.        , 0.        , 0.        ,\n",
       "       0.        , 0.33070866, 0.0511811 , 0.        , 0.11811024,\n",
       "       0.        , 0.        , 0.        , 0.        , 0.        ,\n",
       "       0.        , 0.        , 0.        , 0.        , 0.        ,\n",
       "       0.        , 0.        , 0.        , 0.        , 0.01968504,\n",
       "       0.01181102, 0.        , 0.        , 0.        , 0.01181102,\n",
       "       0.72047244, 0.7992126 , 0.16929134, 0.3503937 , 0.        ,\n",
       "       0.        , 0.03149606, 0.        , 0.        , 0.        ,\n",
       "       0.        , 0.        , 0.        , 0.        , 0.        ,\n",
       "       0.        , 0.        , 0.01181102, 0.29133858, 0.        ,\n",
       "       0.2992126 , 0.27952756, 0.33858268, 0.        , 0.12992126,\n",
       "       0.59055118, 0.        , 0.46062992, 0.03937008, 1.25984252,\n",
       "       0.37007874, 0.16141732, 0.24015748, 0.05905512, 0.03149606,\n",
       "       0.5       , 0.01968504, 1.        , 0.66929134, 0.        ,\n",
       "       0.07086614, 0.42913386, 0.16141732, 0.18897638, 0.16141732,\n",
       "       0.        , 0.        , 0.2007874 , 0.        , 0.        ,\n",
       "       0.        , 0.        , 0.        , 0.        , 0.        ,\n",
       "       0.        , 0.        , 0.        , 0.14173228, 0.5984252 ,\n",
       "       0.01968504, 0.46850394, 0.0511811 , 0.72047244, 0.01181102,\n",
       "       0.12992126, 1.3503937 , 0.14173228, 0.        , 0.        ,\n",
       "       0.        , 0.        , 0.03149606, 0.11811024, 0.29133858,\n",
       "       0.        , 0.35826772, 0.38976378, 0.51181102, 0.27165354,\n",
       "       0.        , 0.        , 0.        , 0.        , 0.        ,\n",
       "       0.11023622, 0.51181102, 0.11811024, 0.77165354, 0.        ,\n",
       "       0.        , 0.81102362, 0.20866142, 0.        , 0.        ,\n",
       "       0.12992126, 0.16141732, 0.        , 0.        , 0.        ])"
      ]
     },
     "execution_count": 237,
     "metadata": {},
     "output_type": "execute_result"
    }
   ],
   "source": [
    "inches\n",
    "val = pd.notna(inches)\n",
    "inches[val]"
   ]
  },
  {
   "cell_type": "code",
   "execution_count": 238,
   "metadata": {},
   "outputs": [
    {
     "data": {
      "text/plain": [
       "array([       nan, 0.        ,        nan, 0.16141732,        nan,\n",
       "       0.05905512,        nan, 0.        ,        nan, 0.        ,\n",
       "              nan, 0.01181102,        nan, 0.48031496,        nan,\n",
       "       0.38188976,        nan, 0.22834646,        nan, 0.16929134,\n",
       "              nan, 0.83858268,        nan, 0.05905512,        nan,\n",
       "       0.        ,        nan, 0.        ,        nan, 0.        ,\n",
       "              nan, 0.        ,        nan, 0.        ,        nan,\n",
       "       0.        ,        nan, 0.        ,        nan, 0.        ,\n",
       "              nan, 0.        ,        nan, 0.01968504,        nan,\n",
       "       0.        ,        nan, 0.        ,        nan, 0.        ,\n",
       "              nan, 0.        ,        nan, 0.        ,        nan,\n",
       "       0.3503937 ,        nan, 0.8503937 ,        nan, 0.        ,\n",
       "              nan, 0.09055118,        nan, 0.07874016,        nan,\n",
       "       0.        ,        nan, 0.        ,        nan, 0.        ,\n",
       "              nan, 0.        ,        nan, 0.        ,        nan,\n",
       "       0.        ,        nan, 0.2007874 ,        nan, 0.01968504,\n",
       "              nan, 0.72047244,        nan, 0.66929134,        nan,\n",
       "       0.18110236,        nan, 0.07086614,        nan, 0.37007874,\n",
       "              nan, 0.46062992,        nan, 1.03937008,        nan,\n",
       "       0.57086614,        nan, 0.5984252 ,        nan, 0.03937008,\n",
       "              nan, 0.11811024,        nan, 0.11023622,        nan,\n",
       "       0.0984252 ,        nan, 0.24015748,        nan, 0.51181102,\n",
       "              nan, 0.01181102,        nan, 0.        ,        nan,\n",
       "       0.        ,        nan, 0.        ,        nan, 0.01968504,\n",
       "              nan, 0.7519685 ,        nan, 0.42125984,        nan,\n",
       "       0.6496063 ,        nan, 1.83858268,        nan, 0.11811024,\n",
       "              nan, 0.        ,        nan, 1.27165354,        nan,\n",
       "       0.16929134,        nan, 0.74015748,        nan, 0.        ,\n",
       "              nan, 0.        ,        nan, 0.01968504,        nan,\n",
       "       0.27165354,        nan, 0.31889764,        nan, 1.09055118,\n",
       "              nan, 0.01181102,        nan, 0.        ,        nan,\n",
       "       0.01968504,        nan, 0.        ,        nan, 0.        ,\n",
       "              nan, 0.        ,        nan, 0.        ,        nan,\n",
       "       0.        ,        nan, 0.16141732,        nan, 0.14173228,\n",
       "              nan, 0.01181102,        nan, 0.87007874,        nan,\n",
       "       0.5511811 ,        nan, 0.        ,        nan, 0.        ,\n",
       "              nan, 0.        ,        nan, 0.        ,        nan,\n",
       "       0.0984252 ,        nan, 0.        ,        nan, 0.18110236,\n",
       "              nan, 0.        ,        nan, 0.        ,        nan,\n",
       "       0.18110236,        nan, 0.        ,        nan, 0.        ,\n",
       "              nan, 0.        ,        nan, 0.        ,        nan,\n",
       "       0.        ,        nan, 0.        ,        nan, 0.01968504,\n",
       "              nan, 0.42913386,        nan, 0.72834646,        nan,\n",
       "       0.        ,        nan, 0.53937008,        nan, 0.        ,\n",
       "              nan, 0.2007874 ,        nan, 0.55905512,        nan,\n",
       "       0.3503937 ,        nan, 0.48818898,        nan, 0.        ,\n",
       "              nan, 0.12992126,        nan, 0.27165354,        nan,\n",
       "       0.        ,        nan, 0.        ,        nan, 0.        ,\n",
       "              nan, 0.        ,        nan, 0.        ,        nan,\n",
       "       1.31102362,        nan, 0.62992126,        nan, 0.2007874 ,\n",
       "              nan, 0.        ,        nan, 0.        ,        nan,\n",
       "       0.53937008,        nan, 0.07874016,        nan, 0.01968504,\n",
       "              nan, 0.        ,        nan, 0.        ,        nan,\n",
       "       0.        ,        nan, 0.        ,        nan, 0.        ,\n",
       "              nan, 0.        ,        nan, 0.        ,        nan,\n",
       "       0.        ,        nan, 0.        ,        nan, 0.        ,\n",
       "              nan, 0.        ,        nan, 0.        ,        nan,\n",
       "       0.1496063 ,        nan, 0.        ,        nan, 0.22047244,\n",
       "              nan, 0.        ,        nan, 0.        ,        nan,\n",
       "       0.        ,        nan, 0.        ,        nan, 0.        ,\n",
       "              nan, 0.        ,        nan, 0.        ,        nan,\n",
       "       0.        ,        nan, 0.        ,        nan, 0.        ,\n",
       "              nan, 0.        ,        nan, 0.        ,        nan,\n",
       "       0.        ,        nan, 0.        ,        nan, 0.        ,\n",
       "              nan, 0.        ,        nan, 0.        ,        nan,\n",
       "       0.07086614,        nan, 0.2519685 ,        nan, 0.        ,\n",
       "              nan, 0.01968504,        nan, 0.14173228,        nan,\n",
       "       0.0511811 ,        nan, 0.        ,        nan, 0.03149606,\n",
       "              nan, 0.01181102,        nan, 0.        ,        nan,\n",
       "       0.        ,        nan, 0.        ,        nan, 0.        ,\n",
       "              nan, 0.        ,        nan, 0.        ,        nan,\n",
       "       0.07086614,        nan, 0.09055118,        nan, 0.        ,\n",
       "              nan, 0.        ,        nan, 0.        ,        nan,\n",
       "       0.        ,        nan, 0.        ,        nan, 0.        ,\n",
       "              nan, 0.        ,        nan, 0.        ,        nan,\n",
       "       0.        ,        nan, 0.        ,        nan, 0.        ,\n",
       "              nan, 0.        ,        nan, 0.        ,        nan,\n",
       "       0.        ,        nan, 0.        ,        nan, 0.        ,\n",
       "              nan, 0.        ,        nan, 0.        ,        nan,\n",
       "       0.        ,        nan, 0.        ,        nan, 0.        ,\n",
       "              nan, 0.        ,        nan, 0.        ,        nan,\n",
       "       0.01181102,        nan, 0.75984252,        nan, 0.        ,\n",
       "              nan, 0.        ,        nan, 0.        ,        nan,\n",
       "       0.        ,        nan, 0.        ,        nan, 0.        ,\n",
       "              nan, 0.        ,        nan, 0.        ,        nan,\n",
       "       0.        ,        nan, 0.01968504,        nan, 0.        ,\n",
       "              nan, 0.        ,        nan, 0.        ,        nan,\n",
       "       0.        ,        nan, 0.        ,        nan, 0.        ,\n",
       "              nan, 0.        ,        nan, 0.        ,        nan,\n",
       "       0.01968504,        nan, 0.5       ,        nan, 0.8503937 ,\n",
       "              nan, 0.        ,        nan, 0.03937008,        nan,\n",
       "       0.        ,        nan, 0.        ,        nan, 0.        ,\n",
       "              nan, 0.        ,        nan, 0.        ,        nan,\n",
       "       0.        ,        nan, 0.        ,        nan, 0.        ,\n",
       "              nan, 0.        ,        nan, 0.        ,        nan,\n",
       "       0.        ,        nan, 0.        ,        nan, 0.        ,\n",
       "              nan, 0.        ,        nan, 0.33070866,        nan,\n",
       "       0.0511811 ,        nan, 0.        ,        nan, 0.11811024,\n",
       "              nan, 0.        ,        nan, 0.        ,        nan,\n",
       "       0.        ,        nan, 0.        ,        nan, 0.        ,\n",
       "              nan, 0.        ,        nan, 0.        ,        nan,\n",
       "       0.        ,        nan, 0.        ,        nan, 0.        ,\n",
       "              nan, 0.        ,        nan, 0.        ,        nan,\n",
       "       0.        ,        nan, 0.        ,        nan, 0.01968504,\n",
       "              nan, 0.01181102,        nan, 0.        ,        nan,\n",
       "       0.        ,        nan, 0.        ,        nan, 0.01181102,\n",
       "              nan, 0.72047244,        nan, 0.7992126 ,        nan,\n",
       "       0.16929134,        nan, 0.3503937 ,        nan, 0.        ,\n",
       "              nan, 0.        ,        nan, 0.03149606,        nan,\n",
       "       0.        ,        nan, 0.        ,        nan, 0.        ,\n",
       "              nan, 0.        ,        nan, 0.        ,        nan,\n",
       "       0.        ,        nan, 0.        ,        nan, 0.        ,\n",
       "              nan, 0.        ,        nan, 0.        ,        nan,\n",
       "       0.01181102,        nan, 0.29133858,        nan, 0.        ,\n",
       "              nan, 0.2992126 ,        nan, 0.27952756,        nan,\n",
       "       0.33858268,        nan, 0.        ,        nan, 0.12992126,\n",
       "              nan, 0.59055118,        nan, 0.        ,        nan,\n",
       "       0.46062992,        nan, 0.03937008,        nan, 1.25984252,\n",
       "              nan, 0.37007874,        nan, 0.16141732,        nan,\n",
       "       0.24015748,        nan, 0.05905512,        nan, 0.03149606,\n",
       "              nan, 0.5       ,        nan, 0.01968504,        nan,\n",
       "       1.        ,        nan, 0.66929134,        nan, 0.        ,\n",
       "              nan, 0.07086614,        nan, 0.42913386,        nan,\n",
       "       0.16141732,        nan, 0.18897638,        nan, 0.16141732,\n",
       "              nan, 0.        ,        nan, 0.        ,        nan,\n",
       "       0.2007874 ,        nan, 0.        ,        nan, 0.        ,\n",
       "              nan, 0.        ,        nan, 0.        ,        nan,\n",
       "       0.        ,        nan, 0.        ,        nan, 0.        ,\n",
       "              nan, 0.        ,        nan, 0.        ,        nan,\n",
       "       0.        ,        nan, 0.14173228,        nan, 0.5984252 ,\n",
       "              nan, 0.01968504,        nan, 0.46850394,        nan,\n",
       "       0.0511811 ,        nan, 0.72047244,        nan, 0.01181102,\n",
       "              nan, 0.12992126,        nan, 1.3503937 ,        nan,\n",
       "       0.14173228,        nan, 0.        ,        nan, 0.        ,\n",
       "              nan, 0.        ,        nan, 0.        ,        nan,\n",
       "       0.03149606,        nan, 0.11811024,        nan, 0.29133858,\n",
       "              nan, 0.        ,        nan, 0.35826772,        nan,\n",
       "       0.38976378,        nan, 0.51181102,        nan, 0.27165354,\n",
       "              nan, 0.        ,        nan, 0.        ,        nan,\n",
       "       0.        ,        nan, 0.        ,        nan, 0.        ,\n",
       "              nan, 0.11023622,        nan, 0.51181102,        nan,\n",
       "       0.11811024,        nan, 0.77165354,        nan, 0.        ,\n",
       "              nan, 0.        ,        nan, 0.81102362,        nan,\n",
       "       0.20866142,        nan, 0.        ,        nan, 0.        ,\n",
       "              nan, 0.12992126,        nan, 0.16141732,        nan,\n",
       "       0.        ,        nan, 0.        ,        nan, 0.        ])"
      ]
     },
     "execution_count": 238,
     "metadata": {},
     "output_type": "execute_result"
    }
   ],
   "source": [
    "inches"
   ]
  },
  {
   "cell_type": "code",
   "execution_count": 239,
   "metadata": {},
   "outputs": [
    {
     "data": {
      "text/plain": [
       "29"
      ]
     },
     "execution_count": 239,
     "metadata": {},
     "output_type": "execute_result"
    }
   ],
   "source": [
    "# how many days with rainfall do we have between 0.5 and 1 inches\n",
    "np.sum((np.greater(inches[val],0.5)) & (np.less(inches[val],1)))"
   ]
  },
  {
   "cell_type": "code",
   "execution_count": 240,
   "metadata": {},
   "outputs": [
    {
     "data": {
      "text/plain": [
       "365"
      ]
     },
     "execution_count": 240,
     "metadata": {},
     "output_type": "execute_result"
    }
   ],
   "source": [
    "np.sum((inches[val]>0.5) | (inches[val]<1))"
   ]
  },
  {
   "cell_type": "code",
   "execution_count": null,
   "metadata": {},
   "outputs": [],
   "source": []
  },
  {
   "cell_type": "code",
   "execution_count": 241,
   "metadata": {},
   "outputs": [
    {
     "name": "stdout",
     "output_type": "stream",
     "text": [
      "Number of days without rain:  215\n",
      "Number of days with rain:  150\n",
      "Number of days with more than 0.5 inches:  37\n",
      "Number of days with less than 0.1 inches:  46\n"
     ]
    }
   ],
   "source": [
    "print(\"Number of days without rain: \", np.sum(inches[val] ==0))\n",
    "print(\"Number of days with rain: \", np.sum(inches[val] !=0))\n",
    "print(\"Number of days with more than 0.5 inches: \", np.sum(inches[val] >0.5))\n",
    "print(\"Number of days with less than 0.1 inches: \", np.sum((inches[val] >0) & (inches[val]<0.1)))"
   ]
  },
  {
   "cell_type": "markdown",
   "metadata": {},
   "source": [
    "# Boolean Array masking"
   ]
  },
  {
   "cell_type": "code",
   "execution_count": 242,
   "metadata": {},
   "outputs": [
    {
     "data": {
      "text/plain": [
       "array([[5, 0, 3, 3],\n",
       "       [7, 9, 3, 5],\n",
       "       [2, 4, 7, 6]])"
      ]
     },
     "execution_count": 242,
     "metadata": {},
     "output_type": "execute_result"
    }
   ],
   "source": [
    "x"
   ]
  },
  {
   "cell_type": "code",
   "execution_count": 243,
   "metadata": {},
   "outputs": [
    {
     "data": {
      "text/plain": [
       "array([[False,  True,  True,  True],\n",
       "       [False, False,  True, False],\n",
       "       [ True,  True, False, False]])"
      ]
     },
     "execution_count": 243,
     "metadata": {},
     "output_type": "execute_result"
    }
   ],
   "source": [
    "# select all values from x where x is less than 5\n",
    "x<5"
   ]
  },
  {
   "cell_type": "code",
   "execution_count": 244,
   "metadata": {},
   "outputs": [
    {
     "data": {
      "text/plain": [
       "array([0, 3, 3, 3, 2, 4])"
      ]
     },
     "execution_count": 244,
     "metadata": {},
     "output_type": "execute_result"
    }
   ],
   "source": [
    "# show all the real value of those that are True\n",
    "x[x<5]"
   ]
  },
  {
   "cell_type": "code",
   "execution_count": 245,
   "metadata": {},
   "outputs": [
    {
     "data": {
      "text/plain": [
       "array([0.16141732, 0.05905512, 0.01181102, 0.48031496, 0.38188976,\n",
       "       0.22834646, 0.16929134, 0.83858268, 0.05905512, 0.01968504,\n",
       "       0.3503937 , 0.8503937 , 0.09055118, 0.07874016, 0.2007874 ,\n",
       "       0.01968504, 0.72047244, 0.66929134, 0.18110236, 0.07086614,\n",
       "       0.37007874, 0.46062992, 1.03937008, 0.57086614, 0.5984252 ,\n",
       "       0.03937008, 0.11811024, 0.11023622, 0.0984252 , 0.24015748,\n",
       "       0.51181102, 0.01181102, 0.01968504, 0.7519685 , 0.42125984,\n",
       "       0.6496063 , 1.83858268, 0.11811024, 1.27165354, 0.16929134,\n",
       "       0.74015748, 0.01968504, 0.27165354, 0.31889764, 1.09055118,\n",
       "       0.01181102, 0.01968504, 0.16141732, 0.14173228, 0.01181102,\n",
       "       0.87007874, 0.5511811 , 0.0984252 , 0.18110236, 0.18110236,\n",
       "       0.01968504, 0.42913386, 0.72834646, 0.53937008, 0.2007874 ,\n",
       "       0.55905512, 0.3503937 , 0.48818898, 0.12992126, 0.27165354,\n",
       "       1.31102362, 0.62992126, 0.2007874 , 0.53937008, 0.07874016,\n",
       "       0.01968504, 0.1496063 , 0.22047244, 0.07086614, 0.2519685 ,\n",
       "       0.01968504, 0.14173228, 0.0511811 , 0.03149606, 0.01181102,\n",
       "       0.07086614, 0.09055118, 0.01181102, 0.75984252, 0.01968504,\n",
       "       0.01968504, 0.5       , 0.8503937 , 0.03937008, 0.33070866,\n",
       "       0.0511811 , 0.11811024, 0.01968504, 0.01181102, 0.01181102,\n",
       "       0.72047244, 0.7992126 , 0.16929134, 0.3503937 , 0.03149606,\n",
       "       0.01181102, 0.29133858, 0.2992126 , 0.27952756, 0.33858268,\n",
       "       0.12992126, 0.59055118, 0.46062992, 0.03937008, 1.25984252,\n",
       "       0.37007874, 0.16141732, 0.24015748, 0.05905512, 0.03149606,\n",
       "       0.5       , 0.01968504, 1.        , 0.66929134, 0.07086614,\n",
       "       0.42913386, 0.16141732, 0.18897638, 0.16141732, 0.2007874 ,\n",
       "       0.14173228, 0.5984252 , 0.01968504, 0.46850394, 0.0511811 ,\n",
       "       0.72047244, 0.01181102, 0.12992126, 1.3503937 , 0.14173228,\n",
       "       0.03149606, 0.11811024, 0.29133858, 0.35826772, 0.38976378,\n",
       "       0.51181102, 0.27165354, 0.11023622, 0.51181102, 0.11811024,\n",
       "       0.77165354, 0.81102362, 0.20866142, 0.12992126, 0.16141732])"
      ]
     },
     "execution_count": 245,
     "metadata": {},
     "output_type": "execute_result"
    }
   ],
   "source": [
    "# construct a mask of all rainy days\n",
    "inche =inches[val]\n",
    "rainy = (inche > 0)\n",
    "inche[rainy]"
   ]
  },
  {
   "cell_type": "code",
   "execution_count": 246,
   "metadata": {},
   "outputs": [
    {
     "data": {
      "text/plain": [
       "array([0.        , 0.        , 0.        , 0.        , 0.07086614,\n",
       "       0.09055118, 0.        , 0.        , 0.        , 0.        ,\n",
       "       0.        , 0.        , 0.        , 0.        , 0.        ,\n",
       "       0.        , 0.        , 0.        , 0.        , 0.        ,\n",
       "       0.        , 0.        , 0.        , 0.        , 0.        ,\n",
       "       0.        , 0.        , 0.        , 0.        , 0.01181102,\n",
       "       0.75984252, 0.        , 0.        , 0.        , 0.        ,\n",
       "       0.        , 0.        , 0.        , 0.        , 0.        ,\n",
       "       0.01968504, 0.        , 0.        , 0.        , 0.        ,\n",
       "       0.        , 0.        , 0.        , 0.        , 0.01968504,\n",
       "       0.5       , 0.8503937 , 0.        , 0.03937008, 0.        ,\n",
       "       0.        , 0.        , 0.        , 0.        , 0.        ,\n",
       "       0.        , 0.        , 0.        , 0.        , 0.        ,\n",
       "       0.        , 0.        , 0.        , 0.33070866, 0.0511811 ,\n",
       "       0.        , 0.11811024, 0.        , 0.        , 0.        ,\n",
       "       0.        , 0.        , 0.        , 0.        , 0.        ,\n",
       "       0.        , 0.        , 0.        , 0.        , 0.        ,\n",
       "       0.        , 0.01968504, 0.01181102, 0.        ])"
      ]
     },
     "execution_count": 246,
     "metadata": {},
     "output_type": "execute_result"
    }
   ],
   "source": [
    "# contruct a mask of all summer days (june 21st is the 172nd day)\n",
    "summer = (np.arange(365)-172<90) & (np.arange(365)-172>0)\n",
    "inche[summer]"
   ]
  },
  {
   "cell_type": "code",
   "execution_count": 247,
   "metadata": {},
   "outputs": [
    {
     "name": "stdout",
     "output_type": "stream",
     "text": [
      "Median precip on rainy days in 2014 (inches):  0.19488188976377951\n",
      "Median precip on summer days in 2014 (inches):  0.0\n",
      "Maximum precip on summer days in 2014 (inches):  0.8503937007874016\n",
      "Median precip on non-summer rainy days (inches):  0.20078740157480315\n"
     ]
    }
   ],
   "source": [
    "# **\n",
    "print(\"Median precip on rainy days in 2014 (inches): \", np.median(inche[rainy]))\n",
    "print(\"Median precip on summer days in 2014 (inches): \", np.median(inche[summer]))\n",
    "print(\"Maximum precip on summer days in 2014 (inches): \", np.max(inche[summer]))\n",
    "print(\"Median precip on non-summer rainy days (inches): \", np.median(inche[rainy & ~summer]))"
   ]
  },
  {
   "cell_type": "markdown",
   "metadata": {},
   "source": [
    "# Fancy Indexing"
   ]
  },
  {
   "cell_type": "code",
   "execution_count": 4,
   "metadata": {},
   "outputs": [
    {
     "name": "stdout",
     "output_type": "stream",
     "text": [
      "[51 92 14 71 60 20 82 86 74 74]\n"
     ]
    }
   ],
   "source": [
    "rand = np.random.RandomState(42)\n",
    "x = rand.randint(100, size=10)\n",
    "print(x)"
   ]
  },
  {
   "cell_type": "code",
   "execution_count": 324,
   "metadata": {},
   "outputs": [
    {
     "data": {
      "text/plain": [
       "[71, 86, 14]"
      ]
     },
     "execution_count": 324,
     "metadata": {},
     "output_type": "execute_result"
    }
   ],
   "source": [
    "# suppose we want to access three different elements\n",
    "[x[3], x[7], x[2]]"
   ]
  },
  {
   "cell_type": "code",
   "execution_count": 325,
   "metadata": {},
   "outputs": [
    {
     "data": {
      "text/plain": [
       "array([71, 86, 14])"
      ]
     },
     "execution_count": 325,
     "metadata": {},
     "output_type": "execute_result"
    }
   ],
   "source": [
    "# alternatively\n",
    "ind = [3, 7, 2]\n",
    "x[ind]"
   ]
  },
  {
   "cell_type": "code",
   "execution_count": 326,
   "metadata": {},
   "outputs": [
    {
     "data": {
      "text/plain": [
       "array([[71, 86],\n",
       "       [60, 20]])"
      ]
     },
     "execution_count": 326,
     "metadata": {},
     "output_type": "execute_result"
    }
   ],
   "source": [
    "# to get the extracted array as multindimension array\n",
    "ind = np.array([[3,7],[4,5]])\n",
    "x[ind]"
   ]
  },
  {
   "cell_type": "code",
   "execution_count": 327,
   "metadata": {},
   "outputs": [
    {
     "data": {
      "text/plain": [
       "array([[ 0,  1,  2,  3],\n",
       "       [ 4,  5,  6,  7],\n",
       "       [ 8,  9, 10, 11]])"
      ]
     },
     "execution_count": 327,
     "metadata": {},
     "output_type": "execute_result"
    }
   ],
   "source": [
    "# Fancy indenxing for a multidimension array\n",
    "x = np.arange(12).reshape(3,4)\n",
    "x"
   ]
  },
  {
   "cell_type": "code",
   "execution_count": 328,
   "metadata": {},
   "outputs": [
    {
     "data": {
      "text/plain": [
       "array([5, 8, 3])"
      ]
     },
     "execution_count": 328,
     "metadata": {},
     "output_type": "execute_result"
    }
   ],
   "source": [
    "# to index multidemension array, use a list of row and column **\n",
    "row = np.array([1,2,0])\n",
    "col = np.array([1,0,3])\n",
    "x[row, col] # same as x[0,2]"
   ]
  },
  {
   "cell_type": "code",
   "execution_count": 329,
   "metadata": {},
   "outputs": [
    {
     "data": {
      "text/plain": [
       "array([[1],\n",
       "       [2],\n",
       "       [0]])"
      ]
     },
     "execution_count": 329,
     "metadata": {},
     "output_type": "execute_result"
    }
   ],
   "source": [
    "row[:,np.newaxis] "
   ]
  },
  {
   "cell_type": "code",
   "execution_count": 331,
   "metadata": {},
   "outputs": [
    {
     "data": {
      "text/plain": [
       "array([[ 5,  4,  7],\n",
       "       [ 9,  8, 11],\n",
       "       [ 1,  0,  3]])"
      ]
     },
     "execution_count": 331,
     "metadata": {},
     "output_type": "execute_result"
    }
   ],
   "source": [
    "# ** we can combine a column vector and a row vector within the indices to get a two-dimesional result\n",
    "x[row[:, np.newaxis], col]"
   ]
  },
  {
   "cell_type": "code",
   "execution_count": 333,
   "metadata": {},
   "outputs": [
    {
     "data": {
      "text/plain": [
       "array([[1, 0, 3],\n",
       "       [2, 0, 6],\n",
       "       [0, 0, 0]])"
      ]
     },
     "execution_count": 333,
     "metadata": {},
     "output_type": "execute_result"
    }
   ],
   "source": [
    "# it can also be use for broadcasting of array **\n",
    "row[:,np.newaxis] * col\n",
    "# 0, 0, 0   2, 1, 3\n",
    "# 1, 1, 1   2, 1, 3\n",
    "# 2, 2, 2   2, 1, 3"
   ]
  },
  {
   "cell_type": "code",
   "execution_count": 334,
   "metadata": {},
   "outputs": [],
   "source": [
    "# m = [np.newaxis]\n",
    "# m"
   ]
  },
  {
   "cell_type": "markdown",
   "metadata": {},
   "source": [
    "# Combine Indexing"
   ]
  },
  {
   "cell_type": "code",
   "execution_count": 335,
   "metadata": {},
   "outputs": [
    {
     "data": {
      "text/plain": [
       "array([[ 0,  1,  2,  3],\n",
       "       [ 4,  5,  6,  7],\n",
       "       [ 8,  9, 10, 11]])"
      ]
     },
     "execution_count": 335,
     "metadata": {},
     "output_type": "execute_result"
    }
   ],
   "source": [
    "x"
   ]
  },
  {
   "cell_type": "code",
   "execution_count": 336,
   "metadata": {},
   "outputs": [
    {
     "data": {
      "text/plain": [
       "array([9, 2, 7])"
      ]
     },
     "execution_count": 336,
     "metadata": {},
     "output_type": "execute_result"
    }
   ],
   "source": [
    "# combining fancy index with simple indices\n",
    "x[[2,0,1], [1,2,3]]"
   ]
  },
  {
   "cell_type": "code",
   "execution_count": 337,
   "metadata": {},
   "outputs": [
    {
     "data": {
      "text/plain": [
       "array([[ 4,  5,  6,  7],\n",
       "       [ 8,  9, 10, 11]])"
      ]
     },
     "execution_count": 337,
     "metadata": {},
     "output_type": "execute_result"
    }
   ],
   "source": [
    "x[1:]"
   ]
  },
  {
   "cell_type": "code",
   "execution_count": 338,
   "metadata": {},
   "outputs": [
    {
     "data": {
      "text/plain": [
       "array([[ 6,  4,  5],\n",
       "       [10,  8,  9]])"
      ]
     },
     "execution_count": 338,
     "metadata": {},
     "output_type": "execute_result"
    }
   ],
   "source": [
    "# combining fancy index with slicig\n",
    "x[1:, [2, 0, 1]]"
   ]
  },
  {
   "cell_type": "code",
   "execution_count": 339,
   "metadata": {},
   "outputs": [
    {
     "data": {
      "text/plain": [
       "array([[ 0,  1,  2,  3],\n",
       "       [ 4,  5,  6,  7],\n",
       "       [ 8,  9, 10, 11]])"
      ]
     },
     "execution_count": 339,
     "metadata": {},
     "output_type": "execute_result"
    }
   ],
   "source": [
    "x"
   ]
  },
  {
   "cell_type": "code",
   "execution_count": 340,
   "metadata": {},
   "outputs": [
    {
     "data": {
      "text/plain": [
       "array([1, 2, 0])"
      ]
     },
     "execution_count": 340,
     "metadata": {},
     "output_type": "execute_result"
    }
   ],
   "source": [
    "row"
   ]
  },
  {
   "cell_type": "code",
   "execution_count": 341,
   "metadata": {},
   "outputs": [
    {
     "data": {
      "text/plain": [
       "array([[ 0,  1,  2,  3],\n",
       "       [ 4,  5,  6,  7],\n",
       "       [ 8,  9, 10, 11]])"
      ]
     },
     "execution_count": 341,
     "metadata": {},
     "output_type": "execute_result"
    }
   ],
   "source": [
    "x"
   ]
  },
  {
   "cell_type": "code",
   "execution_count": 342,
   "metadata": {},
   "outputs": [
    {
     "data": {
      "text/plain": [
       "array([[1],\n",
       "       [2],\n",
       "       [0]])"
      ]
     },
     "execution_count": 342,
     "metadata": {},
     "output_type": "execute_result"
    }
   ],
   "source": [
    "row[:,np.newaxis]"
   ]
  },
  {
   "cell_type": "code",
   "execution_count": 343,
   "metadata": {},
   "outputs": [
    {
     "name": "stdout",
     "output_type": "stream",
     "text": [
      "[ True False  True False]\n"
     ]
    },
    {
     "data": {
      "text/plain": [
       "array([[ 4,  6],\n",
       "       [ 8, 10],\n",
       "       [ 0,  2]])"
      ]
     },
     "execution_count": 343,
     "metadata": {},
     "output_type": "execute_result"
    }
   ],
   "source": [
    "# we can combine fancy indexing with boolean masking **\n",
    "mask = np.array([1,0,1,0], dtype='bool')\n",
    "print(mask)\n",
    "x[row[:, np.newaxis], mask]\n"
   ]
  },
  {
   "cell_type": "code",
   "execution_count": 344,
   "metadata": {},
   "outputs": [
    {
     "data": {
      "text/plain": [
       "array([[ 0.32866587,  0.23082847],\n",
       "       [-0.57834965, -2.46631196],\n",
       "       [ 1.06166675,  2.36800887],\n",
       "       [ 0.17604822, -0.09847878],\n",
       "       [-0.44195017, -1.63691827],\n",
       "       [-0.09936382, -0.29481584],\n",
       "       [ 0.06905475,  2.37140809],\n",
       "       [ 0.90349714, -1.29145735],\n",
       "       [ 0.21942357,  0.86375134],\n",
       "       [-0.76024391, -2.91305016],\n",
       "       [-0.46505623, -1.36467816],\n",
       "       [-0.42963116, -0.40930837],\n",
       "       [-0.05976441,  1.2886901 ],\n",
       "       [ 0.39099344,  1.91150601],\n",
       "       [-0.3861712 , -3.44998828],\n",
       "       [ 0.01080938, -2.37238871],\n",
       "       [-1.29845268, -2.07205224],\n",
       "       [ 0.27592312,  0.19978356],\n",
       "       [ 1.20564428,  1.86547837],\n",
       "       [ 0.15799404, -0.70709238],\n",
       "       [ 0.20569945, -0.76346227],\n",
       "       [ 1.44211811,  4.22995218],\n",
       "       [-0.66609707, -1.00608804],\n",
       "       [ 0.35557178,  0.67988798],\n",
       "       [ 1.34320135,  2.03607095],\n",
       "       [-0.30085378,  0.2457382 ],\n",
       "       [ 0.37068022,  0.52690737],\n",
       "       [-0.83699675, -0.38821061],\n",
       "       [ 0.37268384,  0.93710775],\n",
       "       [ 0.69001952,  0.78095345],\n",
       "       [ 1.35237873,  2.47548106],\n",
       "       [-0.728468  , -3.95443108],\n",
       "       [-0.73064388, -1.89132631],\n",
       "       [ 1.25208551,  2.02092371],\n",
       "       [ 1.6078874 ,  2.91880308],\n",
       "       [ 0.98262195,  2.65033901],\n",
       "       [-0.42815713, -0.62772472],\n",
       "       [ 0.55345499, -0.11631181],\n",
       "       [ 0.12722633,  0.933575  ],\n",
       "       [ 0.05433702,  1.94443452],\n",
       "       [ 0.80440218,  0.36004622],\n",
       "       [ 0.74390485,  4.28103447],\n",
       "       [ 0.68663347,  0.81699565],\n",
       "       [-1.3648014 , -2.50450516],\n",
       "       [ 1.80353729,  1.41433964],\n",
       "       [ 0.1219495 ,  0.6913709 ],\n",
       "       [-1.87222462, -3.41328638],\n",
       "       [ 1.09107009,  1.01405273],\n",
       "       [-2.51101738, -5.72316099],\n",
       "       [ 0.87809843,  1.86349011],\n",
       "       [-0.35837791, -0.3369735 ],\n",
       "       [-0.75919865, -1.79710035],\n",
       "       [ 1.33488384,  3.58654117],\n",
       "       [ 1.35215533,  4.11404769],\n",
       "       [ 0.97334753,  0.21522244],\n",
       "       [-1.0626597 , -2.66640333],\n",
       "       [-0.63445987, -2.18210144],\n",
       "       [-0.80927519, -0.7484365 ],\n",
       "       [-0.55529944, -1.72997075],\n",
       "       [ 0.37362009,  1.29331178],\n",
       "       [-0.64523119, -1.88302437],\n",
       "       [-0.70930688, -1.49486465],\n",
       "       [-0.51419762,  0.17363821],\n",
       "       [ 2.29268124,  5.56583042],\n",
       "       [ 1.5636221 ,  3.17913722],\n",
       "       [ 0.45484579,  0.03117985],\n",
       "       [ 0.7633469 ,  1.22517326],\n",
       "       [-0.56932759,  0.59492379],\n",
       "       [ 0.80126958,  1.08173876],\n",
       "       [ 0.87306014,  3.18578555],\n",
       "       [-1.41343816, -2.31402979],\n",
       "       [ 0.6151634 ,  2.43975898],\n",
       "       [-1.04559244, -1.64557077],\n",
       "       [ 0.54921786, -0.35613615],\n",
       "       [ 0.40599829,  1.12463123],\n",
       "       [-1.28755742, -4.23058283],\n",
       "       [ 0.0903887 ,  2.1095241 ],\n",
       "       [-0.10063167,  0.71898166],\n",
       "       [ 0.91685237, -0.45576751],\n",
       "       [-1.91132615, -4.85650504],\n",
       "       [-0.20761794,  0.78177139],\n",
       "       [ 1.48536285,  3.06035388],\n",
       "       [-1.00548003, -2.55705688],\n",
       "       [-1.21870286, -2.01855458],\n",
       "       [-1.97627173, -4.75362569],\n",
       "       [ 0.34182533, -0.44776184],\n",
       "       [ 0.3455366 ,  1.05926339],\n",
       "       [ 0.52973489,  1.27916003],\n",
       "       [ 0.99420423,  1.06303858],\n",
       "       [-0.54379741, -0.30622843],\n",
       "       [-1.07744339, -0.96189548],\n",
       "       [-0.10057212, -2.90935766],\n",
       "       [-0.85431111,  0.24089821],\n",
       "       [ 0.38170219,  0.58520766],\n",
       "       [ 0.35661614,  0.46481215],\n",
       "       [ 1.07775594,  3.0026724 ],\n",
       "       [ 0.69020538,  1.94861428],\n",
       "       [ 0.55354762,  1.41538658],\n",
       "       [ 0.6945404 ,  2.25144718],\n",
       "       [-0.38078583, -0.40443949]])"
      ]
     },
     "execution_count": 344,
     "metadata": {},
     "output_type": "execute_result"
    }
   ],
   "source": [
    "# practical example of working with fancy indexing\n",
    "mean =[0,0]\n",
    "cov =[[1,2],[2,5]]\n",
    "x = np.random.multivariate_normal(mean, cov, 100)\n",
    "x\n"
   ]
  },
  {
   "cell_type": "code",
   "execution_count": 345,
   "metadata": {},
   "outputs": [
    {
     "data": {
      "text/plain": [
       "array([ 0.32866587, -0.57834965,  1.06166675,  0.17604822, -0.44195017,\n",
       "       -0.09936382,  0.06905475,  0.90349714,  0.21942357, -0.76024391,\n",
       "       -0.46505623, -0.42963116, -0.05976441,  0.39099344, -0.3861712 ,\n",
       "        0.01080938, -1.29845268,  0.27592312,  1.20564428,  0.15799404,\n",
       "        0.20569945,  1.44211811, -0.66609707,  0.35557178,  1.34320135,\n",
       "       -0.30085378,  0.37068022, -0.83699675,  0.37268384,  0.69001952,\n",
       "        1.35237873, -0.728468  , -0.73064388,  1.25208551,  1.6078874 ,\n",
       "        0.98262195, -0.42815713,  0.55345499,  0.12722633,  0.05433702,\n",
       "        0.80440218,  0.74390485,  0.68663347, -1.3648014 ,  1.80353729,\n",
       "        0.1219495 , -1.87222462,  1.09107009, -2.51101738,  0.87809843,\n",
       "       -0.35837791, -0.75919865,  1.33488384,  1.35215533,  0.97334753,\n",
       "       -1.0626597 , -0.63445987, -0.80927519, -0.55529944,  0.37362009,\n",
       "       -0.64523119, -0.70930688, -0.51419762,  2.29268124,  1.5636221 ,\n",
       "        0.45484579,  0.7633469 , -0.56932759,  0.80126958,  0.87306014,\n",
       "       -1.41343816,  0.6151634 , -1.04559244,  0.54921786,  0.40599829,\n",
       "       -1.28755742,  0.0903887 , -0.10063167,  0.91685237, -1.91132615,\n",
       "       -0.20761794,  1.48536285, -1.00548003, -1.21870286, -1.97627173,\n",
       "        0.34182533,  0.3455366 ,  0.52973489,  0.99420423, -0.54379741,\n",
       "       -1.07744339, -0.10057212, -0.85431111,  0.38170219,  0.35661614,\n",
       "        1.07775594,  0.69020538,  0.55354762,  0.6945404 , -0.38078583])"
      ]
     },
     "execution_count": 345,
     "metadata": {},
     "output_type": "execute_result"
    }
   ],
   "source": [
    "X =x[:,0]\n",
    "X"
   ]
  },
  {
   "cell_type": "code",
   "execution_count": 346,
   "metadata": {},
   "outputs": [
    {
     "data": {
      "image/png": "[encoded data removed]",
      "text/plain": [
       "<Figure size 432x288 with 1 Axes>"
      ]
     },
     "metadata": {},
     "output_type": "display_data"
    }
   ],
   "source": [
    "# view the generated sample using a scatter plot\n",
    "%matplotlib inline\n",
    "import matplotlib.pyplot as plt\n",
    "import seaborn; seaborn.set()\n",
    "X =x[:,0]\n",
    "Y =x[:,1]\n",
    "plt.scatter(X, Y);"
   ]
  },
  {
   "cell_type": "code",
   "execution_count": 347,
   "metadata": {},
   "outputs": [
    {
     "data": {
      "text/plain": [
       "100"
      ]
     },
     "execution_count": 347,
     "metadata": {},
     "output_type": "execute_result"
    }
   ],
   "source": [
    "x.shape[0]"
   ]
  },
  {
   "cell_type": "code",
   "execution_count": 348,
   "metadata": {},
   "outputs": [
    {
     "name": "stdout",
     "output_type": "stream",
     "text": [
      "[43 35 55 96 61 62  3 99 19 98 51 18 94 89 66 20  2 24 34  5] \n",
      "\n"
     ]
    }
   ],
   "source": [
    "# use fancy index to generate 20 samples at random from the data\n",
    "row = np.random.choice(x.shape[0], 20, replace=False)\n",
    "# selection = x[row,:]\n",
    "print(row, \"\\n\")\n",
    "# print(selection)\n",
    "# selection = x[np.all(x<0, axis=1)]\n",
    "# selection "
   ]
  },
  {
   "cell_type": "code",
   "execution_count": 349,
   "metadata": {},
   "outputs": [
    {
     "name": "stdout",
     "output_type": "stream",
     "text": [
      "[[-1.3648014  -2.50450516]\n",
      " [ 0.98262195  2.65033901]\n",
      " [-1.0626597  -2.66640333]\n",
      " [ 0.69020538  1.94861428]\n",
      " [-0.70930688 -1.49486465]\n",
      " [-0.51419762  0.17363821]\n",
      " [ 0.17604822 -0.09847878]\n",
      " [-0.38078583 -0.40443949]\n",
      " [ 0.15799404 -0.70709238]\n",
      " [ 0.6945404   2.25144718]\n",
      " [-0.75919865 -1.79710035]\n",
      " [ 1.20564428  1.86547837]\n",
      " [ 0.35661614  0.46481215]\n",
      " [-0.54379741 -0.30622843]\n",
      " [ 0.7633469   1.22517326]\n",
      " [ 0.20569945 -0.76346227]\n",
      " [ 1.06166675  2.36800887]\n",
      " [ 1.34320135  2.03607095]\n",
      " [ 1.6078874   2.91880308]\n",
      " [-0.09936382 -0.29481584]]\n"
     ]
    }
   ],
   "source": [
    "selection = x[row,:]\n",
    "print(selection)"
   ]
  },
  {
   "cell_type": "code",
   "execution_count": 350,
   "metadata": {},
   "outputs": [
    {
     "data": {
      "image/png": "[encoded data removed]",
      "text/plain": [
       "<Figure size 432x288 with 1 Axes>"
      ]
     },
     "metadata": {},
     "output_type": "display_data"
    }
   ],
   "source": [
    "# let us view which points were selected from the data using scatter plot\n",
    "plt.scatter(X, Y, alpha=0.5);\n",
    "plt.scatter(selection[:,0], selection[:,1],facecolor='red',alpha=0.5, s=20 );"
   ]
  },
  {
   "cell_type": "markdown",
   "metadata": {},
   "source": [
    "# Modifying Values of Array with Fancy Indexing"
   ]
  },
  {
   "cell_type": "code",
   "execution_count": 351,
   "metadata": {},
   "outputs": [
    {
     "data": {
      "text/plain": [
       "array([0, 1, 2, 3, 4, 5, 6, 7, 8, 9])"
      ]
     },
     "execution_count": 351,
     "metadata": {},
     "output_type": "execute_result"
    }
   ],
   "source": [
    "# generate an array of lenght 10 and list of indices to modify\n",
    "val = np.arange(10)\n",
    "i = np.array([2,-1,8,4])\n",
    "val"
   ]
  },
  {
   "cell_type": "code",
   "execution_count": 352,
   "metadata": {},
   "outputs": [
    {
     "data": {
      "text/plain": [
       "array([ 2, -1,  8,  4])"
      ]
     },
     "execution_count": 352,
     "metadata": {},
     "output_type": "execute_result"
    }
   ],
   "source": [
    "i"
   ]
  },
  {
   "cell_type": "code",
   "execution_count": 355,
   "metadata": {},
   "outputs": [
    {
     "data": {
      "text/plain": [
       "array([ 0,  1, 20,  3, 20,  5,  6,  7, 20, 20])"
      ]
     },
     "execution_count": 355,
     "metadata": {},
     "output_type": "execute_result"
    }
   ],
   "source": [
    "# change the value at each index to 20 **\n",
    "val[i]=20\n",
    "val"
   ]
  },
  {
   "cell_type": "code",
   "execution_count": 356,
   "metadata": {},
   "outputs": [
    {
     "data": {
      "text/plain": [
       "array([ 0,  1, 10,  3, 10,  5,  6,  7, 10, 10])"
      ]
     },
     "execution_count": 356,
     "metadata": {},
     "output_type": "execute_result"
    }
   ],
   "source": [
    "# You can use any assignment operator for this too\n",
    "val[i] -= 10\n",
    "val"
   ]
  },
  {
   "cell_type": "markdown",
   "metadata": {},
   "source": [
    "# Sorting Arrays"
   ]
  },
  {
   "cell_type": "code",
   "execution_count": 357,
   "metadata": {},
   "outputs": [
    {
     "data": {
      "text/plain": [
       "array([2, 1, 4, 3, 5])"
      ]
     },
     "execution_count": 357,
     "metadata": {},
     "output_type": "execute_result"
    }
   ],
   "source": [
    "# sorting using the normal python function\n",
    "x = np.array([2,1,4,3,5], dtype=int)\n",
    "# x.sort()\n",
    "x"
   ]
  },
  {
   "cell_type": "code",
   "execution_count": 358,
   "metadata": {},
   "outputs": [
    {
     "data": {
      "text/plain": [
       "array([1, 2, 3, 4, 5])"
      ]
     },
     "execution_count": 358,
     "metadata": {},
     "output_type": "execute_result"
    }
   ],
   "source": [
    "x.sort()\n",
    "x"
   ]
  },
  {
   "cell_type": "code",
   "execution_count": 359,
   "metadata": {},
   "outputs": [
    {
     "data": {
      "text/plain": [
       "array([1, 2, 3, 4, 5])"
      ]
     },
     "execution_count": 359,
     "metadata": {},
     "output_type": "execute_result"
    }
   ],
   "source": [
    "# equivalent np function for sorting is np.sort()\n",
    "np.sort(x)"
   ]
  },
  {
   "cell_type": "code",
   "execution_count": 360,
   "metadata": {},
   "outputs": [
    {
     "data": {
      "text/plain": [
       "array([1, 2, 3, 4, 5])"
      ]
     },
     "execution_count": 360,
     "metadata": {},
     "output_type": "execute_result"
    }
   ],
   "source": [
    "# np.argsort function return the indices of the sorted elements\n",
    "f = np.array([2,1,4,3,5], dtype=int)\n",
    "np.sort(f)\n"
   ]
  },
  {
   "cell_type": "code",
   "execution_count": 361,
   "metadata": {},
   "outputs": [
    {
     "name": "stdout",
     "output_type": "stream",
     "text": [
      "[1 0 3 2 4]\n"
     ]
    }
   ],
   "source": [
    "i = np.argsort(f)\n",
    "print(i)"
   ]
  },
  {
   "cell_type": "code",
   "execution_count": 362,
   "metadata": {},
   "outputs": [
    {
     "data": {
      "text/plain": [
       "array([2, 1, 4, 3, 5])"
      ]
     },
     "execution_count": 362,
     "metadata": {},
     "output_type": "execute_result"
    }
   ],
   "source": [
    "f"
   ]
  },
  {
   "cell_type": "code",
   "execution_count": 363,
   "metadata": {},
   "outputs": [
    {
     "data": {
      "text/plain": [
       "array([1, 0, 3, 2, 4], dtype=int64)"
      ]
     },
     "execution_count": 363,
     "metadata": {},
     "output_type": "execute_result"
    }
   ],
   "source": [
    "i"
   ]
  },
  {
   "cell_type": "code",
   "execution_count": 364,
   "metadata": {},
   "outputs": [
    {
     "data": {
      "text/plain": [
       "array([1, 2, 3, 4, 5])"
      ]
     },
     "execution_count": 364,
     "metadata": {},
     "output_type": "execute_result"
    }
   ],
   "source": [
    "# the indices can then be use as fancy index to get the sorted array\n",
    "f[i]"
   ]
  },
  {
   "cell_type": "markdown",
   "metadata": {},
   "source": [
    "# sorting along row and column"
   ]
  },
  {
   "cell_type": "code",
   "execution_count": 365,
   "metadata": {},
   "outputs": [
    {
     "data": {
      "text/plain": [
       "array([[6, 3, 7, 4, 6, 9],\n",
       "       [2, 6, 7, 4, 3, 7],\n",
       "       [7, 2, 5, 4, 1, 7],\n",
       "       [5, 1, 4, 0, 9, 5]])"
      ]
     },
     "execution_count": 365,
     "metadata": {},
     "output_type": "execute_result"
    }
   ],
   "source": [
    "rand = np.random.RandomState(42)\n",
    "x = rand.randint(0,10, (4,6))\n",
    "x"
   ]
  },
  {
   "cell_type": "code",
   "execution_count": 366,
   "metadata": {},
   "outputs": [
    {
     "data": {
      "text/plain": [
       "array([[2, 1, 4, 0, 1, 5],\n",
       "       [5, 2, 5, 4, 3, 7],\n",
       "       [6, 3, 7, 4, 6, 7],\n",
       "       [7, 6, 7, 4, 9, 9]])"
      ]
     },
     "execution_count": 366,
     "metadata": {},
     "output_type": "execute_result"
    }
   ],
   "source": [
    "# sort each column of x\n",
    "np.sort(x, axis=0)"
   ]
  },
  {
   "cell_type": "code",
   "execution_count": 367,
   "metadata": {},
   "outputs": [
    {
     "data": {
      "text/plain": [
       "array([[3, 4, 6, 6, 7, 9],\n",
       "       [2, 3, 4, 6, 7, 7],\n",
       "       [1, 2, 4, 5, 7, 7],\n",
       "       [0, 1, 4, 5, 5, 9]])"
      ]
     },
     "execution_count": 367,
     "metadata": {},
     "output_type": "execute_result"
    }
   ],
   "source": [
    "# sorting each row of x\n",
    "np.sort(x, axis=1)"
   ]
  },
  {
   "cell_type": "markdown",
   "metadata": {
    "scrolled": true
   },
   "source": [
    "# Partial sorts: Partitioning"
   ]
  },
  {
   "cell_type": "code",
   "execution_count": 368,
   "metadata": {},
   "outputs": [
    {
     "data": {
      "text/plain": [
       "array([ 17,   2,   1,   6, 500,   4, 300,   4,  56,   6,  34,   5,   5,\n",
       "         4,  56,   6,   5,  34,   5,   5,   3,   4,  56,   6,  76,   6,\n",
       "         2,   2,  34,  45,  33])"
      ]
     },
     "execution_count": 368,
     "metadata": {},
     "output_type": "execute_result"
    }
   ],
   "source": [
    "y = np.array([17,2,1,6,500,4,300,4,56,6,34,5,5,4,56,6,5,34,5,5,3,4,56,6,76,6,2,2,34,45,33])\n",
    "# give us the three smallest value in the array\n",
    "# np.partition(y,3)\n",
    "y"
   ]
  },
  {
   "cell_type": "code",
   "execution_count": 369,
   "metadata": {},
   "outputs": [
    {
     "data": {
      "text/plain": [
       "array([  2,   1,   2,   2,   3,   4,   4,   4,   5,   5,   4,   5,   5,\n",
       "         5,   6,   6,   6,   6,   6,  17,  34,  56,  56,  34,  76,  56,\n",
       "       300, 500,  34,  45,  33])"
      ]
     },
     "execution_count": 369,
     "metadata": {},
     "output_type": "execute_result"
    }
   ],
   "source": [
    "# **\n",
    "np.partition(y,4)"
   ]
  },
  {
   "cell_type": "code",
   "execution_count": 370,
   "metadata": {},
   "outputs": [
    {
     "data": {
      "text/plain": [
       "array([[6, 3, 7, 4, 6, 9],\n",
       "       [2, 6, 7, 4, 3, 7],\n",
       "       [7, 2, 5, 4, 1, 7],\n",
       "       [5, 1, 4, 0, 9, 5]])"
      ]
     },
     "execution_count": 370,
     "metadata": {},
     "output_type": "execute_result"
    }
   ],
   "source": [
    "x"
   ]
  },
  {
   "cell_type": "code",
   "execution_count": 375,
   "metadata": {},
   "outputs": [
    {
     "data": {
      "text/plain": [
       "array([[3, 4, 7, 6, 6, 9],\n",
       "       [2, 3, 7, 4, 6, 7],\n",
       "       [1, 2, 5, 4, 7, 7],\n",
       "       [0, 1, 4, 5, 9, 5]])"
      ]
     },
     "execution_count": 375,
     "metadata": {},
     "output_type": "execute_result"
    }
   ],
   "source": [
    "# give us the first two smallest value of each row in the array\n",
    "np.partition(x, 1, axis=1)"
   ]
  },
  {
   "cell_type": "code",
   "execution_count": 376,
   "metadata": {},
   "outputs": [
    {
     "data": {
      "text/plain": [
       "['sunday',\n",
       " 'adeola',\n",
       " 'charse',\n",
       " 'promise',\n",
       " 'moses',\n",
       " 'thomeson',\n",
       " 'nana',\n",
       " 'bosede']"
      ]
     },
     "execution_count": 376,
     "metadata": {},
     "output_type": "execute_result"
    }
   ],
   "source": [
    "# we can also partition on array of strings \n",
    "name = ['sunday', 'adeola', 'charse', 'promise', 'moses', 'thomeson', 'nana', 'bosede']\n",
    "name"
   ]
  },
  {
   "cell_type": "code",
   "execution_count": 377,
   "metadata": {},
   "outputs": [
    {
     "data": {
      "text/plain": [
       "array(['adeola', 'bosede', 'charse', 'moses', 'nana', 'promise', 'sunday',\n",
       "       'thomeson'], dtype='<U8')"
      ]
     },
     "execution_count": 377,
     "metadata": {},
     "output_type": "execute_result"
    }
   ],
   "source": [
    "# give us the first three names in their alphabetical order\n",
    "np.partition(name, 3)"
   ]
  },
  {
   "cell_type": "markdown",
   "metadata": {},
   "source": [
    "# Numpy's Structured Arrays"
   ]
  },
  {
   "cell_type": "code",
   "execution_count": 378,
   "metadata": {},
   "outputs": [
    {
     "data": {
      "text/plain": [
       "array(['1', '2', '3', '4', '5', '6', '7'], dtype='<U1')"
      ]
     },
     "execution_count": 378,
     "metadata": {},
     "output_type": "execute_result"
    }
   ],
   "source": [
    "mm= np.array([1,2,3,4,5,6,7], dtype=\"<U\")\n",
    "mm"
   ]
  },
  {
   "cell_type": "code",
   "execution_count": 379,
   "metadata": {},
   "outputs": [],
   "source": [
    "npdata = [('Sunday', 22, 56, 'js1'), ('Charse', 34, 67,'ss2'), ('Mary', 36, 65, 'ss3')]"
   ]
  },
  {
   "cell_type": "code",
   "execution_count": 380,
   "metadata": {},
   "outputs": [],
   "source": [
    "npdtype = [('Name', np.str_, 10), ('Age', np.int16), ('Score', np.float64), ('Class', np.str_, 4)]"
   ]
  },
  {
   "cell_type": "code",
   "execution_count": 381,
   "metadata": {},
   "outputs": [],
   "source": [
    "student_record = np.array([npdata], dtype=npdtype)"
   ]
  },
  {
   "cell_type": "code",
   "execution_count": 382,
   "metadata": {},
   "outputs": [
    {
     "name": "stdout",
     "output_type": "stream",
     "text": [
      "[[('Sunday', 22, 56., 'js1') ('Charse', 34, 67., 'ss2')\n",
      "  ('Mary', 36, 65., 'ss3')]]\n"
     ]
    }
   ],
   "source": [
    "print(student_record)"
   ]
  },
  {
   "cell_type": "code",
   "execution_count": 383,
   "metadata": {},
   "outputs": [
    {
     "data": {
      "text/plain": [
       "array([['Sunday', 'Charse', 'Mary']], dtype='<U10')"
      ]
     },
     "execution_count": 383,
     "metadata": {},
     "output_type": "execute_result"
    }
   ],
   "source": [
    "student_record['Name']"
   ]
  },
  {
   "cell_type": "code",
   "execution_count": 387,
   "metadata": {},
   "outputs": [
    {
     "data": {
      "text/plain": [
       "array([[('Sunday', 22, 56., 'js1'), ('Charse', 34, 67., 'ss2'),\n",
       "        ('Mary', 36, 65., 'ss3')]],\n",
       "      dtype=[('Name', '<U10'), ('Age', '<i2'), ('Score', '<f8'), ('Class', '<U4')])"
      ]
     },
     "execution_count": 387,
     "metadata": {},
     "output_type": "execute_result"
    }
   ],
   "source": [
    "student_record[:1]"
   ]
  },
  {
   "cell_type": "code",
   "execution_count": 388,
   "metadata": {},
   "outputs": [
    {
     "data": {
      "text/plain": [
       "array([[('Charse', 34, 67., 'ss2'), ('Mary', 36, 65., 'ss3'),\n",
       "        ('Sunday', 22, 56., 'js1')]],\n",
       "      dtype=[('Name', '<U10'), ('Age', '<i2'), ('Score', '<f8'), ('Class', '<U4')])"
      ]
     },
     "execution_count": 388,
     "metadata": {},
     "output_type": "execute_result"
    }
   ],
   "source": [
    "np.sort(student_record, order=['Name','Score'])"
   ]
  },
  {
   "cell_type": "markdown",
   "metadata": {},
   "source": [
    "This bring us to the end of Numpy library. \n",
    "Thanks for your time and thanks for coming."
   ]
  },
  {
   "cell_type": "code",
   "execution_count": 322,
   "metadata": {},
   "outputs": [
    {
     "ename": "SyntaxError",
     "evalue": "invalid syntax (Temp/ipykernel_14268/2249120279.py, line 1)",
     "output_type": "error",
     "traceback": [
      "\u001b[1;36m  File \u001b[1;32m\"C:\\Users\\User\\AppData\\Local\\Temp/ipykernel_14268/2249120279.py\"\u001b[1;36m, line \u001b[1;32m1\u001b[0m\n\u001b[1;33m    use product data to compute the following using np:\u001b[0m\n\u001b[1;37m        ^\u001b[0m\n\u001b[1;31mSyntaxError\u001b[0m\u001b[1;31m:\u001b[0m invalid syntax\n"
     ]
    }
   ],
   "source": [
    "use product data to compute the following using np: \n",
    "extract the  Year_of_Birth, Education_Level, Marital_Status, Disposable_Income, No_of_Kids_in_home and       \n",
    "No_of_Teen_in_home column from the data\n",
    "    compute the aggregation of sum of Amount_on_Wines, Amount_on_Fruits, Amount_on_MeatProducts, Amount_on_FishProducts,\n",
    "    Amount_on_SweetProducts,Amount_on_GoldProds, mean and median\n",
    "    compute the maximum  and minimum of Amount_on_Wines, Amount_on_Fruits, Amount_on_MeatProducts, Amount_on_FishProducts, \n",
    "    Amount_on_SweetProducts,Amount_on_GoldProds  \n",
    "    indicate the Education_Level and Marital_Status with minimum  and maximum  Amount_on_Wines, Amount_on_Fruits, Amount_on_MeatProducts, Amount_on_FishProducts, \n",
    "    Amount_on_SweetProducts,Amount_on_GoldProds\n",
    "    indicate the Year_of_Birth with minimum and maximum Amount_on_Wines, Amount_on_Fruits, Amount_on_MeatProducts, Amount_on_FishProducts, \n",
    "    Amount_on_SweetProducts,Amount_on_GoldProds\n",
    "    "
   ]
  },
  {
   "cell_type": "code",
   "execution_count": null,
   "metadata": {},
   "outputs": [],
   "source": []
  },
  {
   "cell_type": "code",
   "execution_count": null,
   "metadata": {},
   "outputs": [],
   "source": []
  }
 ],
 "metadata": {
  "kernelspec": {
   "display_name": "Python 3 (ipykernel)",
   "language": "python",
   "name": "python3"
  },
  "language_info": {
   "codemirror_mode": {
    "name": "ipython",
    "version": 3
   },
   "file_extension": ".py",
   "mimetype": "text/x-python",
   "name": "python",
   "nbconvert_exporter": "python",
   "pygments_lexer": "ipython3",
   "version": "3.9.13"
  }
 },
 "nbformat": 4,
 "nbformat_minor": 2
}
