{
 "cells": [
  {
   "cell_type": "code",
   "execution_count": 1,
   "id": "c23660e7",
   "metadata": {},
   "outputs": [],
   "source": [
    "import numpy as np"
   ]
  },
  {
   "cell_type": "code",
   "execution_count": 2,
   "id": "1eef7b56",
   "metadata": {},
   "outputs": [
    {
     "data": {
      "text/plain": [
       "'1.21.5'"
      ]
     },
     "execution_count": 2,
     "metadata": {},
     "output_type": "execute_result"
    }
   ],
   "source": [
    "np.__version__"
   ]
  },
  {
   "cell_type": "code",
   "execution_count": 4,
   "id": "18b84e07",
   "metadata": {},
   "outputs": [
    {
     "name": "stdout",
     "output_type": "stream",
     "text": [
      "Enter value one 3\n",
      "Enter value two3\n"
     ]
    },
    {
     "data": {
      "text/plain": [
       "array([[0., 0., 0.],\n",
       "       [0., 0., 0.],\n",
       "       [0., 0., 0.]])"
      ]
     },
     "execution_count": 4,
     "metadata": {},
     "output_type": "execute_result"
    }
   ],
   "source": [
    "first_value = int(input(\"Enter value one \"))\n",
    "second_value = int(input(\"Enter value two\"))\n",
    "np.zeros((first_value,second_value), dtype=int)"
   ]
  },
  {
   "cell_type": "code",
   "execution_count": 6,
   "id": "390dae85",
   "metadata": {},
   "outputs": [
    {
     "data": {
      "text/plain": [
       "array([0.  , 0.25, 0.5 , 0.75, 1.  ])"
      ]
     },
     "execution_count": 6,
     "metadata": {},
     "output_type": "execute_result"
    }
   ],
   "source": [
    "np.linspace(0, 1, 5)"
   ]
  },
  {
   "cell_type": "code",
   "execution_count": 8,
   "id": "63a3ac9b",
   "metadata": {},
   "outputs": [
    {
     "data": {
      "text/plain": [
       "array([1., 1., 1., 1., 1.])"
      ]
     },
     "execution_count": 8,
     "metadata": {},
     "output_type": "execute_result"
    }
   ],
   "source": [
    "np.empty(5)"
   ]
  },
  {
   "cell_type": "code",
   "execution_count": 11,
   "id": "6d0c2db1",
   "metadata": {},
   "outputs": [
    {
     "data": {
      "text/plain": [
       "array([8, 8, 6, 2, 8])"
      ]
     },
     "execution_count": 11,
     "metadata": {},
     "output_type": "execute_result"
    }
   ],
   "source": [
    "np.random.seed(2) #to make the random display same value always\n",
    "val = np.random.randint(10, size=5)\n",
    "val"
   ]
  },
  {
   "cell_type": "markdown",
   "id": "c577f2b2",
   "metadata": {},
   "source": [
    "# Assignment 1\n",
    "1) Generate a np array of vector of length 50 and two dimensional of shape 4x5 uniformly distibuted between 0 and 1\n",
    "2) Split the two dimension array into three arrays taking the first two rows, follow by the next two rows and put the remaining in another variable\n",
    "3) split the vector into three arrays by taking the first 15, follow by the next 20 amd the remaining into another variable\n",
    "4) Create a 4x5 array manually (b) using random generated value between 0 and 1 (c) using array of ones"
   ]
  },
  {
   "cell_type": "code",
   "execution_count": 2,
   "id": "0a9fe8ad",
   "metadata": {},
   "outputs": [],
   "source": [
    "import pandas as pd\n",
    "births = pd.read_csv('C:\\\\Users\\HP\\\\Documents\\\\NUMPY\\\\new_births.csv')"
   ]
  },
  {
   "cell_type": "code",
   "execution_count": 3,
   "id": "8eaaee71",
   "metadata": {},
   "outputs": [
    {
     "data": {
      "text/html": [
       "<div>\n",
       "<style scoped>\n",
       "    .dataframe tbody tr th:only-of-type {\n",
       "        vertical-align: middle;\n",
       "    }\n",
       "\n",
       "    .dataframe tbody tr th {\n",
       "        vertical-align: top;\n",
       "    }\n",
       "\n",
       "    .dataframe thead th {\n",
       "        text-align: right;\n",
       "    }\n",
       "</style>\n",
       "<table border=\"1\" class=\"dataframe\">\n",
       "  <thead>\n",
       "    <tr style=\"text-align: right;\">\n",
       "      <th></th>\n",
       "      <th>year</th>\n",
       "      <th>gender</th>\n",
       "      <th>births</th>\n",
       "    </tr>\n",
       "  </thead>\n",
       "  <tbody>\n",
       "    <tr>\n",
       "      <th>15379</th>\n",
       "      <td>2002</td>\n",
       "      <td>F</td>\n",
       "      <td>161477</td>\n",
       "    </tr>\n",
       "    <tr>\n",
       "      <th>15380</th>\n",
       "      <td>2002</td>\n",
       "      <td>M</td>\n",
       "      <td>169612</td>\n",
       "    </tr>\n",
       "    <tr>\n",
       "      <th>15381</th>\n",
       "      <td>2002</td>\n",
       "      <td>F</td>\n",
       "      <td>148745</td>\n",
       "    </tr>\n",
       "    <tr>\n",
       "      <th>15382</th>\n",
       "      <td>2002</td>\n",
       "      <td>M</td>\n",
       "      <td>155627</td>\n",
       "    </tr>\n",
       "    <tr>\n",
       "      <th>15383</th>\n",
       "      <td>2002</td>\n",
       "      <td>F</td>\n",
       "      <td>162351</td>\n",
       "    </tr>\n",
       "  </tbody>\n",
       "</table>\n",
       "</div>"
      ],
      "text/plain": [
       "       year gender  births\n",
       "15379  2002      F  161477\n",
       "15380  2002      M  169612\n",
       "15381  2002      F  148745\n",
       "15382  2002      M  155627\n",
       "15383  2002      F  162351"
      ]
     },
     "execution_count": 3,
     "metadata": {},
     "output_type": "execute_result"
    }
   ],
   "source": [
    "birth_2002 = births[births['year'] == 2002]\n",
    "birth_2002.head()"
   ]
  },
  {
   "cell_type": "code",
   "execution_count": 13,
   "id": "98c20cfc",
   "metadata": {},
   "outputs": [
    {
     "data": {
      "text/plain": [
       "array([161477, 169612, 148745, 155627, 162351, 169543, 158674, 166175,\n",
       "       165530, 173925, 159792, 168261, 175085, 183135, 175501, 184444,\n",
       "       170451, 178945, 169482, 176842, 155849, 163200, 163582, 171148],\n",
       "      dtype=int64)"
      ]
     },
     "execution_count": 13,
     "metadata": {},
     "output_type": "execute_result"
    }
   ],
   "source": [
    "birth_year = np.array(birth_2002['year'])\n",
    "birth_gender = np.array(birth_2002['gender'])\n",
    "birth_no = np.array(birth_2002['births'])\n",
    "birth_no"
   ]
  },
  {
   "cell_type": "code",
   "execution_count": 6,
   "id": "7939e347",
   "metadata": {},
   "outputs": [
    {
     "name": "stdout",
     "output_type": "stream",
     "text": [
      "The total number of births in the year 2002 is 4027376\n"
     ]
    }
   ],
   "source": [
    "total_birth = np.sum(birth_no)\n",
    "print(f\"The total number of births in the year 2002 is {total_birth}\")"
   ]
  },
  {
   "cell_type": "code",
   "execution_count": 11,
   "id": "af23de3a",
   "metadata": {},
   "outputs": [
    {
     "name": "stdout",
     "output_type": "stream",
     "text": [
      "The total number of female children given birth to in the year 2002 is 1966519\n"
     ]
    }
   ],
   "source": [
    "females = birth_2002[birth_2002['gender'] == \"F\"]\n",
    "female_births = np.array(females['births'])\n",
    "total_female_births = np.sum(female_births)\n",
    "print(f\"The total number of female children given birth to in the year 2002 is {total_female_births}\")"
   ]
  },
  {
   "cell_type": "code",
   "execution_count": 12,
   "id": "5de32dc0",
   "metadata": {},
   "outputs": [
    {
     "name": "stdout",
     "output_type": "stream",
     "text": [
      "The total number of male children given birth to in the year 2002 is 2060857\n"
     ]
    }
   ],
   "source": [
    "males = birth_2002[birth_2002['gender'] == \"M\"]\n",
    "male_births = np.array(males['births'])\n",
    "total_male_births = np.sum(male_births)\n",
    "print(f\"The total number of male children given birth to in the year 2002 is {total_male_births}\")"
   ]
  },
  {
   "cell_type": "code",
   "execution_count": 16,
   "id": "cf1d0905",
   "metadata": {},
   "outputs": [
    {
     "name": "stdout",
     "output_type": "stream",
     "text": [
      "In 2002, the mean of children births is 167807.33333333334, and the median is 168871.5\n"
     ]
    }
   ],
   "source": [
    "print(f\"In 2002, the mean of children births is {np.mean(birth_no)}, and the median is {np.median(birth_no)}\")"
   ]
  },
  {
   "cell_type": "code",
   "execution_count": 20,
   "id": "256a4b76",
   "metadata": {},
   "outputs": [
    {
     "name": "stdout",
     "output_type": "stream",
     "text": [
      "The maximum births in 2002 is 184444 and the minimum births is 148745\n"
     ]
    }
   ],
   "source": [
    "max_birth = np.max(birth_no)\n",
    "min_birth = np.min(birth_no)\n",
    "print(f\"The maximum births in 2002 is {max_birth} and the minimum births is {min_birth}\")"
   ]
  },
  {
   "cell_type": "code",
   "execution_count": 26,
   "id": "2e982c1a",
   "metadata": {},
   "outputs": [
    {
     "name": "stdout",
     "output_type": "stream",
     "text": [
      "The Male gender has the highest number of births while the Female gender has the lowest number of births in the year 2002\n"
     ]
    }
   ],
   "source": [
    "max_birth_info = birth_2002[birth_2002['births'] == max_birth]\n",
    "min_birth_info = birth_2002[birth_2002['births'] == min_birth]\n",
    "print(\"The Male gender has the highest number of births while the Female gender has the lowest number of births in the year 2002\")"
   ]
  },
  {
   "cell_type": "code",
   "execution_count": null,
   "id": "fc44d836",
   "metadata": {},
   "outputs": [],
   "source": [
    "import numpy as np\n",
    "\n",
    "# Task 1\n",
    "vector = np.linspace(0, 1, 50)\n",
    "two_dim_array = np.linspace(0, 1, (4, 5))\n",
    "\n",
    "# Task 2\n",
    "# array1 = two_dim_array[:2, :]\n",
    "# array2 = two_dim_array[2:4, :]\n",
    "# remaining_array = two_dim_array[4:, :]\n",
    "\n",
    "#Alternative to task 2\n",
    "first, second, third = np.vsplit(two_dim_array, [2,4])\n",
    "\n",
    "# Task 3\n",
    "# array1_vector = vector[:15]\n",
    "# array2_vector = vector[15:35]\n",
    "# remaining_vector = vector[35:]\n",
    "\n",
    "#Alternative to task 3\n",
    "arr1, arr2, arr3 = np.split(vector, (15, 35))\n",
    "\n",
    "# Task 4\n",
    "array_b = np.random.random((4, 5))\n",
    "array_c = np.ones((4, 5))\n"
   ]
  },
  {
   "cell_type": "markdown",
   "id": "a5b573e0",
   "metadata": {},
   "source": [
    "# Assignment 2"
   ]
  },
  {
   "cell_type": "code",
   "execution_count": 1,
   "id": "4aa732b7",
   "metadata": {},
   "outputs": [],
   "source": [
    "import numpy as np\n",
    "import pandas as pd"
   ]
  },
  {
   "cell_type": "code",
   "execution_count": 2,
   "id": "32da0a56",
   "metadata": {
    "collapsed": true
   },
   "outputs": [
    {
     "data": {
      "text/plain": [
       "Black Clover             asta\n",
       "One Piece               luffy\n",
       "Seven Deadly Sins     escanor\n",
       "Tokyo Ghoul            kaneki\n",
       "Re: Creators           altair\n",
       "Akame Ga Kill         esdeath\n",
       "AOT                    mikasa\n",
       "My Hero Academia         deku\n",
       "My Dressup Darling      marin\n",
       "Sword Art Online       kirito\n",
       "dtype: object"
      ]
     },
     "execution_count": 2,
     "metadata": {},
     "output_type": "execute_result"
    }
   ],
   "source": [
    "anime_characters = pd.Series([\"asta\", \"luffy\", \"escanor\", \"kaneki\", \"altair\", \"esdeath\", \"mikasa\", \"deku\", \"marin\", \"kirito\"], index=['Black Clover', 'One Piece', 'Seven Deadly Sins', 'Tokyo Ghoul', 'Re: Creators', 'Akame Ga Kill', 'AOT', 'My Hero Academia', 'My Dressup Darling', 'Sword Art Online'])\n",
    "anime_characters"
   ]
  },
  {
   "cell_type": "code",
   "execution_count": 3,
   "id": "0ec404b5",
   "metadata": {
    "collapsed": true
   },
   "outputs": [
    {
     "data": {
      "text/plain": [
       "Abia               Umaya\n",
       "Adamawa             Yola\n",
       "Akwa-Ibom            Uyo\n",
       "Anambra             Awka\n",
       "Bauchi            Bauchi\n",
       "Bayelsa          Yenagoa\n",
       "Benue            Makurdi\n",
       "Borno          Maiduguri\n",
       "Cross River      Calabar\n",
       "Delta              Asaba\n",
       "Ebonyi         Abakaliki\n",
       "dtype: object"
      ]
     },
     "execution_count": 3,
     "metadata": {},
     "output_type": "execute_result"
    }
   ],
   "source": [
    "states = pd.Series({\"Abia\": \"Umaya\", \"Adamawa\":\"Yola\", \"Akwa-Ibom\":\"Uyo\", \"Anambra\":\"Awka\", \"Bauchi\":\"Bauchi\", \"Bayelsa\":\"Yenagoa\", \"Benue\":\"Makurdi\", \"Borno\":\"Maiduguri\", \"Cross River\":\"Calabar\", \"Delta\":\"Asaba\", \"Ebonyi\":\"Abakaliki\"})\n",
    "states"
   ]
  },
  {
   "cell_type": "code",
   "execution_count": 18,
   "id": "64c01359",
   "metadata": {
    "collapsed": true
   },
   "outputs": [
    {
     "data": {
      "text/html": [
       "<div>\n",
       "<style scoped>\n",
       "    .dataframe tbody tr th:only-of-type {\n",
       "        vertical-align: middle;\n",
       "    }\n",
       "\n",
       "    .dataframe tbody tr th {\n",
       "        vertical-align: top;\n",
       "    }\n",
       "\n",
       "    .dataframe thead th {\n",
       "        text-align: right;\n",
       "    }\n",
       "</style>\n",
       "<table border=\"1\" class=\"dataframe\">\n",
       "  <thead>\n",
       "    <tr style=\"text-align: right;\">\n",
       "      <th></th>\n",
       "      <th>Primary Colors</th>\n",
       "    </tr>\n",
       "  </thead>\n",
       "  <tbody>\n",
       "    <tr>\n",
       "      <th>casey</th>\n",
       "      <td>Red</td>\n",
       "    </tr>\n",
       "    <tr>\n",
       "      <th>theo</th>\n",
       "      <td>Blue</td>\n",
       "    </tr>\n",
       "    <tr>\n",
       "      <th>lily</th>\n",
       "      <td>Yellow</td>\n",
       "    </tr>\n",
       "  </tbody>\n",
       "</table>\n",
       "</div>"
      ],
      "text/plain": [
       "      Primary Colors\n",
       "casey            Red\n",
       "theo            Blue\n",
       "lily          Yellow"
      ]
     },
     "execution_count": 18,
     "metadata": {},
     "output_type": "execute_result"
    }
   ],
   "source": [
    "colors = pd.Series([\"Red\", \"Blue\", \"Yellow\"])\n",
    "dfColors = pd.DataFrame(colors, columns=[\"Primary Colors\"], index=[0, 1, 2])\n",
    "new_index = pd.Index([\"casey\", \"theo\", \"lily\"])\n",
    "dfColors.set_index(new_index)"
   ]
  },
  {
   "cell_type": "code",
   "execution_count": 26,
   "id": "1b2161e9",
   "metadata": {
    "collapsed": true
   },
   "outputs": [
    {
     "data": {
      "text/html": [
       "<div>\n",
       "<style scoped>\n",
       "    .dataframe tbody tr th:only-of-type {\n",
       "        vertical-align: middle;\n",
       "    }\n",
       "\n",
       "    .dataframe tbody tr th {\n",
       "        vertical-align: top;\n",
       "    }\n",
       "\n",
       "    .dataframe thead th {\n",
       "        text-align: right;\n",
       "    }\n",
       "</style>\n",
       "<table border=\"1\" class=\"dataframe\">\n",
       "  <thead>\n",
       "    <tr style=\"text-align: right;\">\n",
       "      <th></th>\n",
       "      <th>Class 1</th>\n",
       "      <th>Class 2</th>\n",
       "      <th>Class 3</th>\n",
       "      <th>Class 4</th>\n",
       "      <th>Class 5</th>\n",
       "    </tr>\n",
       "  </thead>\n",
       "  <tbody>\n",
       "    <tr>\n",
       "      <th>Student 1</th>\n",
       "      <td>0.235643</td>\n",
       "      <td>0.567617</td>\n",
       "      <td>0.570834</td>\n",
       "      <td>0.092068</td>\n",
       "      <td>0.029039</td>\n",
       "    </tr>\n",
       "    <tr>\n",
       "      <th>Student 2</th>\n",
       "      <td>0.784041</td>\n",
       "      <td>0.764292</td>\n",
       "      <td>0.221948</td>\n",
       "      <td>0.788479</td>\n",
       "      <td>0.155803</td>\n",
       "    </tr>\n",
       "    <tr>\n",
       "      <th>Student 3</th>\n",
       "      <td>0.044404</td>\n",
       "      <td>0.188646</td>\n",
       "      <td>0.178036</td>\n",
       "      <td>0.153866</td>\n",
       "      <td>0.836303</td>\n",
       "    </tr>\n",
       "    <tr>\n",
       "      <th>Student 4</th>\n",
       "      <td>0.168211</td>\n",
       "      <td>0.896600</td>\n",
       "      <td>0.111574</td>\n",
       "      <td>0.878133</td>\n",
       "      <td>0.941510</td>\n",
       "    </tr>\n",
       "    <tr>\n",
       "      <th>Student 5</th>\n",
       "      <td>0.555204</td>\n",
       "      <td>0.294179</td>\n",
       "      <td>0.430325</td>\n",
       "      <td>0.330676</td>\n",
       "      <td>0.633116</td>\n",
       "    </tr>\n",
       "  </tbody>\n",
       "</table>\n",
       "</div>"
      ],
      "text/plain": [
       "            Class 1   Class 2   Class 3   Class 4   Class 5\n",
       "Student 1  0.235643  0.567617  0.570834  0.092068  0.029039\n",
       "Student 2  0.784041  0.764292  0.221948  0.788479  0.155803\n",
       "Student 3  0.044404  0.188646  0.178036  0.153866  0.836303\n",
       "Student 4  0.168211  0.896600  0.111574  0.878133  0.941510\n",
       "Student 5  0.555204  0.294179  0.430325  0.330676  0.633116"
      ]
     },
     "execution_count": 26,
     "metadata": {},
     "output_type": "execute_result"
    }
   ],
   "source": [
    "records = pd.DataFrame(np.random.rand(5,5), columns=[\"Class 1\", \"Class 2\", \"Class 3\", \"Class 4\", \"Class 5\"], index=[\"Student 1\", \"Student 2\", \"Student 3\", \"Student 4\", \"Student 5\"])\n",
    "records"
   ]
  },
  {
   "cell_type": "code",
   "execution_count": 44,
   "id": "28a1d55e",
   "metadata": {
    "collapsed": true
   },
   "outputs": [
    {
     "name": "stdout",
     "output_type": "stream",
     "text": [
      "Record 4 series\n",
      "0    0.168211\n",
      "1    0.896600\n",
      "2    0.111574\n",
      "3    0.878133\n",
      "4    0.941510\n",
      "dtype: float64\n"
     ]
    },
    {
     "data": {
      "text/html": [
       "<div>\n",
       "<style scoped>\n",
       "    .dataframe tbody tr th:only-of-type {\n",
       "        vertical-align: middle;\n",
       "    }\n",
       "\n",
       "    .dataframe tbody tr th {\n",
       "        vertical-align: top;\n",
       "    }\n",
       "\n",
       "    .dataframe thead th {\n",
       "        text-align: right;\n",
       "    }\n",
       "</style>\n",
       "<table border=\"1\" class=\"dataframe\">\n",
       "  <thead>\n",
       "    <tr style=\"text-align: right;\">\n",
       "      <th></th>\n",
       "      <th>Student 4</th>\n",
       "    </tr>\n",
       "  </thead>\n",
       "  <tbody>\n",
       "    <tr>\n",
       "      <th>Class 1</th>\n",
       "      <td>0.168211</td>\n",
       "    </tr>\n",
       "    <tr>\n",
       "      <th>Class 2</th>\n",
       "      <td>0.896600</td>\n",
       "    </tr>\n",
       "    <tr>\n",
       "      <th>Class 3</th>\n",
       "      <td>0.111574</td>\n",
       "    </tr>\n",
       "    <tr>\n",
       "      <th>Class 4</th>\n",
       "      <td>0.878133</td>\n",
       "    </tr>\n",
       "    <tr>\n",
       "      <th>Class 5</th>\n",
       "      <td>0.941510</td>\n",
       "    </tr>\n",
       "  </tbody>\n",
       "</table>\n",
       "</div>"
      ],
      "text/plain": [
       "         Student 4\n",
       "Class 1   0.168211\n",
       "Class 2   0.896600\n",
       "Class 3   0.111574\n",
       "Class 4   0.878133\n",
       "Class 5   0.941510"
      ]
     },
     "execution_count": 44,
     "metadata": {},
     "output_type": "execute_result"
    }
   ],
   "source": [
    "record4 = pd.Series(records.values[3])\n",
    "record4\n",
    "new_record = pd.DataFrame(record4, columns=[\"Student 4\"], index=[0, 1, 2, 3, 4])\n",
    "record4_index = pd.Index([\"Class 1\", \"Class 2\", \"Class 3\", \"Class 4\", \"Class 5\"])\n",
    "print(\"Record 4 series\")\n",
    "print(record4)\n",
    "new_record.set_index(record4_index)"
   ]
  },
  {
   "cell_type": "markdown",
   "id": "ed96ccd3",
   "metadata": {},
   "source": [
    "# Assignment 3\n",
    "Collate the following informations for every 36 states in Nigeria.\n",
    "State Name\n",
    "State Capital\n",
    "State Population\n",
    "State Landmass\n",
    "Create a Pandas Series object of state population and landmass using state name as the key of both.\n",
    "From the two Series objects, create a DataFrame object and add the state capital as new collumn to the table.\n",
    "Calculate the population density of each state and use it to generate a new collumn on the DataFrame object."
   ]
  },
  {
   "cell_type": "code",
   "execution_count": 1,
   "id": "7ed0a68a",
   "metadata": {},
   "outputs": [
    {
     "name": "stdout",
     "output_type": "stream",
     "text": [
      "                           Population  Landmass  State Capital  \\\n",
      "Abia                         22400573     36267        Umuahia   \n",
      "Adamawa                      27864023     11915           Yola   \n",
      "Akwa Ibom                    19863270     15459            Uyo   \n",
      "Anambra                      16373741     45887           Awka   \n",
      "Bauchi                        3489384     40507         Bauchi   \n",
      "Bayelsa                      17256008     34701        Yenagoa   \n",
      "Benue                         6980296     20657        Makurdi   \n",
      "Borno                        23979637     39514      Maiduguri   \n",
      "Cross River                  23670558     19416        Calabar   \n",
      "Delta                        15584832     24505          Asaba   \n",
      "Ebonyi                       10783740      9544      Abakaliki   \n",
      "Edo                          28554421     34690     Benin City   \n",
      "Ekiti                        20648485     24159      Ado-Ekiti   \n",
      "Enugu                        15662079     44513          Enugu   \n",
      "Gombe                         2778500     32527          Gombe   \n",
      "Imo                          18725273     44241         Owerri   \n",
      "Jigawa                        1856510     12619          Dutse   \n",
      "Kaduna                       10021610     23712         Kaduna   \n",
      "Kano                         16104258     40289           Kano   \n",
      "Katsina                       7396640     45635        Katsina   \n",
      "Kebbi                        14631939     24938   Birnin Kebbi   \n",
      "Kogi                         24766040     21615         Lokoja   \n",
      "Kwara                         6650429     12493         Ilorin   \n",
      "Lagos                        20010049     36590          Ikeja   \n",
      "Nasarawa                     22365409     13887          Lafia   \n",
      "Niger                         2841444     33085          Minna   \n",
      "Ogun                          8320333     49861       Abeokuta   \n",
      "Ondo                         17111938     37013          Akure   \n",
      "Osun                         25659367     31279         Osogbo   \n",
      "Oyo                          16981778      5232         Ibadan   \n",
      "Plateau                      27469578     48465            Jos   \n",
      "Rivers                       11241247      5558  Port Harcourt   \n",
      "Sokoto                       11391760     13312         Sokoto   \n",
      "Taraba                       11617412      6573        Jalingo   \n",
      "Yobe                         13055564      7806       Damaturu   \n",
      "Zamfara                       1112099     21832          Gusau   \n",
      "Federal Capital Territory    23585021     45348          Abuja   \n",
      "\n",
      "                           Population Density  \n",
      "Abia                               617.657181  \n",
      "Adamawa                           2338.566765  \n",
      "Akwa Ibom                         1284.900058  \n",
      "Anambra                            356.827446  \n",
      "Bauchi                              86.142741  \n",
      "Bayelsa                            497.276966  \n",
      "Benue                              337.914315  \n",
      "Borno                              606.864327  \n",
      "Cross River                       1219.126391  \n",
      "Delta                              635.985799  \n",
      "Ebonyi                            1129.897318  \n",
      "Edo                                823.131191  \n",
      "Ekiti                              854.691212  \n",
      "Enugu                              351.854043  \n",
      "Gombe                               85.421342  \n",
      "Imo                                423.256097  \n",
      "Jigawa                             147.120216  \n",
      "Kaduna                             422.638748  \n",
      "Kano                               399.718484  \n",
      "Katsina                            162.082612  \n",
      "Kebbi                              586.732657  \n",
      "Kogi                              1145.780245  \n",
      "Kwara                              532.332426  \n",
      "Lagos                              546.872069  \n",
      "Nasarawa                          1610.528480  \n",
      "Niger                               85.883149  \n",
      "Ogun                               166.870560  \n",
      "Ondo                               462.322373  \n",
      "Osun                               820.338470  \n",
      "Oyo                               3245.752676  \n",
      "Plateau                            566.792077  \n",
      "Rivers                            2022.534545  \n",
      "Sokoto                             855.751202  \n",
      "Taraba                            1767.444394  \n",
      "Yobe                              1672.503715  \n",
      "Zamfara                             50.938943  \n",
      "Federal Capital Territory          520.089552  \n"
     ]
    }
   ],
   "source": [
    "import pandas as pd\n",
    "import random\n",
    "\n",
    "state_names = [\n",
    "    'Abia', 'Adamawa', 'Akwa Ibom', 'Anambra', 'Bauchi', 'Bayelsa', 'Benue', 'Borno',\n",
    "    'Cross River', 'Delta', 'Ebonyi', 'Edo', 'Ekiti', 'Enugu', 'Gombe', 'Imo',\n",
    "    'Jigawa', 'Kaduna', 'Kano', 'Katsina', 'Kebbi', 'Kogi', 'Kwara', 'Lagos',\n",
    "    'Nasarawa', 'Niger', 'Ogun', 'Ondo', 'Osun', 'Oyo', 'Plateau', 'Rivers', 'Sokoto',\n",
    "    'Taraba', 'Yobe', 'Zamfara', 'Federal Capital Territory'\n",
    "]\n",
    "\n",
    "state_capitals = [\n",
    "    'Umuahia', 'Yola', 'Uyo', 'Awka', 'Bauchi', 'Yenagoa', 'Makurdi', 'Maiduguri',\n",
    "    'Calabar', 'Asaba', 'Abakaliki', 'Benin City', 'Ado-Ekiti', 'Enugu', 'Gombe',\n",
    "    'Owerri', 'Dutse', 'Kaduna', 'Kano', 'Katsina', 'Birnin Kebbi', 'Lokoja', 'Ilorin',\n",
    "    'Ikeja', 'Lafia', 'Minna', 'Abeokuta', 'Akure', 'Osogbo', 'Ibadan', 'Jos',\n",
    "    'Port Harcourt', 'Sokoto', 'Jalingo', 'Damaturu', 'Gusau', 'Abuja'\n",
    "]\n",
    "\n",
    "\n",
    "state_population = [random.randint(1000000, 30000000) for _ in range(len(state_names))]\n",
    "state_landmass = [random.randint(5000, 50000) for _ in range(len(state_names))]\n",
    "\n",
    "\n",
    "population_series = pd.Series(state_population, index=state_names, name='Population')\n",
    "landmass_series = pd.Series(state_landmass, index=state_names, name='Landmass')\n",
    "\n",
    "\n",
    "df = pd.DataFrame({'Population': population_series, 'Landmass': landmass_series})\n",
    "\n",
    "\n",
    "df['State Capital'] = state_capitals\n",
    "\n",
    "\n",
    "df['Population Density'] = df['Population'] / df['Landmass']\n",
    "\n",
    "# Display the resulting DataFrame\n",
    "print(df)\n",
    "\n"
   ]
  },
  {
   "cell_type": "code",
   "execution_count": null,
   "id": "f93a1973",
   "metadata": {},
   "outputs": [],
   "source": []
  }
 ],
 "metadata": {
  "kernelspec": {
   "display_name": "Python 3 (ipykernel)",
   "language": "python",
   "name": "python3"
  },
  "language_info": {
   "codemirror_mode": {
    "name": "ipython",
    "version": 3
   },
   "file_extension": ".py",
   "mimetype": "text/x-python",
   "name": "python",
   "nbconvert_exporter": "python",
   "pygments_lexer": "ipython3",
   "version": "3.9.13"
  }
 },
 "nbformat": 4,
 "nbformat_minor": 5
}
