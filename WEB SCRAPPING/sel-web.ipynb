{
 "cells": [
  {
   "cell_type": "code",
   "execution_count": 1,
   "id": "065be0e6",
   "metadata": {},
   "outputs": [],
   "source": [
    "from selenium import webdriver\n",
    "website = 'https://jiji.ng/motorcycles-and-scooters'\n",
    "\n",
    "cService = webdriver.ChromeService(executable_path='C:\\\\Users\\\\HP\\\\Downloads\\\\chromedriver-win64\\\\chromedriver')\n",
    "\n",
    "driver =webdriver.Chrome()\n",
    "driver.get(website)\n",
    "# driver.quit()"
   ]
  },
  {
   "cell_type": "code",
   "execution_count": 10,
   "id": "436331c4",
   "metadata": {},
   "outputs": [
    {
     "data": {
      "text/plain": [
       "'POPULAR\\nDIAMOND\\n₦ 890,000\\nNew Super Gallant Hawk 2021 Black\\nBrand new supper gallant hawk for your personal/private use.\\nBrand New\\nBlack\\nLagos, Yaba\\nPOPULAR\\nPRICE CUT\\nDIAMOND\\n₦ 883,000\\nTVS Apache 180 RTR 2021 Gold\\nIf you buy this DOUBLE SAVE grade A tricycle keke, you are buying a very neat keke with good engine,...\\nNigerian Used\\nGold\\nLagos, Ikorodu\\nVerified ID\\n₦ 2,200,000\\nKawasaki 2015 Red\\nEngine and transmission Displacement 249.0 ccm (15.19 cubic inches) Engine type Twin,...\\nForeign Used\\nRed\\nLagos, Ojodu\\n₦ 450,000\\nKymco Agility 2022 Red\\nGood egoine nothing to fix\\nNigerian Used\\nRed\\nEnugu, Udi\\n₦ 390,000\\nBajaj Boxer 2019 Red\\nBoth engine and body are good. There\\'s nothing wrong with the machine. Call me on\\nNigerian Used\\nRed\\nOyo, Ogbomosho South\\nVerified ID\\n₦ 2,800,000\\nNew Piaggio 2019\\nBrand new piaggio kary Go cargo for sale. we are a major dealer in all brand of tricycles,...\\nBrand New\\nOther\\nLagos, Agege\\n₦ 1,000,000\\nTVS King Cargo 2022 Yellow\\nBuy and drive home, working perfectly.\\nNigerian Used\\nYellow\\nOgun, Ado-Odo/Ota\\n₦ 950,000\\nTVS 2019 Orange\\nThe keke is in a good form and i have just used it a month. I bought it for higher purchase but the...\\nForeign Used\\nOrange\\nLagos, Ikotun/Igando\\nPOPULAR\\nDIAMOND\\n₦ 1,100,000\\nNew Super Gallant Avenger 2021 Silver\\nThe beatiful and rugged super gallant avenger with led night magic.\\nBrand New\\nSilver\\nLagos, Yaba\\nVerified ID\\nDIAMOND\\n₦ 886,000\\nTVS Apache 180 RTR 2018 Yellow\\n, TVS tricycle is a very neat with perfect engine, neat body, good tyre, neat leather seat, no...\\nNigerian Used\\nYellow\\nLagos, Ikorodu\\n₦ 269,999\\nHonda Today 2019 White\\nThe Honda Today motorcycle Affordable and easily maintained is the bike for you.We can also get you...\\nForeign Used\\nWhite\\nAnambra, Nnewi\\n₦ 500,000\\nMotorcycle 2019 Blue\\n125cc apollo dirt bike Working perfectly Buy and drive Contact me on WhatsApp for more...\\nForeign Used\\nBlue\\nOyo, Ibadan\\n₦ 560,000\\nLifan LF200 2021 White\\nEverything is perfectly working\\nNigerian Used\\nWhite\\nOyo, Ibadan\\n₦ 2,400,000\\nNew Tricycle 2023 Yellow\\nBrand New and have not been driven by any one\\nBrand New\\nYellow\\nAnambra, Awka\\n₦ 550,000\\nSYM Crox 2016 Gray\\nVery neat bike the engine is still very okay\\nForeign Used\\nGray\\nEdo, Benin City\\n₦ 800,000\\nMotorcycle 2022 Blue\\nHarley City Coco 2022 full option up for grab\\nForeign Used\\nBlue\\nLagos, Ikeja\\nPOPULAR\\nDIAMOND\\n₦ 890,000\\nNew Super Gallant Wave 2022 Green\\nBrand new supper gallant wave for your personal/private use.\\nBrand New\\nGreen\\nLagos, Yaba\\nVerified ID\\n₦ 580,000\\nKymco Xciting 2017 Black\\nClean Japanese tokunbo kymco jockey g5 double shock, a perfect bike for long and short trip on a low...\\nForeign Used\\nBlack\\nLagos, Ogba\\n₦ 649,999\\nHonda 2020 White\\nHonda Benly,Neat Foreign used Honda; 3 cable,phone charge capability etc\\nForeign Used\\nWhite\\nAnambra, Nnewi\\n₦ 750,000\\nTVS HLX Plus ES 2023 Black\\nThe motorcycle is in good condition, just 6 month used,\\nNigerian Used\\nBlack\\nOyo, Ido\\n₦ 160,000\\nFlyjet 100cc 2019 Red\\n\"This bike has been my trusted companion for the past 4 years, and it shows! With its worn saddle...\\nNigerian Used\\nRed\\nDelta, Ika South\\n₦ 480,000\\nHaojue HJ110-5 2022 Gray\\nHaojue motorcycle, accident free, neetly used. In good shape and condition clean and okay.\\nNigerian Used\\nGray\\nLagos, Ojodu\\n₦ 550,000\\nHaojue HJ110-2C 2018 Blue\\nSmooth ride in perfect working condition\\nNigerian Used\\nBlue\\nKwara, Ilorin East'"
      ]
     },
     "execution_count": 10,
     "metadata": {},
     "output_type": "execute_result"
    }
   ],
   "source": [
    "from selenium.webdriver.common.by import By\n",
    "item = driver.find_element(By.XPATH, \"//div[@class='masonry-wall b-list-advert__gallery']\")\n",
    "item.text"
   ]
  },
  {
   "cell_type": "code",
   "execution_count": 24,
   "id": "47b6889c",
   "metadata": {},
   "outputs": [
    {
     "data": {
      "text/plain": [
       "[<selenium.webdriver.remote.webelement.WebElement (session=\"71b369de3ae704084c7b7c92e6464d82\", element=\"f.146F21C6007C450EB11C23D350B5E1FB.d.8A7623A6E92541EEDE6B3A686B56FEF1.e.193\")>,\n",
       " <selenium.webdriver.remote.webelement.WebElement (session=\"71b369de3ae704084c7b7c92e6464d82\", element=\"f.146F21C6007C450EB11C23D350B5E1FB.d.8A7623A6E92541EEDE6B3A686B56FEF1.e.194\")>,\n",
       " <selenium.webdriver.remote.webelement.WebElement (session=\"71b369de3ae704084c7b7c92e6464d82\", element=\"f.146F21C6007C450EB11C23D350B5E1FB.d.8A7623A6E92541EEDE6B3A686B56FEF1.e.195\")>,\n",
       " <selenium.webdriver.remote.webelement.WebElement (session=\"71b369de3ae704084c7b7c92e6464d82\", element=\"f.146F21C6007C450EB11C23D350B5E1FB.d.8A7623A6E92541EEDE6B3A686B56FEF1.e.196\")>,\n",
       " <selenium.webdriver.remote.webelement.WebElement (session=\"71b369de3ae704084c7b7c92e6464d82\", element=\"f.146F21C6007C450EB11C23D350B5E1FB.d.8A7623A6E92541EEDE6B3A686B56FEF1.e.197\")>,\n",
       " <selenium.webdriver.remote.webelement.WebElement (session=\"71b369de3ae704084c7b7c92e6464d82\", element=\"f.146F21C6007C450EB11C23D350B5E1FB.d.8A7623A6E92541EEDE6B3A686B56FEF1.e.198\")>,\n",
       " <selenium.webdriver.remote.webelement.WebElement (session=\"71b369de3ae704084c7b7c92e6464d82\", element=\"f.146F21C6007C450EB11C23D350B5E1FB.d.8A7623A6E92541EEDE6B3A686B56FEF1.e.199\")>,\n",
       " <selenium.webdriver.remote.webelement.WebElement (session=\"71b369de3ae704084c7b7c92e6464d82\", element=\"f.146F21C6007C450EB11C23D350B5E1FB.d.8A7623A6E92541EEDE6B3A686B56FEF1.e.200\")>,\n",
       " <selenium.webdriver.remote.webelement.WebElement (session=\"71b369de3ae704084c7b7c92e6464d82\", element=\"f.146F21C6007C450EB11C23D350B5E1FB.d.8A7623A6E92541EEDE6B3A686B56FEF1.e.201\")>,\n",
       " <selenium.webdriver.remote.webelement.WebElement (session=\"71b369de3ae704084c7b7c92e6464d82\", element=\"f.146F21C6007C450EB11C23D350B5E1FB.d.8A7623A6E92541EEDE6B3A686B56FEF1.e.202\")>,\n",
       " <selenium.webdriver.remote.webelement.WebElement (session=\"71b369de3ae704084c7b7c92e6464d82\", element=\"f.146F21C6007C450EB11C23D350B5E1FB.d.8A7623A6E92541EEDE6B3A686B56FEF1.e.203\")>,\n",
       " <selenium.webdriver.remote.webelement.WebElement (session=\"71b369de3ae704084c7b7c92e6464d82\", element=\"f.146F21C6007C450EB11C23D350B5E1FB.d.8A7623A6E92541EEDE6B3A686B56FEF1.e.204\")>,\n",
       " <selenium.webdriver.remote.webelement.WebElement (session=\"71b369de3ae704084c7b7c92e6464d82\", element=\"f.146F21C6007C450EB11C23D350B5E1FB.d.8A7623A6E92541EEDE6B3A686B56FEF1.e.205\")>,\n",
       " <selenium.webdriver.remote.webelement.WebElement (session=\"71b369de3ae704084c7b7c92e6464d82\", element=\"f.146F21C6007C450EB11C23D350B5E1FB.d.8A7623A6E92541EEDE6B3A686B56FEF1.e.206\")>,\n",
       " <selenium.webdriver.remote.webelement.WebElement (session=\"71b369de3ae704084c7b7c92e6464d82\", element=\"f.146F21C6007C450EB11C23D350B5E1FB.d.8A7623A6E92541EEDE6B3A686B56FEF1.e.207\")>,\n",
       " <selenium.webdriver.remote.webelement.WebElement (session=\"71b369de3ae704084c7b7c92e6464d82\", element=\"f.146F21C6007C450EB11C23D350B5E1FB.d.8A7623A6E92541EEDE6B3A686B56FEF1.e.208\")>,\n",
       " <selenium.webdriver.remote.webelement.WebElement (session=\"71b369de3ae704084c7b7c92e6464d82\", element=\"f.146F21C6007C450EB11C23D350B5E1FB.d.8A7623A6E92541EEDE6B3A686B56FEF1.e.209\")>,\n",
       " <selenium.webdriver.remote.webelement.WebElement (session=\"71b369de3ae704084c7b7c92e6464d82\", element=\"f.146F21C6007C450EB11C23D350B5E1FB.d.8A7623A6E92541EEDE6B3A686B56FEF1.e.210\")>,\n",
       " <selenium.webdriver.remote.webelement.WebElement (session=\"71b369de3ae704084c7b7c92e6464d82\", element=\"f.146F21C6007C450EB11C23D350B5E1FB.d.8A7623A6E92541EEDE6B3A686B56FEF1.e.211\")>,\n",
       " <selenium.webdriver.remote.webelement.WebElement (session=\"71b369de3ae704084c7b7c92e6464d82\", element=\"f.146F21C6007C450EB11C23D350B5E1FB.d.8A7623A6E92541EEDE6B3A686B56FEF1.e.212\")>,\n",
       " <selenium.webdriver.remote.webelement.WebElement (session=\"71b369de3ae704084c7b7c92e6464d82\", element=\"f.146F21C6007C450EB11C23D350B5E1FB.d.8A7623A6E92541EEDE6B3A686B56FEF1.e.213\")>,\n",
       " <selenium.webdriver.remote.webelement.WebElement (session=\"71b369de3ae704084c7b7c92e6464d82\", element=\"f.146F21C6007C450EB11C23D350B5E1FB.d.8A7623A6E92541EEDE6B3A686B56FEF1.e.214\")>,\n",
       " <selenium.webdriver.remote.webelement.WebElement (session=\"71b369de3ae704084c7b7c92e6464d82\", element=\"f.146F21C6007C450EB11C23D350B5E1FB.d.8A7623A6E92541EEDE6B3A686B56FEF1.e.215\")>]"
      ]
     },
     "execution_count": 24,
     "metadata": {},
     "output_type": "execute_result"
    }
   ],
   "source": [
    "# price = driver.find_elements(By.XPATH, \"//div[@class='qa-advert-price']\")\n",
    "# for i in price:\n",
    "#     print(i.text)\n",
    "title = driver.find_elements(By.XPATH, \"//div[@class='b-advert-title-inner qa-advert-title b-advert-title-inner--div']\")\n",
    "description = driver.find_elements(By.XPATH, \"//div[@class='b-list-advert-base__description-text']\")"
   ]
  },
  {
   "cell_type": "code",
   "execution_count": null,
   "id": "34860bd5",
   "metadata": {},
   "outputs": [],
   "source": []
  }
 ],
 "metadata": {
  "kernelspec": {
   "display_name": "Python 3 (ipykernel)",
   "language": "python",
   "name": "python3"
  },
  "language_info": {
   "codemirror_mode": {
    "name": "ipython",
    "version": 3
   },
   "file_extension": ".py",
   "mimetype": "text/x-python",
   "name": "python",
   "nbconvert_exporter": "python",
   "pygments_lexer": "ipython3",
   "version": "3.9.13"
  }
 },
 "nbformat": 4,
 "nbformat_minor": 5
}
